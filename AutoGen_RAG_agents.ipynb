{
  "cells": [
    {
      "cell_type": "code",
      "execution_count": null,
      "metadata": {
        "colab": {
          "base_uri": "https://localhost:8080/"
        },
        "id": "BHPHBqqvOHZs",
        "outputId": "d2e4eece-70a6-4ef1-98ea-6ef9afa9a5d2",
        "collapsed": true
      },
      "outputs": [
        {
          "output_type": "stream",
          "name": "stdout",
          "text": [
            "Collecting pyautogen\n",
            "  Downloading pyautogen-0.4.1-py3-none-any.whl.metadata (25 kB)\n",
            "Requirement already satisfied: sentence_transformers in /usr/local/lib/python3.10/dist-packages (3.2.1)\n",
            "Collecting pypdf\n",
            "  Downloading pypdf-5.1.0-py3-none-any.whl.metadata (7.2 kB)\n",
            "Collecting chromadb\n",
            "  Downloading chromadb-0.5.20-py3-none-any.whl.metadata (6.8 kB)\n",
            "Collecting diskcache (from pyautogen)\n",
            "  Downloading diskcache-5.6.3-py3-none-any.whl.metadata (20 kB)\n",
            "Collecting docker (from pyautogen)\n",
            "  Downloading docker-7.1.0-py3-none-any.whl.metadata (3.8 kB)\n",
            "Collecting flaml (from pyautogen)\n",
            "  Downloading FLAML-2.3.2-py3-none-any.whl.metadata (16 kB)\n",
            "Requirement already satisfied: openai>=1.3 in /usr/local/lib/python3.10/dist-packages (from pyautogen) (1.54.4)\n",
            "Requirement already satisfied: packaging in /usr/local/lib/python3.10/dist-packages (from pyautogen) (24.2)\n",
            "Requirement already satisfied: pydantic!=2.6.0,<3,>=1.10 in /usr/local/lib/python3.10/dist-packages (from pyautogen) (2.9.2)\n",
            "Collecting python-dotenv (from pyautogen)\n",
            "  Downloading python_dotenv-1.0.1-py3-none-any.whl.metadata (23 kB)\n",
            "Requirement already satisfied: termcolor in /usr/local/lib/python3.10/dist-packages (from pyautogen) (2.5.0)\n",
            "Collecting tiktoken (from pyautogen)\n",
            "  Downloading tiktoken-0.8.0-cp310-cp310-manylinux_2_17_x86_64.manylinux2014_x86_64.whl.metadata (6.6 kB)\n",
            "Requirement already satisfied: numpy<2.0.0,>=1.24.0 in /usr/local/lib/python3.10/dist-packages (from pyautogen) (1.26.4)\n",
            "Requirement already satisfied: transformers<5.0.0,>=4.41.0 in /usr/local/lib/python3.10/dist-packages (from sentence_transformers) (4.46.2)\n",
            "Requirement already satisfied: tqdm in /usr/local/lib/python3.10/dist-packages (from sentence_transformers) (4.66.6)\n",
            "Requirement already satisfied: torch>=1.11.0 in /usr/local/lib/python3.10/dist-packages (from sentence_transformers) (2.5.1+cu121)\n",
            "Requirement already satisfied: scikit-learn in /usr/local/lib/python3.10/dist-packages (from sentence_transformers) (1.5.2)\n",
            "Requirement already satisfied: scipy in /usr/local/lib/python3.10/dist-packages (from sentence_transformers) (1.13.1)\n",
            "Requirement already satisfied: huggingface-hub>=0.20.0 in /usr/local/lib/python3.10/dist-packages (from sentence_transformers) (0.26.2)\n",
            "Requirement already satisfied: Pillow in /usr/local/lib/python3.10/dist-packages (from sentence_transformers) (11.0.0)\n",
            "Requirement already satisfied: typing_extensions>=4.0 in /usr/local/lib/python3.10/dist-packages (from pypdf) (4.12.2)\n",
            "Collecting build>=1.0.3 (from chromadb)\n",
            "  Downloading build-1.2.2.post1-py3-none-any.whl.metadata (6.5 kB)\n",
            "Collecting chroma-hnswlib==0.7.6 (from chromadb)\n",
            "  Downloading chroma_hnswlib-0.7.6-cp310-cp310-manylinux_2_17_x86_64.manylinux2014_x86_64.whl.metadata (252 bytes)\n",
            "Collecting fastapi>=0.95.2 (from chromadb)\n",
            "  Downloading fastapi-0.115.5-py3-none-any.whl.metadata (27 kB)\n",
            "Collecting uvicorn>=0.18.3 (from uvicorn[standard]>=0.18.3->chromadb)\n",
            "  Downloading uvicorn-0.32.1-py3-none-any.whl.metadata (6.6 kB)\n",
            "Collecting posthog>=2.4.0 (from chromadb)\n",
            "  Downloading posthog-3.7.4-py2.py3-none-any.whl.metadata (2.0 kB)\n",
            "Collecting onnxruntime>=1.14.1 (from chromadb)\n",
            "  Downloading onnxruntime-1.20.1-cp310-cp310-manylinux_2_27_x86_64.manylinux_2_28_x86_64.whl.metadata (4.5 kB)\n",
            "Requirement already satisfied: opentelemetry-api>=1.2.0 in /usr/local/lib/python3.10/dist-packages (from chromadb) (1.28.2)\n",
            "Collecting opentelemetry-exporter-otlp-proto-grpc>=1.2.0 (from chromadb)\n",
            "  Downloading opentelemetry_exporter_otlp_proto_grpc-1.28.2-py3-none-any.whl.metadata (2.2 kB)\n",
            "Collecting opentelemetry-instrumentation-fastapi>=0.41b0 (from chromadb)\n",
            "  Downloading opentelemetry_instrumentation_fastapi-0.49b2-py3-none-any.whl.metadata (2.1 kB)\n",
            "Requirement already satisfied: opentelemetry-sdk>=1.2.0 in /usr/local/lib/python3.10/dist-packages (from chromadb) (1.28.2)\n",
            "Requirement already satisfied: tokenizers>=0.13.2 in /usr/local/lib/python3.10/dist-packages (from chromadb) (0.20.3)\n",
            "Collecting pypika>=0.48.9 (from chromadb)\n",
            "  Downloading PyPika-0.48.9.tar.gz (67 kB)\n",
            "\u001b[2K     \u001b[90m━━━━━━━━━━━━━━━━━━━━━━━━━━━━━━━━━━━━━━━━\u001b[0m \u001b[32m67.3/67.3 kB\u001b[0m \u001b[31m2.9 MB/s\u001b[0m eta \u001b[36m0:00:00\u001b[0m\n",
            "\u001b[?25h  Installing build dependencies ... \u001b[?25l\u001b[?25hdone\n",
            "  Getting requirements to build wheel ... \u001b[?25l\u001b[?25hdone\n",
            "  Preparing metadata (pyproject.toml) ... \u001b[?25l\u001b[?25hdone\n",
            "Collecting overrides>=7.3.1 (from chromadb)\n",
            "  Downloading overrides-7.7.0-py3-none-any.whl.metadata (5.8 kB)\n",
            "Requirement already satisfied: importlib-resources in /usr/local/lib/python3.10/dist-packages (from chromadb) (6.4.5)\n",
            "Requirement already satisfied: grpcio>=1.58.0 in /usr/local/lib/python3.10/dist-packages (from chromadb) (1.68.0)\n",
            "Collecting bcrypt>=4.0.1 (from chromadb)\n",
            "  Downloading bcrypt-4.2.1-cp39-abi3-manylinux_2_28_x86_64.whl.metadata (9.8 kB)\n",
            "Requirement already satisfied: typer>=0.9.0 in /usr/local/lib/python3.10/dist-packages (from chromadb) (0.13.0)\n",
            "Collecting kubernetes>=28.1.0 (from chromadb)\n",
            "  Downloading kubernetes-31.0.0-py2.py3-none-any.whl.metadata (1.5 kB)\n",
            "Requirement already satisfied: tenacity>=8.2.3 in /usr/local/lib/python3.10/dist-packages (from chromadb) (9.0.0)\n",
            "Requirement already satisfied: PyYAML>=6.0.0 in /usr/local/lib/python3.10/dist-packages (from chromadb) (6.0.2)\n",
            "Collecting mmh3>=4.0.1 (from chromadb)\n",
            "  Downloading mmh3-5.0.1-cp310-cp310-manylinux_2_5_x86_64.manylinux1_x86_64.manylinux_2_17_x86_64.manylinux2014_x86_64.whl.metadata (14 kB)\n",
            "Requirement already satisfied: orjson>=3.9.12 in /usr/local/lib/python3.10/dist-packages (from chromadb) (3.10.11)\n",
            "Requirement already satisfied: httpx>=0.27.0 in /usr/local/lib/python3.10/dist-packages (from chromadb) (0.27.2)\n",
            "Requirement already satisfied: rich>=10.11.0 in /usr/local/lib/python3.10/dist-packages (from chromadb) (13.9.4)\n",
            "Collecting pyproject_hooks (from build>=1.0.3->chromadb)\n",
            "  Downloading pyproject_hooks-1.2.0-py3-none-any.whl.metadata (1.3 kB)\n",
            "Requirement already satisfied: tomli>=1.1.0 in /usr/local/lib/python3.10/dist-packages (from build>=1.0.3->chromadb) (2.1.0)\n",
            "Collecting starlette<0.42.0,>=0.40.0 (from fastapi>=0.95.2->chromadb)\n",
            "  Downloading starlette-0.41.3-py3-none-any.whl.metadata (6.0 kB)\n",
            "Requirement already satisfied: anyio in /usr/local/lib/python3.10/dist-packages (from httpx>=0.27.0->chromadb) (3.7.1)\n",
            "Requirement already satisfied: certifi in /usr/local/lib/python3.10/dist-packages (from httpx>=0.27.0->chromadb) (2024.8.30)\n",
            "Requirement already satisfied: httpcore==1.* in /usr/local/lib/python3.10/dist-packages (from httpx>=0.27.0->chromadb) (1.0.7)\n",
            "Requirement already satisfied: idna in /usr/local/lib/python3.10/dist-packages (from httpx>=0.27.0->chromadb) (3.10)\n",
            "Requirement already satisfied: sniffio in /usr/local/lib/python3.10/dist-packages (from httpx>=0.27.0->chromadb) (1.3.1)\n",
            "Requirement already satisfied: h11<0.15,>=0.13 in /usr/local/lib/python3.10/dist-packages (from httpcore==1.*->httpx>=0.27.0->chromadb) (0.14.0)\n",
            "Requirement already satisfied: filelock in /usr/local/lib/python3.10/dist-packages (from huggingface-hub>=0.20.0->sentence_transformers) (3.16.1)\n",
            "Requirement already satisfied: fsspec>=2023.5.0 in /usr/local/lib/python3.10/dist-packages (from huggingface-hub>=0.20.0->sentence_transformers) (2024.10.0)\n",
            "Requirement already satisfied: requests in /usr/local/lib/python3.10/dist-packages (from huggingface-hub>=0.20.0->sentence_transformers) (2.32.3)\n",
            "Requirement already satisfied: six>=1.9.0 in /usr/local/lib/python3.10/dist-packages (from kubernetes>=28.1.0->chromadb) (1.16.0)\n",
            "Requirement already satisfied: python-dateutil>=2.5.3 in /usr/local/lib/python3.10/dist-packages (from kubernetes>=28.1.0->chromadb) (2.8.2)\n",
            "Requirement already satisfied: google-auth>=1.0.1 in /usr/local/lib/python3.10/dist-packages (from kubernetes>=28.1.0->chromadb) (2.27.0)\n",
            "Requirement already satisfied: websocket-client!=0.40.0,!=0.41.*,!=0.42.*,>=0.32.0 in /usr/local/lib/python3.10/dist-packages (from kubernetes>=28.1.0->chromadb) (1.8.0)\n",
            "Requirement already satisfied: requests-oauthlib in /usr/local/lib/python3.10/dist-packages (from kubernetes>=28.1.0->chromadb) (1.3.1)\n",
            "Requirement already satisfied: oauthlib>=3.2.2 in /usr/local/lib/python3.10/dist-packages (from kubernetes>=28.1.0->chromadb) (3.2.2)\n",
            "Requirement already satisfied: urllib3>=1.24.2 in /usr/local/lib/python3.10/dist-packages (from kubernetes>=28.1.0->chromadb) (2.2.3)\n",
            "Collecting durationpy>=0.7 (from kubernetes>=28.1.0->chromadb)\n",
            "  Downloading durationpy-0.9-py3-none-any.whl.metadata (338 bytes)\n",
            "Collecting coloredlogs (from onnxruntime>=1.14.1->chromadb)\n",
            "  Downloading coloredlogs-15.0.1-py2.py3-none-any.whl.metadata (12 kB)\n",
            "Requirement already satisfied: flatbuffers in /usr/local/lib/python3.10/dist-packages (from onnxruntime>=1.14.1->chromadb) (24.3.25)\n",
            "Requirement already satisfied: protobuf in /usr/local/lib/python3.10/dist-packages (from onnxruntime>=1.14.1->chromadb) (4.25.5)\n",
            "Requirement already satisfied: sympy in /usr/local/lib/python3.10/dist-packages (from onnxruntime>=1.14.1->chromadb) (1.13.1)\n",
            "Requirement already satisfied: distro<2,>=1.7.0 in /usr/local/lib/python3.10/dist-packages (from openai>=1.3->pyautogen) (1.9.0)\n",
            "Requirement already satisfied: jiter<1,>=0.4.0 in /usr/local/lib/python3.10/dist-packages (from openai>=1.3->pyautogen) (0.7.1)\n",
            "Requirement already satisfied: deprecated>=1.2.6 in /usr/local/lib/python3.10/dist-packages (from opentelemetry-api>=1.2.0->chromadb) (1.2.15)\n",
            "Requirement already satisfied: importlib-metadata<=8.5.0,>=6.0 in /usr/local/lib/python3.10/dist-packages (from opentelemetry-api>=1.2.0->chromadb) (8.5.0)\n",
            "Requirement already satisfied: googleapis-common-protos~=1.52 in /usr/local/lib/python3.10/dist-packages (from opentelemetry-exporter-otlp-proto-grpc>=1.2.0->chromadb) (1.66.0)\n",
            "Collecting opentelemetry-exporter-otlp-proto-common==1.28.2 (from opentelemetry-exporter-otlp-proto-grpc>=1.2.0->chromadb)\n",
            "  Downloading opentelemetry_exporter_otlp_proto_common-1.28.2-py3-none-any.whl.metadata (1.8 kB)\n",
            "Collecting opentelemetry-proto==1.28.2 (from opentelemetry-exporter-otlp-proto-grpc>=1.2.0->chromadb)\n",
            "  Downloading opentelemetry_proto-1.28.2-py3-none-any.whl.metadata (2.3 kB)\n",
            "Collecting protobuf (from onnxruntime>=1.14.1->chromadb)\n",
            "  Downloading protobuf-5.29.0-cp38-abi3-manylinux2014_x86_64.whl.metadata (592 bytes)\n",
            "Collecting opentelemetry-instrumentation-asgi==0.49b2 (from opentelemetry-instrumentation-fastapi>=0.41b0->chromadb)\n",
            "  Downloading opentelemetry_instrumentation_asgi-0.49b2-py3-none-any.whl.metadata (1.9 kB)\n",
            "Collecting opentelemetry-instrumentation==0.49b2 (from opentelemetry-instrumentation-fastapi>=0.41b0->chromadb)\n",
            "  Downloading opentelemetry_instrumentation-0.49b2-py3-none-any.whl.metadata (6.1 kB)\n",
            "Requirement already satisfied: opentelemetry-semantic-conventions==0.49b2 in /usr/local/lib/python3.10/dist-packages (from opentelemetry-instrumentation-fastapi>=0.41b0->chromadb) (0.49b2)\n",
            "Collecting opentelemetry-util-http==0.49b2 (from opentelemetry-instrumentation-fastapi>=0.41b0->chromadb)\n",
            "  Downloading opentelemetry_util_http-0.49b2-py3-none-any.whl.metadata (2.5 kB)\n",
            "Requirement already satisfied: wrapt<2.0.0,>=1.0.0 in /usr/local/lib/python3.10/dist-packages (from opentelemetry-instrumentation==0.49b2->opentelemetry-instrumentation-fastapi>=0.41b0->chromadb) (1.16.0)\n",
            "Collecting asgiref~=3.0 (from opentelemetry-instrumentation-asgi==0.49b2->opentelemetry-instrumentation-fastapi>=0.41b0->chromadb)\n",
            "  Downloading asgiref-3.8.1-py3-none-any.whl.metadata (9.3 kB)\n",
            "Collecting monotonic>=1.5 (from posthog>=2.4.0->chromadb)\n",
            "  Downloading monotonic-1.6-py2.py3-none-any.whl.metadata (1.5 kB)\n",
            "Collecting backoff>=1.10.0 (from posthog>=2.4.0->chromadb)\n",
            "  Downloading backoff-2.2.1-py3-none-any.whl.metadata (14 kB)\n",
            "Requirement already satisfied: annotated-types>=0.6.0 in /usr/local/lib/python3.10/dist-packages (from pydantic!=2.6.0,<3,>=1.10->pyautogen) (0.7.0)\n",
            "Requirement already satisfied: pydantic-core==2.23.4 in /usr/local/lib/python3.10/dist-packages (from pydantic!=2.6.0,<3,>=1.10->pyautogen) (2.23.4)\n",
            "Requirement already satisfied: markdown-it-py>=2.2.0 in /usr/local/lib/python3.10/dist-packages (from rich>=10.11.0->chromadb) (3.0.0)\n",
            "Requirement already satisfied: pygments<3.0.0,>=2.13.0 in /usr/local/lib/python3.10/dist-packages (from rich>=10.11.0->chromadb) (2.18.0)\n",
            "Requirement already satisfied: networkx in /usr/local/lib/python3.10/dist-packages (from torch>=1.11.0->sentence_transformers) (3.4.2)\n",
            "Requirement already satisfied: jinja2 in /usr/local/lib/python3.10/dist-packages (from torch>=1.11.0->sentence_transformers) (3.1.4)\n",
            "Requirement already satisfied: mpmath<1.4,>=1.1.0 in /usr/local/lib/python3.10/dist-packages (from sympy->onnxruntime>=1.14.1->chromadb) (1.3.0)\n",
            "Requirement already satisfied: regex!=2019.12.17 in /usr/local/lib/python3.10/dist-packages (from transformers<5.0.0,>=4.41.0->sentence_transformers) (2024.9.11)\n",
            "Requirement already satisfied: safetensors>=0.4.1 in /usr/local/lib/python3.10/dist-packages (from transformers<5.0.0,>=4.41.0->sentence_transformers) (0.4.5)\n",
            "Requirement already satisfied: click>=8.0.0 in /usr/local/lib/python3.10/dist-packages (from typer>=0.9.0->chromadb) (8.1.7)\n",
            "Requirement already satisfied: shellingham>=1.3.0 in /usr/local/lib/python3.10/dist-packages (from typer>=0.9.0->chromadb) (1.5.4)\n",
            "Collecting httptools>=0.6.3 (from uvicorn[standard]>=0.18.3->chromadb)\n",
            "  Downloading httptools-0.6.4-cp310-cp310-manylinux_2_5_x86_64.manylinux1_x86_64.manylinux_2_17_x86_64.manylinux2014_x86_64.whl.metadata (3.6 kB)\n",
            "Collecting uvloop!=0.15.0,!=0.15.1,>=0.14.0 (from uvicorn[standard]>=0.18.3->chromadb)\n",
            "  Downloading uvloop-0.21.0-cp310-cp310-manylinux_2_17_x86_64.manylinux2014_x86_64.whl.metadata (4.9 kB)\n",
            "Collecting watchfiles>=0.13 (from uvicorn[standard]>=0.18.3->chromadb)\n",
            "  Downloading watchfiles-1.0.0-cp310-cp310-manylinux_2_17_x86_64.manylinux2014_x86_64.whl.metadata (4.9 kB)\n",
            "Collecting websockets>=10.4 (from uvicorn[standard]>=0.18.3->chromadb)\n",
            "  Downloading websockets-14.1-cp310-cp310-manylinux_2_5_x86_64.manylinux1_x86_64.manylinux_2_17_x86_64.manylinux2014_x86_64.whl.metadata (6.7 kB)\n",
            "Requirement already satisfied: joblib>=1.2.0 in /usr/local/lib/python3.10/dist-packages (from scikit-learn->sentence_transformers) (1.4.2)\n",
            "Requirement already satisfied: threadpoolctl>=3.1.0 in /usr/local/lib/python3.10/dist-packages (from scikit-learn->sentence_transformers) (3.5.0)\n",
            "Requirement already satisfied: exceptiongroup in /usr/local/lib/python3.10/dist-packages (from anyio->httpx>=0.27.0->chromadb) (1.2.2)\n",
            "Requirement already satisfied: cachetools<6.0,>=2.0.0 in /usr/local/lib/python3.10/dist-packages (from google-auth>=1.0.1->kubernetes>=28.1.0->chromadb) (5.5.0)\n",
            "Requirement already satisfied: pyasn1-modules>=0.2.1 in /usr/local/lib/python3.10/dist-packages (from google-auth>=1.0.1->kubernetes>=28.1.0->chromadb) (0.4.1)\n",
            "Requirement already satisfied: rsa<5,>=3.1.4 in /usr/local/lib/python3.10/dist-packages (from google-auth>=1.0.1->kubernetes>=28.1.0->chromadb) (4.9)\n",
            "Requirement already satisfied: zipp>=3.20 in /usr/local/lib/python3.10/dist-packages (from importlib-metadata<=8.5.0,>=6.0->opentelemetry-api>=1.2.0->chromadb) (3.21.0)\n",
            "Requirement already satisfied: mdurl~=0.1 in /usr/local/lib/python3.10/dist-packages (from markdown-it-py>=2.2.0->rich>=10.11.0->chromadb) (0.1.2)\n",
            "Requirement already satisfied: charset-normalizer<4,>=2 in /usr/local/lib/python3.10/dist-packages (from requests->huggingface-hub>=0.20.0->sentence_transformers) (3.4.0)\n",
            "Collecting humanfriendly>=9.1 (from coloredlogs->onnxruntime>=1.14.1->chromadb)\n",
            "  Downloading humanfriendly-10.0-py2.py3-none-any.whl.metadata (9.2 kB)\n",
            "Requirement already satisfied: MarkupSafe>=2.0 in /usr/local/lib/python3.10/dist-packages (from jinja2->torch>=1.11.0->sentence_transformers) (3.0.2)\n",
            "Requirement already satisfied: pyasn1<0.7.0,>=0.4.6 in /usr/local/lib/python3.10/dist-packages (from pyasn1-modules>=0.2.1->google-auth>=1.0.1->kubernetes>=28.1.0->chromadb) (0.6.1)\n",
            "Downloading pyautogen-0.4.1-py3-none-any.whl (404 kB)\n",
            "\u001b[2K   \u001b[90m━━━━━━━━━━━━━━━━━━━━━━━━━━━━━━━━━━━━━━━━\u001b[0m \u001b[32m404.5/404.5 kB\u001b[0m \u001b[31m10.7 MB/s\u001b[0m eta \u001b[36m0:00:00\u001b[0m\n",
            "\u001b[?25hDownloading pypdf-5.1.0-py3-none-any.whl (297 kB)\n",
            "\u001b[2K   \u001b[90m━━━━━━━━━━━━━━━━━━━━━━━━━━━━━━━━━━━━━━━━\u001b[0m \u001b[32m298.0/298.0 kB\u001b[0m \u001b[31m17.1 MB/s\u001b[0m eta \u001b[36m0:00:00\u001b[0m\n",
            "\u001b[?25hDownloading chromadb-0.5.20-py3-none-any.whl (617 kB)\n",
            "\u001b[2K   \u001b[90m━━━━━━━━━━━━━━━━━━━━━━━━━━━━━━━━━━━━━━━━\u001b[0m \u001b[32m617.9/617.9 kB\u001b[0m \u001b[31m27.4 MB/s\u001b[0m eta \u001b[36m0:00:00\u001b[0m\n",
            "\u001b[?25hDownloading chroma_hnswlib-0.7.6-cp310-cp310-manylinux_2_17_x86_64.manylinux2014_x86_64.whl (2.4 MB)\n",
            "\u001b[2K   \u001b[90m━━━━━━━━━━━━━━━━━━━━━━━━━━━━━━━━━━━━━━━━\u001b[0m \u001b[32m2.4/2.4 MB\u001b[0m \u001b[31m57.6 MB/s\u001b[0m eta \u001b[36m0:00:00\u001b[0m\n",
            "\u001b[?25hDownloading bcrypt-4.2.1-cp39-abi3-manylinux_2_28_x86_64.whl (278 kB)\n",
            "\u001b[2K   \u001b[90m━━━━━━━━━━━━━━━━━━━━━━━━━━━━━━━━━━━━━━━━\u001b[0m \u001b[32m278.6/278.6 kB\u001b[0m \u001b[31m16.9 MB/s\u001b[0m eta \u001b[36m0:00:00\u001b[0m\n",
            "\u001b[?25hDownloading build-1.2.2.post1-py3-none-any.whl (22 kB)\n",
            "Downloading fastapi-0.115.5-py3-none-any.whl (94 kB)\n",
            "\u001b[2K   \u001b[90m━━━━━━━━━━━━━━━━━━━━━━━━━━━━━━━━━━━━━━━━\u001b[0m \u001b[32m94.9/94.9 kB\u001b[0m \u001b[31m7.0 MB/s\u001b[0m eta \u001b[36m0:00:00\u001b[0m\n",
            "\u001b[?25hDownloading kubernetes-31.0.0-py2.py3-none-any.whl (1.9 MB)\n",
            "\u001b[2K   \u001b[90m━━━━━━━━━━━━━━━━━━━━━━━━━━━━━━━━━━━━━━━━\u001b[0m \u001b[32m1.9/1.9 MB\u001b[0m \u001b[31m62.3 MB/s\u001b[0m eta \u001b[36m0:00:00\u001b[0m\n",
            "\u001b[?25hDownloading mmh3-5.0.1-cp310-cp310-manylinux_2_5_x86_64.manylinux1_x86_64.manylinux_2_17_x86_64.manylinux2014_x86_64.whl (93 kB)\n",
            "\u001b[2K   \u001b[90m━━━━━━━━━━━━━━━━━━━━━━━━━━━━━━━━━━━━━━━━\u001b[0m \u001b[32m93.2/93.2 kB\u001b[0m \u001b[31m6.1 MB/s\u001b[0m eta \u001b[36m0:00:00\u001b[0m\n",
            "\u001b[?25hDownloading onnxruntime-1.20.1-cp310-cp310-manylinux_2_27_x86_64.manylinux_2_28_x86_64.whl (13.3 MB)\n",
            "\u001b[2K   \u001b[90m━━━━━━━━━━━━━━━━━━━━━━━━━━━━━━━━━━━━━━━━\u001b[0m \u001b[32m13.3/13.3 MB\u001b[0m \u001b[31m84.1 MB/s\u001b[0m eta \u001b[36m0:00:00\u001b[0m\n",
            "\u001b[?25hDownloading opentelemetry_exporter_otlp_proto_grpc-1.28.2-py3-none-any.whl (18 kB)\n",
            "Downloading opentelemetry_exporter_otlp_proto_common-1.28.2-py3-none-any.whl (18 kB)\n",
            "Downloading opentelemetry_proto-1.28.2-py3-none-any.whl (55 kB)\n",
            "\u001b[2K   \u001b[90m━━━━━━━━━━━━━━━━━━━━━━━━━━━━━━━━━━━━━━━━\u001b[0m \u001b[32m55.8/55.8 kB\u001b[0m \u001b[31m3.4 MB/s\u001b[0m eta \u001b[36m0:00:00\u001b[0m\n",
            "\u001b[?25hDownloading opentelemetry_instrumentation_fastapi-0.49b2-py3-none-any.whl (12 kB)\n",
            "Downloading opentelemetry_instrumentation-0.49b2-py3-none-any.whl (30 kB)\n",
            "Downloading opentelemetry_instrumentation_asgi-0.49b2-py3-none-any.whl (16 kB)\n",
            "Downloading opentelemetry_util_http-0.49b2-py3-none-any.whl (6.9 kB)\n",
            "Downloading overrides-7.7.0-py3-none-any.whl (17 kB)\n",
            "Downloading posthog-3.7.4-py2.py3-none-any.whl (54 kB)\n",
            "\u001b[2K   \u001b[90m━━━━━━━━━━━━━━━━━━━━━━━━━━━━━━━━━━━━━━━━\u001b[0m \u001b[32m54.8/54.8 kB\u001b[0m \u001b[31m3.6 MB/s\u001b[0m eta \u001b[36m0:00:00\u001b[0m\n",
            "\u001b[?25hDownloading uvicorn-0.32.1-py3-none-any.whl (63 kB)\n",
            "\u001b[2K   \u001b[90m━━━━━━━━━━━━━━━━━━━━━━━━━━━━━━━━━━━━━━━━\u001b[0m \u001b[32m63.8/63.8 kB\u001b[0m \u001b[31m4.4 MB/s\u001b[0m eta \u001b[36m0:00:00\u001b[0m\n",
            "\u001b[?25hDownloading python_dotenv-1.0.1-py3-none-any.whl (19 kB)\n",
            "Downloading diskcache-5.6.3-py3-none-any.whl (45 kB)\n",
            "\u001b[2K   \u001b[90m━━━━━━━━━━━━━━━━━━━━━━━━━━━━━━━━━━━━━━━━\u001b[0m \u001b[32m45.5/45.5 kB\u001b[0m \u001b[31m2.9 MB/s\u001b[0m eta \u001b[36m0:00:00\u001b[0m\n",
            "\u001b[?25hDownloading docker-7.1.0-py3-none-any.whl (147 kB)\n",
            "\u001b[2K   \u001b[90m━━━━━━━━━━━━━━━━━━━━━━━━━━━━━━━━━━━━━━━━\u001b[0m \u001b[32m147.8/147.8 kB\u001b[0m \u001b[31m10.1 MB/s\u001b[0m eta \u001b[36m0:00:00\u001b[0m\n",
            "\u001b[?25hDownloading FLAML-2.3.2-py3-none-any.whl (313 kB)\n",
            "\u001b[2K   \u001b[90m━━━━━━━━━━━━━━━━━━━━━━━━━━━━━━━━━━━━━━━━\u001b[0m \u001b[32m313.9/313.9 kB\u001b[0m \u001b[31m17.7 MB/s\u001b[0m eta \u001b[36m0:00:00\u001b[0m\n",
            "\u001b[?25hDownloading tiktoken-0.8.0-cp310-cp310-manylinux_2_17_x86_64.manylinux2014_x86_64.whl (1.2 MB)\n",
            "\u001b[2K   \u001b[90m━━━━━━━━━━━━━━━━━━━━━━━━━━━━━━━━━━━━━━━━\u001b[0m \u001b[32m1.2/1.2 MB\u001b[0m \u001b[31m47.7 MB/s\u001b[0m eta \u001b[36m0:00:00\u001b[0m\n",
            "\u001b[?25hDownloading backoff-2.2.1-py3-none-any.whl (15 kB)\n",
            "Downloading durationpy-0.9-py3-none-any.whl (3.5 kB)\n",
            "Downloading httptools-0.6.4-cp310-cp310-manylinux_2_5_x86_64.manylinux1_x86_64.manylinux_2_17_x86_64.manylinux2014_x86_64.whl (442 kB)\n",
            "\u001b[2K   \u001b[90m━━━━━━━━━━━━━━━━━━━━━━━━━━━━━━━━━━━━━━━━\u001b[0m \u001b[32m442.1/442.1 kB\u001b[0m \u001b[31m26.0 MB/s\u001b[0m eta \u001b[36m0:00:00\u001b[0m\n",
            "\u001b[?25hDownloading monotonic-1.6-py2.py3-none-any.whl (8.2 kB)\n",
            "Downloading protobuf-5.29.0-cp38-abi3-manylinux2014_x86_64.whl (319 kB)\n",
            "\u001b[2K   \u001b[90m━━━━━━━━━━━━━━━━━━━━━━━━━━━━━━━━━━━━━━━━\u001b[0m \u001b[32m319.7/319.7 kB\u001b[0m \u001b[31m18.0 MB/s\u001b[0m eta \u001b[36m0:00:00\u001b[0m\n",
            "\u001b[?25hDownloading starlette-0.41.3-py3-none-any.whl (73 kB)\n",
            "\u001b[2K   \u001b[90m━━━━━━━━━━━━━━━━━━━━━━━━━━━━━━━━━━━━━━━━\u001b[0m \u001b[32m73.2/73.2 kB\u001b[0m \u001b[31m5.1 MB/s\u001b[0m eta \u001b[36m0:00:00\u001b[0m\n",
            "\u001b[?25hDownloading uvloop-0.21.0-cp310-cp310-manylinux_2_17_x86_64.manylinux2014_x86_64.whl (3.8 MB)\n",
            "\u001b[2K   \u001b[90m━━━━━━━━━━━━━━━━━━━━━━━━━━━━━━━━━━━━━━━━\u001b[0m \u001b[32m3.8/3.8 MB\u001b[0m \u001b[31m77.5 MB/s\u001b[0m eta \u001b[36m0:00:00\u001b[0m\n",
            "\u001b[?25hDownloading watchfiles-1.0.0-cp310-cp310-manylinux_2_17_x86_64.manylinux2014_x86_64.whl (442 kB)\n",
            "\u001b[2K   \u001b[90m━━━━━━━━━━━━━━━━━━━━━━━━━━━━━━━━━━━━━━━━\u001b[0m \u001b[32m442.6/442.6 kB\u001b[0m \u001b[31m24.2 MB/s\u001b[0m eta \u001b[36m0:00:00\u001b[0m\n",
            "\u001b[?25hDownloading websockets-14.1-cp310-cp310-manylinux_2_5_x86_64.manylinux1_x86_64.manylinux_2_17_x86_64.manylinux2014_x86_64.whl (168 kB)\n",
            "\u001b[2K   \u001b[90m━━━━━━━━━━━━━━━━━━━━━━━━━━━━━━━━━━━━━━━━\u001b[0m \u001b[32m168.2/168.2 kB\u001b[0m \u001b[31m11.9 MB/s\u001b[0m eta \u001b[36m0:00:00\u001b[0m\n",
            "\u001b[?25hDownloading coloredlogs-15.0.1-py2.py3-none-any.whl (46 kB)\n",
            "\u001b[2K   \u001b[90m━━━━━━━━━━━━━━━━━━━━━━━━━━━━━━━━━━━━━━━━\u001b[0m \u001b[32m46.0/46.0 kB\u001b[0m \u001b[31m2.7 MB/s\u001b[0m eta \u001b[36m0:00:00\u001b[0m\n",
            "\u001b[?25hDownloading pyproject_hooks-1.2.0-py3-none-any.whl (10 kB)\n",
            "Downloading asgiref-3.8.1-py3-none-any.whl (23 kB)\n",
            "Downloading humanfriendly-10.0-py2.py3-none-any.whl (86 kB)\n",
            "\u001b[2K   \u001b[90m━━━━━━━━━━━━━━━━━━━━━━━━━━━━━━━━━━━━━━━━\u001b[0m \u001b[32m86.8/86.8 kB\u001b[0m \u001b[31m5.5 MB/s\u001b[0m eta \u001b[36m0:00:00\u001b[0m\n",
            "\u001b[?25hBuilding wheels for collected packages: pypika\n",
            "  Building wheel for pypika (pyproject.toml) ... \u001b[?25l\u001b[?25hdone\n",
            "  Created wheel for pypika: filename=PyPika-0.48.9-py2.py3-none-any.whl size=53725 sha256=aef333228ada92d4b90468d7b1c13d021c7d4d4926b4a868b21d7b3252ed8204\n",
            "  Stored in directory: /root/.cache/pip/wheels/e1/26/51/d0bffb3d2fd82256676d7ad3003faea3bd6dddc9577af665f4\n",
            "Successfully built pypika\n",
            "Installing collected packages: pypika, monotonic, durationpy, websockets, uvloop, uvicorn, python-dotenv, pyproject_hooks, pypdf, protobuf, overrides, opentelemetry-util-http, mmh3, humanfriendly, httptools, flaml, diskcache, chroma-hnswlib, bcrypt, backoff, asgiref, watchfiles, tiktoken, starlette, posthog, opentelemetry-proto, docker, coloredlogs, build, opentelemetry-exporter-otlp-proto-common, onnxruntime, kubernetes, fastapi, pyautogen, opentelemetry-instrumentation, opentelemetry-instrumentation-asgi, opentelemetry-exporter-otlp-proto-grpc, opentelemetry-instrumentation-fastapi, chromadb\n",
            "  Attempting uninstall: protobuf\n",
            "    Found existing installation: protobuf 4.25.5\n",
            "    Uninstalling protobuf-4.25.5:\n",
            "      Successfully uninstalled protobuf-4.25.5\n",
            "\u001b[31mERROR: pip's dependency resolver does not currently take into account all the packages that are installed. This behaviour is the source of the following dependency conflicts.\n",
            "tensorflow 2.17.1 requires protobuf!=4.21.0,!=4.21.1,!=4.21.2,!=4.21.3,!=4.21.4,!=4.21.5,<5.0.0dev,>=3.20.3, but you have protobuf 5.29.0 which is incompatible.\n",
            "tensorflow-metadata 1.13.1 requires protobuf<5,>=3.20.3, but you have protobuf 5.29.0 which is incompatible.\u001b[0m\u001b[31m\n",
            "\u001b[0mSuccessfully installed asgiref-3.8.1 backoff-2.2.1 bcrypt-4.2.1 build-1.2.2.post1 chroma-hnswlib-0.7.6 chromadb-0.5.20 coloredlogs-15.0.1 diskcache-5.6.3 docker-7.1.0 durationpy-0.9 fastapi-0.115.5 flaml-2.3.2 httptools-0.6.4 humanfriendly-10.0 kubernetes-31.0.0 mmh3-5.0.1 monotonic-1.6 onnxruntime-1.20.1 opentelemetry-exporter-otlp-proto-common-1.28.2 opentelemetry-exporter-otlp-proto-grpc-1.28.2 opentelemetry-instrumentation-0.49b2 opentelemetry-instrumentation-asgi-0.49b2 opentelemetry-instrumentation-fastapi-0.49b2 opentelemetry-proto-1.28.2 opentelemetry-util-http-0.49b2 overrides-7.7.0 posthog-3.7.4 protobuf-5.29.0 pyautogen-0.4.1 pypdf-5.1.0 pypika-0.48.9 pyproject_hooks-1.2.0 python-dotenv-1.0.1 starlette-0.41.3 tiktoken-0.8.0 uvicorn-0.32.1 uvloop-0.21.0 watchfiles-1.0.0 websockets-14.1\n",
            "Requirement already satisfied: langchain in /usr/local/lib/python3.10/dist-packages (0.3.7)\n",
            "Collecting langchain-community\n",
            "  Downloading langchain_community-0.3.8-py3-none-any.whl.metadata (2.9 kB)\n",
            "Collecting langchain_chroma\n",
            "  Downloading langchain_chroma-0.1.4-py3-none-any.whl.metadata (1.6 kB)\n",
            "Requirement already satisfied: PyYAML>=5.3 in /usr/local/lib/python3.10/dist-packages (from langchain) (6.0.2)\n",
            "Requirement already satisfied: SQLAlchemy<3,>=1.4 in /usr/local/lib/python3.10/dist-packages (from langchain) (2.0.36)\n",
            "Requirement already satisfied: aiohttp<4.0.0,>=3.8.3 in /usr/local/lib/python3.10/dist-packages (from langchain) (3.11.2)\n",
            "Requirement already satisfied: async-timeout<5.0.0,>=4.0.0 in /usr/local/lib/python3.10/dist-packages (from langchain) (4.0.3)\n",
            "Requirement already satisfied: langchain-core<0.4.0,>=0.3.15 in /usr/local/lib/python3.10/dist-packages (from langchain) (0.3.19)\n",
            "Requirement already satisfied: langchain-text-splitters<0.4.0,>=0.3.0 in /usr/local/lib/python3.10/dist-packages (from langchain) (0.3.2)\n",
            "Requirement already satisfied: langsmith<0.2.0,>=0.1.17 in /usr/local/lib/python3.10/dist-packages (from langchain) (0.1.143)\n",
            "Requirement already satisfied: numpy<2,>=1 in /usr/local/lib/python3.10/dist-packages (from langchain) (1.26.4)\n",
            "Requirement already satisfied: pydantic<3.0.0,>=2.7.4 in /usr/local/lib/python3.10/dist-packages (from langchain) (2.9.2)\n",
            "Requirement already satisfied: requests<3,>=2 in /usr/local/lib/python3.10/dist-packages (from langchain) (2.32.3)\n",
            "Requirement already satisfied: tenacity!=8.4.0,<10,>=8.1.0 in /usr/local/lib/python3.10/dist-packages (from langchain) (9.0.0)\n",
            "Collecting SQLAlchemy<3,>=1.4 (from langchain)\n",
            "  Downloading SQLAlchemy-2.0.35-cp310-cp310-manylinux_2_17_x86_64.manylinux2014_x86_64.whl.metadata (9.6 kB)\n",
            "Collecting dataclasses-json<0.7,>=0.5.7 (from langchain-community)\n",
            "  Downloading dataclasses_json-0.6.7-py3-none-any.whl.metadata (25 kB)\n",
            "Collecting httpx-sse<0.5.0,>=0.4.0 (from langchain-community)\n",
            "  Downloading httpx_sse-0.4.0-py3-none-any.whl.metadata (9.0 kB)\n",
            "Collecting langchain\n",
            "  Downloading langchain-0.3.9-py3-none-any.whl.metadata (7.1 kB)\n",
            "Collecting langchain-core<0.4.0,>=0.3.15 (from langchain)\n",
            "  Downloading langchain_core-0.3.21-py3-none-any.whl.metadata (6.3 kB)\n",
            "Collecting pydantic-settings<3.0.0,>=2.4.0 (from langchain-community)\n",
            "  Downloading pydantic_settings-2.6.1-py3-none-any.whl.metadata (3.5 kB)\n",
            "Requirement already satisfied: chromadb!=0.5.4,!=0.5.5,<0.6.0,>=0.4.0 in /usr/local/lib/python3.10/dist-packages (from langchain_chroma) (0.5.20)\n",
            "Requirement already satisfied: fastapi<1,>=0.95.2 in /usr/local/lib/python3.10/dist-packages (from langchain_chroma) (0.115.5)\n",
            "Requirement already satisfied: aiohappyeyeballs>=2.3.0 in /usr/local/lib/python3.10/dist-packages (from aiohttp<4.0.0,>=3.8.3->langchain) (2.4.3)\n",
            "Requirement already satisfied: aiosignal>=1.1.2 in /usr/local/lib/python3.10/dist-packages (from aiohttp<4.0.0,>=3.8.3->langchain) (1.3.1)\n",
            "Requirement already satisfied: attrs>=17.3.0 in /usr/local/lib/python3.10/dist-packages (from aiohttp<4.0.0,>=3.8.3->langchain) (24.2.0)\n",
            "Requirement already satisfied: frozenlist>=1.1.1 in /usr/local/lib/python3.10/dist-packages (from aiohttp<4.0.0,>=3.8.3->langchain) (1.5.0)\n",
            "Requirement already satisfied: multidict<7.0,>=4.5 in /usr/local/lib/python3.10/dist-packages (from aiohttp<4.0.0,>=3.8.3->langchain) (6.1.0)\n",
            "Requirement already satisfied: propcache>=0.2.0 in /usr/local/lib/python3.10/dist-packages (from aiohttp<4.0.0,>=3.8.3->langchain) (0.2.0)\n",
            "Requirement already satisfied: yarl<2.0,>=1.17.0 in /usr/local/lib/python3.10/dist-packages (from aiohttp<4.0.0,>=3.8.3->langchain) (1.17.2)\n",
            "Requirement already satisfied: build>=1.0.3 in /usr/local/lib/python3.10/dist-packages (from chromadb!=0.5.4,!=0.5.5,<0.6.0,>=0.4.0->langchain_chroma) (1.2.2.post1)\n",
            "Requirement already satisfied: chroma-hnswlib==0.7.6 in /usr/local/lib/python3.10/dist-packages (from chromadb!=0.5.4,!=0.5.5,<0.6.0,>=0.4.0->langchain_chroma) (0.7.6)\n",
            "Requirement already satisfied: uvicorn>=0.18.3 in /usr/local/lib/python3.10/dist-packages (from uvicorn[standard]>=0.18.3->chromadb!=0.5.4,!=0.5.5,<0.6.0,>=0.4.0->langchain_chroma) (0.32.1)\n",
            "Requirement already satisfied: posthog>=2.4.0 in /usr/local/lib/python3.10/dist-packages (from chromadb!=0.5.4,!=0.5.5,<0.6.0,>=0.4.0->langchain_chroma) (3.7.4)\n",
            "Requirement already satisfied: typing-extensions>=4.5.0 in /usr/local/lib/python3.10/dist-packages (from chromadb!=0.5.4,!=0.5.5,<0.6.0,>=0.4.0->langchain_chroma) (4.12.2)\n",
            "Requirement already satisfied: onnxruntime>=1.14.1 in /usr/local/lib/python3.10/dist-packages (from chromadb!=0.5.4,!=0.5.5,<0.6.0,>=0.4.0->langchain_chroma) (1.20.1)\n",
            "Requirement already satisfied: opentelemetry-api>=1.2.0 in /usr/local/lib/python3.10/dist-packages (from chromadb!=0.5.4,!=0.5.5,<0.6.0,>=0.4.0->langchain_chroma) (1.28.2)\n",
            "Requirement already satisfied: opentelemetry-exporter-otlp-proto-grpc>=1.2.0 in /usr/local/lib/python3.10/dist-packages (from chromadb!=0.5.4,!=0.5.5,<0.6.0,>=0.4.0->langchain_chroma) (1.28.2)\n",
            "Requirement already satisfied: opentelemetry-instrumentation-fastapi>=0.41b0 in /usr/local/lib/python3.10/dist-packages (from chromadb!=0.5.4,!=0.5.5,<0.6.0,>=0.4.0->langchain_chroma) (0.49b2)\n",
            "Requirement already satisfied: opentelemetry-sdk>=1.2.0 in /usr/local/lib/python3.10/dist-packages (from chromadb!=0.5.4,!=0.5.5,<0.6.0,>=0.4.0->langchain_chroma) (1.28.2)\n",
            "Requirement already satisfied: tokenizers>=0.13.2 in /usr/local/lib/python3.10/dist-packages (from chromadb!=0.5.4,!=0.5.5,<0.6.0,>=0.4.0->langchain_chroma) (0.20.3)\n",
            "Requirement already satisfied: pypika>=0.48.9 in /usr/local/lib/python3.10/dist-packages (from chromadb!=0.5.4,!=0.5.5,<0.6.0,>=0.4.0->langchain_chroma) (0.48.9)\n",
            "Requirement already satisfied: tqdm>=4.65.0 in /usr/local/lib/python3.10/dist-packages (from chromadb!=0.5.4,!=0.5.5,<0.6.0,>=0.4.0->langchain_chroma) (4.66.6)\n",
            "Requirement already satisfied: overrides>=7.3.1 in /usr/local/lib/python3.10/dist-packages (from chromadb!=0.5.4,!=0.5.5,<0.6.0,>=0.4.0->langchain_chroma) (7.7.0)\n",
            "Requirement already satisfied: importlib-resources in /usr/local/lib/python3.10/dist-packages (from chromadb!=0.5.4,!=0.5.5,<0.6.0,>=0.4.0->langchain_chroma) (6.4.5)\n",
            "Requirement already satisfied: grpcio>=1.58.0 in /usr/local/lib/python3.10/dist-packages (from chromadb!=0.5.4,!=0.5.5,<0.6.0,>=0.4.0->langchain_chroma) (1.68.0)\n",
            "Requirement already satisfied: bcrypt>=4.0.1 in /usr/local/lib/python3.10/dist-packages (from chromadb!=0.5.4,!=0.5.5,<0.6.0,>=0.4.0->langchain_chroma) (4.2.1)\n",
            "Requirement already satisfied: typer>=0.9.0 in /usr/local/lib/python3.10/dist-packages (from chromadb!=0.5.4,!=0.5.5,<0.6.0,>=0.4.0->langchain_chroma) (0.13.0)\n",
            "Requirement already satisfied: kubernetes>=28.1.0 in /usr/local/lib/python3.10/dist-packages (from chromadb!=0.5.4,!=0.5.5,<0.6.0,>=0.4.0->langchain_chroma) (31.0.0)\n",
            "Requirement already satisfied: mmh3>=4.0.1 in /usr/local/lib/python3.10/dist-packages (from chromadb!=0.5.4,!=0.5.5,<0.6.0,>=0.4.0->langchain_chroma) (5.0.1)\n",
            "Requirement already satisfied: orjson>=3.9.12 in /usr/local/lib/python3.10/dist-packages (from chromadb!=0.5.4,!=0.5.5,<0.6.0,>=0.4.0->langchain_chroma) (3.10.11)\n",
            "Requirement already satisfied: httpx>=0.27.0 in /usr/local/lib/python3.10/dist-packages (from chromadb!=0.5.4,!=0.5.5,<0.6.0,>=0.4.0->langchain_chroma) (0.27.2)\n",
            "Requirement already satisfied: rich>=10.11.0 in /usr/local/lib/python3.10/dist-packages (from chromadb!=0.5.4,!=0.5.5,<0.6.0,>=0.4.0->langchain_chroma) (13.9.4)\n",
            "Collecting marshmallow<4.0.0,>=3.18.0 (from dataclasses-json<0.7,>=0.5.7->langchain-community)\n",
            "  Downloading marshmallow-3.23.1-py3-none-any.whl.metadata (7.5 kB)\n",
            "Collecting typing-inspect<1,>=0.4.0 (from dataclasses-json<0.7,>=0.5.7->langchain-community)\n",
            "  Downloading typing_inspect-0.9.0-py3-none-any.whl.metadata (1.5 kB)\n",
            "Requirement already satisfied: starlette<0.42.0,>=0.40.0 in /usr/local/lib/python3.10/dist-packages (from fastapi<1,>=0.95.2->langchain_chroma) (0.41.3)\n",
            "Requirement already satisfied: jsonpatch<2.0,>=1.33 in /usr/local/lib/python3.10/dist-packages (from langchain-core<0.4.0,>=0.3.15->langchain) (1.33)\n",
            "Requirement already satisfied: packaging<25,>=23.2 in /usr/local/lib/python3.10/dist-packages (from langchain-core<0.4.0,>=0.3.15->langchain) (24.2)\n",
            "Requirement already satisfied: requests-toolbelt<2.0.0,>=1.0.0 in /usr/local/lib/python3.10/dist-packages (from langsmith<0.2.0,>=0.1.17->langchain) (1.0.0)\n",
            "Requirement already satisfied: annotated-types>=0.6.0 in /usr/local/lib/python3.10/dist-packages (from pydantic<3.0.0,>=2.7.4->langchain) (0.7.0)\n",
            "Requirement already satisfied: pydantic-core==2.23.4 in /usr/local/lib/python3.10/dist-packages (from pydantic<3.0.0,>=2.7.4->langchain) (2.23.4)\n",
            "Requirement already satisfied: python-dotenv>=0.21.0 in /usr/local/lib/python3.10/dist-packages (from pydantic-settings<3.0.0,>=2.4.0->langchain-community) (1.0.1)\n",
            "Requirement already satisfied: charset-normalizer<4,>=2 in /usr/local/lib/python3.10/dist-packages (from requests<3,>=2->langchain) (3.4.0)\n",
            "Requirement already satisfied: idna<4,>=2.5 in /usr/local/lib/python3.10/dist-packages (from requests<3,>=2->langchain) (3.10)\n",
            "Requirement already satisfied: urllib3<3,>=1.21.1 in /usr/local/lib/python3.10/dist-packages (from requests<3,>=2->langchain) (2.2.3)\n",
            "Requirement already satisfied: certifi>=2017.4.17 in /usr/local/lib/python3.10/dist-packages (from requests<3,>=2->langchain) (2024.8.30)\n",
            "Requirement already satisfied: greenlet!=0.4.17 in /usr/local/lib/python3.10/dist-packages (from SQLAlchemy<3,>=1.4->langchain) (3.1.1)\n",
            "Requirement already satisfied: pyproject_hooks in /usr/local/lib/python3.10/dist-packages (from build>=1.0.3->chromadb!=0.5.4,!=0.5.5,<0.6.0,>=0.4.0->langchain_chroma) (1.2.0)\n",
            "Requirement already satisfied: tomli>=1.1.0 in /usr/local/lib/python3.10/dist-packages (from build>=1.0.3->chromadb!=0.5.4,!=0.5.5,<0.6.0,>=0.4.0->langchain_chroma) (2.1.0)\n",
            "Requirement already satisfied: anyio in /usr/local/lib/python3.10/dist-packages (from httpx>=0.27.0->chromadb!=0.5.4,!=0.5.5,<0.6.0,>=0.4.0->langchain_chroma) (3.7.1)\n",
            "Requirement already satisfied: httpcore==1.* in /usr/local/lib/python3.10/dist-packages (from httpx>=0.27.0->chromadb!=0.5.4,!=0.5.5,<0.6.0,>=0.4.0->langchain_chroma) (1.0.7)\n",
            "Requirement already satisfied: sniffio in /usr/local/lib/python3.10/dist-packages (from httpx>=0.27.0->chromadb!=0.5.4,!=0.5.5,<0.6.0,>=0.4.0->langchain_chroma) (1.3.1)\n",
            "Requirement already satisfied: h11<0.15,>=0.13 in /usr/local/lib/python3.10/dist-packages (from httpcore==1.*->httpx>=0.27.0->chromadb!=0.5.4,!=0.5.5,<0.6.0,>=0.4.0->langchain_chroma) (0.14.0)\n",
            "Requirement already satisfied: jsonpointer>=1.9 in /usr/local/lib/python3.10/dist-packages (from jsonpatch<2.0,>=1.33->langchain-core<0.4.0,>=0.3.15->langchain) (3.0.0)\n",
            "Requirement already satisfied: six>=1.9.0 in /usr/local/lib/python3.10/dist-packages (from kubernetes>=28.1.0->chromadb!=0.5.4,!=0.5.5,<0.6.0,>=0.4.0->langchain_chroma) (1.16.0)\n",
            "Requirement already satisfied: python-dateutil>=2.5.3 in /usr/local/lib/python3.10/dist-packages (from kubernetes>=28.1.0->chromadb!=0.5.4,!=0.5.5,<0.6.0,>=0.4.0->langchain_chroma) (2.8.2)\n",
            "Requirement already satisfied: google-auth>=1.0.1 in /usr/local/lib/python3.10/dist-packages (from kubernetes>=28.1.0->chromadb!=0.5.4,!=0.5.5,<0.6.0,>=0.4.0->langchain_chroma) (2.27.0)\n",
            "Requirement already satisfied: websocket-client!=0.40.0,!=0.41.*,!=0.42.*,>=0.32.0 in /usr/local/lib/python3.10/dist-packages (from kubernetes>=28.1.0->chromadb!=0.5.4,!=0.5.5,<0.6.0,>=0.4.0->langchain_chroma) (1.8.0)\n",
            "Requirement already satisfied: requests-oauthlib in /usr/local/lib/python3.10/dist-packages (from kubernetes>=28.1.0->chromadb!=0.5.4,!=0.5.5,<0.6.0,>=0.4.0->langchain_chroma) (1.3.1)\n",
            "Requirement already satisfied: oauthlib>=3.2.2 in /usr/local/lib/python3.10/dist-packages (from kubernetes>=28.1.0->chromadb!=0.5.4,!=0.5.5,<0.6.0,>=0.4.0->langchain_chroma) (3.2.2)\n",
            "Requirement already satisfied: durationpy>=0.7 in /usr/local/lib/python3.10/dist-packages (from kubernetes>=28.1.0->chromadb!=0.5.4,!=0.5.5,<0.6.0,>=0.4.0->langchain_chroma) (0.9)\n",
            "Requirement already satisfied: coloredlogs in /usr/local/lib/python3.10/dist-packages (from onnxruntime>=1.14.1->chromadb!=0.5.4,!=0.5.5,<0.6.0,>=0.4.0->langchain_chroma) (15.0.1)\n",
            "Requirement already satisfied: flatbuffers in /usr/local/lib/python3.10/dist-packages (from onnxruntime>=1.14.1->chromadb!=0.5.4,!=0.5.5,<0.6.0,>=0.4.0->langchain_chroma) (24.3.25)\n",
            "Requirement already satisfied: protobuf in /usr/local/lib/python3.10/dist-packages (from onnxruntime>=1.14.1->chromadb!=0.5.4,!=0.5.5,<0.6.0,>=0.4.0->langchain_chroma) (5.29.0)\n",
            "Requirement already satisfied: sympy in /usr/local/lib/python3.10/dist-packages (from onnxruntime>=1.14.1->chromadb!=0.5.4,!=0.5.5,<0.6.0,>=0.4.0->langchain_chroma) (1.13.1)\n",
            "Requirement already satisfied: deprecated>=1.2.6 in /usr/local/lib/python3.10/dist-packages (from opentelemetry-api>=1.2.0->chromadb!=0.5.4,!=0.5.5,<0.6.0,>=0.4.0->langchain_chroma) (1.2.15)\n",
            "Requirement already satisfied: importlib-metadata<=8.5.0,>=6.0 in /usr/local/lib/python3.10/dist-packages (from opentelemetry-api>=1.2.0->chromadb!=0.5.4,!=0.5.5,<0.6.0,>=0.4.0->langchain_chroma) (8.5.0)\n",
            "Requirement already satisfied: googleapis-common-protos~=1.52 in /usr/local/lib/python3.10/dist-packages (from opentelemetry-exporter-otlp-proto-grpc>=1.2.0->chromadb!=0.5.4,!=0.5.5,<0.6.0,>=0.4.0->langchain_chroma) (1.66.0)\n",
            "Requirement already satisfied: opentelemetry-exporter-otlp-proto-common==1.28.2 in /usr/local/lib/python3.10/dist-packages (from opentelemetry-exporter-otlp-proto-grpc>=1.2.0->chromadb!=0.5.4,!=0.5.5,<0.6.0,>=0.4.0->langchain_chroma) (1.28.2)\n",
            "Requirement already satisfied: opentelemetry-proto==1.28.2 in /usr/local/lib/python3.10/dist-packages (from opentelemetry-exporter-otlp-proto-grpc>=1.2.0->chromadb!=0.5.4,!=0.5.5,<0.6.0,>=0.4.0->langchain_chroma) (1.28.2)\n",
            "Requirement already satisfied: opentelemetry-instrumentation-asgi==0.49b2 in /usr/local/lib/python3.10/dist-packages (from opentelemetry-instrumentation-fastapi>=0.41b0->chromadb!=0.5.4,!=0.5.5,<0.6.0,>=0.4.0->langchain_chroma) (0.49b2)\n",
            "Requirement already satisfied: opentelemetry-instrumentation==0.49b2 in /usr/local/lib/python3.10/dist-packages (from opentelemetry-instrumentation-fastapi>=0.41b0->chromadb!=0.5.4,!=0.5.5,<0.6.0,>=0.4.0->langchain_chroma) (0.49b2)\n",
            "Requirement already satisfied: opentelemetry-semantic-conventions==0.49b2 in /usr/local/lib/python3.10/dist-packages (from opentelemetry-instrumentation-fastapi>=0.41b0->chromadb!=0.5.4,!=0.5.5,<0.6.0,>=0.4.0->langchain_chroma) (0.49b2)\n",
            "Requirement already satisfied: opentelemetry-util-http==0.49b2 in /usr/local/lib/python3.10/dist-packages (from opentelemetry-instrumentation-fastapi>=0.41b0->chromadb!=0.5.4,!=0.5.5,<0.6.0,>=0.4.0->langchain_chroma) (0.49b2)\n",
            "Requirement already satisfied: wrapt<2.0.0,>=1.0.0 in /usr/local/lib/python3.10/dist-packages (from opentelemetry-instrumentation==0.49b2->opentelemetry-instrumentation-fastapi>=0.41b0->chromadb!=0.5.4,!=0.5.5,<0.6.0,>=0.4.0->langchain_chroma) (1.16.0)\n",
            "Requirement already satisfied: asgiref~=3.0 in /usr/local/lib/python3.10/dist-packages (from opentelemetry-instrumentation-asgi==0.49b2->opentelemetry-instrumentation-fastapi>=0.41b0->chromadb!=0.5.4,!=0.5.5,<0.6.0,>=0.4.0->langchain_chroma) (3.8.1)\n",
            "Requirement already satisfied: monotonic>=1.5 in /usr/local/lib/python3.10/dist-packages (from posthog>=2.4.0->chromadb!=0.5.4,!=0.5.5,<0.6.0,>=0.4.0->langchain_chroma) (1.6)\n",
            "Requirement already satisfied: backoff>=1.10.0 in /usr/local/lib/python3.10/dist-packages (from posthog>=2.4.0->chromadb!=0.5.4,!=0.5.5,<0.6.0,>=0.4.0->langchain_chroma) (2.2.1)\n",
            "Requirement already satisfied: markdown-it-py>=2.2.0 in /usr/local/lib/python3.10/dist-packages (from rich>=10.11.0->chromadb!=0.5.4,!=0.5.5,<0.6.0,>=0.4.0->langchain_chroma) (3.0.0)\n",
            "Requirement already satisfied: pygments<3.0.0,>=2.13.0 in /usr/local/lib/python3.10/dist-packages (from rich>=10.11.0->chromadb!=0.5.4,!=0.5.5,<0.6.0,>=0.4.0->langchain_chroma) (2.18.0)\n",
            "Requirement already satisfied: huggingface-hub<1.0,>=0.16.4 in /usr/local/lib/python3.10/dist-packages (from tokenizers>=0.13.2->chromadb!=0.5.4,!=0.5.5,<0.6.0,>=0.4.0->langchain_chroma) (0.26.2)\n",
            "Requirement already satisfied: click>=8.0.0 in /usr/local/lib/python3.10/dist-packages (from typer>=0.9.0->chromadb!=0.5.4,!=0.5.5,<0.6.0,>=0.4.0->langchain_chroma) (8.1.7)\n",
            "Requirement already satisfied: shellingham>=1.3.0 in /usr/local/lib/python3.10/dist-packages (from typer>=0.9.0->chromadb!=0.5.4,!=0.5.5,<0.6.0,>=0.4.0->langchain_chroma) (1.5.4)\n",
            "Collecting mypy-extensions>=0.3.0 (from typing-inspect<1,>=0.4.0->dataclasses-json<0.7,>=0.5.7->langchain-community)\n",
            "  Downloading mypy_extensions-1.0.0-py3-none-any.whl.metadata (1.1 kB)\n",
            "Requirement already satisfied: httptools>=0.6.3 in /usr/local/lib/python3.10/dist-packages (from uvicorn[standard]>=0.18.3->chromadb!=0.5.4,!=0.5.5,<0.6.0,>=0.4.0->langchain_chroma) (0.6.4)\n",
            "Requirement already satisfied: uvloop!=0.15.0,!=0.15.1,>=0.14.0 in /usr/local/lib/python3.10/dist-packages (from uvicorn[standard]>=0.18.3->chromadb!=0.5.4,!=0.5.5,<0.6.0,>=0.4.0->langchain_chroma) (0.21.0)\n",
            "Requirement already satisfied: watchfiles>=0.13 in /usr/local/lib/python3.10/dist-packages (from uvicorn[standard]>=0.18.3->chromadb!=0.5.4,!=0.5.5,<0.6.0,>=0.4.0->langchain_chroma) (1.0.0)\n",
            "Requirement already satisfied: websockets>=10.4 in /usr/local/lib/python3.10/dist-packages (from uvicorn[standard]>=0.18.3->chromadb!=0.5.4,!=0.5.5,<0.6.0,>=0.4.0->langchain_chroma) (14.1)\n",
            "Requirement already satisfied: exceptiongroup in /usr/local/lib/python3.10/dist-packages (from anyio->httpx>=0.27.0->chromadb!=0.5.4,!=0.5.5,<0.6.0,>=0.4.0->langchain_chroma) (1.2.2)\n",
            "Requirement already satisfied: cachetools<6.0,>=2.0.0 in /usr/local/lib/python3.10/dist-packages (from google-auth>=1.0.1->kubernetes>=28.1.0->chromadb!=0.5.4,!=0.5.5,<0.6.0,>=0.4.0->langchain_chroma) (5.5.0)\n",
            "Requirement already satisfied: pyasn1-modules>=0.2.1 in /usr/local/lib/python3.10/dist-packages (from google-auth>=1.0.1->kubernetes>=28.1.0->chromadb!=0.5.4,!=0.5.5,<0.6.0,>=0.4.0->langchain_chroma) (0.4.1)\n",
            "Requirement already satisfied: rsa<5,>=3.1.4 in /usr/local/lib/python3.10/dist-packages (from google-auth>=1.0.1->kubernetes>=28.1.0->chromadb!=0.5.4,!=0.5.5,<0.6.0,>=0.4.0->langchain_chroma) (4.9)\n",
            "Requirement already satisfied: filelock in /usr/local/lib/python3.10/dist-packages (from huggingface-hub<1.0,>=0.16.4->tokenizers>=0.13.2->chromadb!=0.5.4,!=0.5.5,<0.6.0,>=0.4.0->langchain_chroma) (3.16.1)\n",
            "Requirement already satisfied: fsspec>=2023.5.0 in /usr/local/lib/python3.10/dist-packages (from huggingface-hub<1.0,>=0.16.4->tokenizers>=0.13.2->chromadb!=0.5.4,!=0.5.5,<0.6.0,>=0.4.0->langchain_chroma) (2024.10.0)\n",
            "Requirement already satisfied: zipp>=3.20 in /usr/local/lib/python3.10/dist-packages (from importlib-metadata<=8.5.0,>=6.0->opentelemetry-api>=1.2.0->chromadb!=0.5.4,!=0.5.5,<0.6.0,>=0.4.0->langchain_chroma) (3.21.0)\n",
            "Requirement already satisfied: mdurl~=0.1 in /usr/local/lib/python3.10/dist-packages (from markdown-it-py>=2.2.0->rich>=10.11.0->chromadb!=0.5.4,!=0.5.5,<0.6.0,>=0.4.0->langchain_chroma) (0.1.2)\n",
            "Requirement already satisfied: humanfriendly>=9.1 in /usr/local/lib/python3.10/dist-packages (from coloredlogs->onnxruntime>=1.14.1->chromadb!=0.5.4,!=0.5.5,<0.6.0,>=0.4.0->langchain_chroma) (10.0)\n",
            "Requirement already satisfied: mpmath<1.4,>=1.1.0 in /usr/local/lib/python3.10/dist-packages (from sympy->onnxruntime>=1.14.1->chromadb!=0.5.4,!=0.5.5,<0.6.0,>=0.4.0->langchain_chroma) (1.3.0)\n",
            "Requirement already satisfied: pyasn1<0.7.0,>=0.4.6 in /usr/local/lib/python3.10/dist-packages (from pyasn1-modules>=0.2.1->google-auth>=1.0.1->kubernetes>=28.1.0->chromadb!=0.5.4,!=0.5.5,<0.6.0,>=0.4.0->langchain_chroma) (0.6.1)\n",
            "Downloading langchain_community-0.3.8-py3-none-any.whl (2.4 MB)\n",
            "\u001b[2K   \u001b[90m━━━━━━━━━━━━━━━━━━━━━━━━━━━━━━━━━━━━━━━━\u001b[0m \u001b[32m2.4/2.4 MB\u001b[0m \u001b[31m25.4 MB/s\u001b[0m eta \u001b[36m0:00:00\u001b[0m\n",
            "\u001b[?25hDownloading langchain-0.3.9-py3-none-any.whl (1.0 MB)\n",
            "\u001b[2K   \u001b[90m━━━━━━━━━━━━━━━━━━━━━━━━━━━━━━━━━━━━━━━━\u001b[0m \u001b[32m1.0/1.0 MB\u001b[0m \u001b[31m16.8 MB/s\u001b[0m eta \u001b[36m0:00:00\u001b[0m\n",
            "\u001b[?25hDownloading langchain_chroma-0.1.4-py3-none-any.whl (10 kB)\n",
            "Downloading dataclasses_json-0.6.7-py3-none-any.whl (28 kB)\n",
            "Downloading httpx_sse-0.4.0-py3-none-any.whl (7.8 kB)\n",
            "Downloading langchain_core-0.3.21-py3-none-any.whl (409 kB)\n",
            "\u001b[2K   \u001b[90m━━━━━━━━━━━━━━━━━━━━━━━━━━━━━━━━━━━━━━━━\u001b[0m \u001b[32m409.5/409.5 kB\u001b[0m \u001b[31m20.1 MB/s\u001b[0m eta \u001b[36m0:00:00\u001b[0m\n",
            "\u001b[?25hDownloading pydantic_settings-2.6.1-py3-none-any.whl (28 kB)\n",
            "Downloading SQLAlchemy-2.0.35-cp310-cp310-manylinux_2_17_x86_64.manylinux2014_x86_64.whl (3.1 MB)\n",
            "\u001b[2K   \u001b[90m━━━━━━━━━━━━━━━━━━━━━━━━━━━━━━━━━━━━━━━━\u001b[0m \u001b[32m3.1/3.1 MB\u001b[0m \u001b[31m49.9 MB/s\u001b[0m eta \u001b[36m0:00:00\u001b[0m\n",
            "\u001b[?25hDownloading marshmallow-3.23.1-py3-none-any.whl (49 kB)\n",
            "\u001b[2K   \u001b[90m━━━━━━━━━━━━━━━━━━━━━━━━━━━━━━━━━━━━━━━━\u001b[0m \u001b[32m49.5/49.5 kB\u001b[0m \u001b[31m2.1 MB/s\u001b[0m eta \u001b[36m0:00:00\u001b[0m\n",
            "\u001b[?25hDownloading typing_inspect-0.9.0-py3-none-any.whl (8.8 kB)\n",
            "Downloading mypy_extensions-1.0.0-py3-none-any.whl (4.7 kB)\n",
            "Installing collected packages: SQLAlchemy, mypy-extensions, marshmallow, httpx-sse, typing-inspect, pydantic-settings, dataclasses-json, langchain-core, langchain, langchain-community, langchain_chroma\n",
            "  Attempting uninstall: SQLAlchemy\n",
            "    Found existing installation: SQLAlchemy 2.0.36\n",
            "    Uninstalling SQLAlchemy-2.0.36:\n",
            "      Successfully uninstalled SQLAlchemy-2.0.36\n",
            "  Attempting uninstall: langchain-core\n",
            "    Found existing installation: langchain-core 0.3.19\n",
            "    Uninstalling langchain-core-0.3.19:\n",
            "      Successfully uninstalled langchain-core-0.3.19\n",
            "  Attempting uninstall: langchain\n",
            "    Found existing installation: langchain 0.3.7\n",
            "    Uninstalling langchain-0.3.7:\n",
            "      Successfully uninstalled langchain-0.3.7\n",
            "Successfully installed SQLAlchemy-2.0.35 dataclasses-json-0.6.7 httpx-sse-0.4.0 langchain-0.3.9 langchain-community-0.3.8 langchain-core-0.3.21 langchain_chroma-0.1.4 marshmallow-3.23.1 mypy-extensions-1.0.0 pydantic-settings-2.6.1 typing-inspect-0.9.0\n",
            "Collecting markdownify\n",
            "  Downloading markdownify-0.14.1-py3-none-any.whl.metadata (8.5 kB)\n",
            "Requirement already satisfied: beautifulsoup4<5,>=4.9 in /usr/local/lib/python3.10/dist-packages (from markdownify) (4.12.3)\n",
            "Requirement already satisfied: six<2,>=1.15 in /usr/local/lib/python3.10/dist-packages (from markdownify) (1.16.0)\n",
            "Requirement already satisfied: soupsieve>1.2 in /usr/local/lib/python3.10/dist-packages (from beautifulsoup4<5,>=4.9->markdownify) (2.6)\n",
            "Downloading markdownify-0.14.1-py3-none-any.whl (11 kB)\n",
            "Installing collected packages: markdownify\n",
            "Successfully installed markdownify-0.14.1\n"
          ]
        }
      ],
      "source": [
        "!pip install pyautogen sentence_transformers pypdf chromadb\n",
        "!pip install langchain langchain-community langchain_chroma\n",
        "!pip install markdownify"
      ]
    },
    {
      "cell_type": "code",
      "execution_count": 1,
      "metadata": {
        "id": "lJrB2MmlT0Bi",
        "colab": {
          "base_uri": "https://localhost:8080/"
        },
        "outputId": "763c4136-a053-4192-a27e-f3158df5cd67"
      },
      "outputs": [
        {
          "output_type": "stream",
          "name": "stderr",
          "text": [
            "/usr/local/lib/python3.10/dist-packages/dask/dataframe/__init__.py:42: FutureWarning: \n",
            "Dask dataframe query planning is disabled because dask-expr is not installed.\n",
            "\n",
            "You can install it with `pip install dask[dataframe]` or `conda install dask`.\n",
            "This will raise in a future version.\n",
            "\n",
            "  warnings.warn(msg, FutureWarning)\n"
          ]
        }
      ],
      "source": [
        "import time\n",
        "\n",
        "from typing_extensions import Annotated\n",
        "\n",
        "import autogen\n",
        "from autogen.cache import Cache\n",
        "import warnings\n",
        "warnings.filterwarnings('ignore')\n",
        "\n",
        "import os\n",
        "from google.colab import userdata\n",
        "os.environ[\"GROQ_API_KEY\"] = userdata.get('GROQ_API_KEY')\n",
        "config_list = [{\"model\":\"llama-3.1-8b-instant\",#\"llama-3.1-8b-instant\",#\"llama-3.1-70b-versatile\",#\n",
        "                \"api_key\":os.environ.get(\"GROQ_API_KEY\"),\"base_url\": \"https://api.groq.com/openai/v1/\"}]\n",
        "llm_config={\"config_list\" : config_list}"
      ]
    },
    {
      "cell_type": "markdown",
      "metadata": {
        "id": "jl5fJksQ0T5U"
      },
      "source": [
        "**Agent Example**"
      ]
    },
    {
      "cell_type": "code",
      "execution_count": 2,
      "metadata": {
        "id": "5fvZNoZsUDvx"
      },
      "outputs": [],
      "source": [
        "llm_config = {\n",
        "    \"config_list\": config_list,\n",
        "}\n",
        "# from autogen import\n",
        "coder = autogen.AssistantAgent(\n",
        "    name=\"chatbot\",\n",
        "    system_message=\"For coding tasks, only use the functions you have been provided with. You have a stopwatch and a timer, these tools can and should be used in parallel. Reply TERMINATE when the task is done.\",\n",
        "    llm_config=llm_config,\n",
        ")\n",
        "\n",
        "# create a UserProxyAgent instance named \"user_proxy\"\n",
        "user_proxy = autogen.UserProxyAgent(\n",
        "    name=\"user_proxy\",\n",
        "    system_message=\"A proxy for the user for executing code.\",\n",
        "    is_termination_msg=lambda x: x.get(\"content\", \"\") and x.get(\"content\", \"\").rstrip().endswith(\"TERMINATE\"),\n",
        "    human_input_mode=\"ALWAYS\",\n",
        "    max_consecutive_auto_reply=10,\n",
        "    code_execution_config={\"work_dir\": \"coding\"},\n",
        ")\n",
        "\n",
        "# define functions according to the function description\n",
        "\n",
        "# An example async function registered using register_for_llm and register_for_execution decorators\n",
        "\n",
        "\n",
        "@user_proxy.register_for_execution()\n",
        "@coder.register_for_llm(description=\"create a timer for N seconds\")\n",
        "async def timer(num_seconds: Annotated[str, \"Number of seconds in the timer.\"]) -> str:\n",
        "    for i in range(int(num_seconds)):\n",
        "        time.sleep(1)\n",
        "        # should print to stdout\n",
        "    return \"Timer is done!\"\n",
        "\n",
        "\n",
        "# An example sync function registered using register_function\n",
        "def stopwatch(num_seconds: Annotated[str, \"Number of seconds in the stopwatch.\"]) -> str:\n",
        "    for i in range(int(num_seconds)):\n",
        "        time.sleep(1)\n",
        "    return \"Stopwatch is done!\"\n",
        "\n",
        "\n",
        "autogen.agentchat.register_function(\n",
        "    stopwatch,\n",
        "    caller=coder,\n",
        "    executor=user_proxy,\n",
        "    description=\"create a stopwatch for N seconds\",\n",
        ")"
      ]
    },
    {
      "cell_type": "code",
      "source": [
        "coder.llm_config[\"tools\"]"
      ],
      "metadata": {
        "colab": {
          "base_uri": "https://localhost:8080/"
        },
        "id": "QpnGsSSY3bYA",
        "outputId": "240c2242-5da7-4e1a-bfbb-370336a5de7b"
      },
      "execution_count": 3,
      "outputs": [
        {
          "output_type": "execute_result",
          "data": {
            "text/plain": [
              "[{'type': 'function',\n",
              "  'function': {'description': 'create a timer for N seconds',\n",
              "   'name': 'timer',\n",
              "   'parameters': {'type': 'object',\n",
              "    'properties': {'num_seconds': {'type': 'string',\n",
              "      'description': 'Number of seconds in the timer.'}},\n",
              "    'required': ['num_seconds']}}},\n",
              " {'type': 'function',\n",
              "  'function': {'description': 'create a stopwatch for N seconds',\n",
              "   'name': 'stopwatch',\n",
              "   'parameters': {'type': 'object',\n",
              "    'properties': {'num_seconds': {'type': 'string',\n",
              "      'description': 'Number of seconds in the stopwatch.'}},\n",
              "    'required': ['num_seconds']}}}]"
            ]
          },
          "metadata": {},
          "execution_count": 3
        }
      ]
    },
    {
      "cell_type": "code",
      "execution_count": 4,
      "metadata": {
        "colab": {
          "base_uri": "https://localhost:8080/"
        },
        "collapsed": true,
        "id": "ik7pUx4KUD0w",
        "outputId": "5ae18790-1750-400d-a168-8e68da5a0f97"
      },
      "outputs": [
        {
          "name": "stdout",
          "output_type": "stream",
          "text": [
            "user_proxy (to chatbot):\n",
            "\n",
            "Create a timer for 5 seconds and then a stopwatch for 5 seconds.\n",
            "\n",
            "--------------------------------------------------------------------------------\n",
            "chatbot (to user_proxy):\n",
            "\n",
            "<function=timer>{\"num_seconds\": \"5\"} timer started\n",
            "<function=stopwatch>{\"num_seconds\": \"5\"} stopwatch started\n",
            "\n",
            "--------------------------------------------------------------------------------\n",
            "Replying as user_proxy. Provide feedback to chatbot. Press enter to skip and use auto-reply, or type 'exit' to end the conversation: exit\n"
          ]
        }
      ],
      "source": [
        "\n",
        "with Cache.disk() as cache:\n",
        "    await user_proxy.a_initiate_chat(  # noqa: F704\n",
        "        coder,\n",
        "        message=\"Create a timer for 5 seconds and then a stopwatch for 5 seconds.\",\n",
        "        cache=cache,\n",
        "    )"
      ]
    },
    {
      "cell_type": "code",
      "execution_count": 5,
      "metadata": {
        "id": "b93Od4U4w5fn"
      },
      "outputs": [],
      "source": [
        "\n",
        "from pydantic import BaseModel, Field\n",
        "from typing_extensions import Annotated\n",
        "# class Keyword(BaseModel):\n",
        "  # keyword: Annotated[str, \"keyword either 'vectorstore' or 'websearch'\"]\n",
        "def router_tool( query: Annotated[str, \"question or query ask by user\"])->str:\n",
        "  \"\"\"Router Function\"\"\"\n",
        "  if 'ESOP' in query:\n",
        "    return 'vectorstore'\n",
        "  else:\n",
        "    return 'websearch'\n"
      ]
    },
    {
      "cell_type": "code",
      "execution_count": 6,
      "metadata": {
        "id": "zHx-80c2w5j8"
      },
      "outputs": [],
      "source": [
        "#set your Api keys\n",
        "from langchain_community.tools.tavily_search import TavilySearchResults\n",
        "os.environ[\"TAVILY_API_KEY\"] = userdata.get('TAVILY_API_KEY')\n",
        "\n",
        "search__tool=TavilySearchResults(k=3)"
      ]
    },
    {
      "cell_type": "code",
      "execution_count": 7,
      "metadata": {
        "colab": {
          "base_uri": "https://localhost:8080/"
        },
        "id": "Si7E8k0L4nVZ",
        "outputId": "8bf4260b-ace5-43bb-ac20-c1404ff8f620"
      },
      "outputs": [
        {
          "output_type": "execute_result",
          "data": {
            "text/plain": [
              "[{'url': 'https://www.icsi.edu/media/webmodules/CSJ/January/17.pdf',\n",
              "  'content': 'How does exercise price determine for ESOP? A. Companies are free to decide the exercise price, which may be issued at a discount or premium but the exercise price determined by the Company shall not be less than the par value of the shares. Q. Does it mandatory for the Company to issue and'},\n",
              " {'url': 'https://fi.money/guides/money-matters/how-to-determine-exercise-price-for-esop',\n",
              "  'content': 'Ask Fi GuidesMoney MattersA Guide: How to Determine Exercise Price for ESOP? Make the Most of your Money with Fi Compare the stock’s fair market value to the exercise price as specified in the ESOP agreement. Make the Most of your Money with Fi Fi Money’s in-app AI assistant can help you manage your investments, build better monetary habits, meet all your financial goals & reward you for making noteworthy financial choices. Compare the exercise price in the agreement against the fair market value of your company stock. Ask Fi Contact Fi Money customer care You can do everything from the Fi App, including p2p payments, fund transfers, bill payments, and more, with features to automate every action.'},\n",
              " {'url': 'https://www.vega-equity.com/blog/how-to-calculate-exercise-price-in-esops',\n",
              "  'content': 'The ESOP exercise price is the cost that employees pay to acquire company stock when they choose to exercise their options.'},\n",
              " {'url': 'https://www.corporateprofessionals.com/articles/ultimate-guide-to-esop/',\n",
              "  'content': 'Valuation of ESOP in case of Unlisted Companies: The determination of the fair value of shares during the \"grant of Option\" and \"exercise of option\" must be carried out by an independent valuer in accordance with the \"Guidance note on accounting for employee share-based payment\" issued in 2005. While the Income Tax Act of 1961 does not prescribe a specific methodology for calculating the fair market value (FMV) of shares, Section 17 and Rule 3(8) of the Act specify that, to assess perquisites, the FMV of Employee Stock Option Plans (ESOPs) should be based on the value determined by a merchant banker on a specific date.'},\n",
              " {'url': 'https://eqvista.com/esop/determine-exercise-price-stock-options/',\n",
              "  'content': 'The choice of exercise prices in stock option plans is a critical one for both employees and companies. When a private American company issues stock options to its employees and other service providers, it must get a 409A valuation to establish the company’s fair market value (FMV). An employee’s taxable income from stock options depends on the difference between the FMV and the exercise price. Your company’s growth potential is an important consideration in setting the exercise price for stock options. A company with high growth potential need not offer stock options with low exercise prices in comparison to the FMV. If Fracxion Quant Solutions crafts a stock option plan with a vesting schedule of 4 years, it must offer an exercise price of $3.50.'}]"
            ]
          },
          "metadata": {},
          "execution_count": 7
        }
      ],
      "source": [
        "search__tool.invoke(\"How does exercise price determine for ESOP?\")"
      ]
    },
    {
      "cell_type": "code",
      "execution_count": 8,
      "metadata": {
        "id": "vcA2FFp64nZG"
      },
      "outputs": [],
      "source": [
        "def docs2str(docs):\n",
        "    return \"\\n\\n\".join(doc['content'] for doc in docs)\n",
        "def web_search_tool(query: Annotated[str, \"question or query ask by user\"])->str:\n",
        "  \"\"\"Search Function\"\"\"\n",
        "  docs=search__tool.run(query)\n",
        "  return docs2str(docs)\n",
        "\n"
      ]
    },
    {
      "cell_type": "code",
      "source": [
        "web_search_tool(\"who is current president of america?\")"
      ],
      "metadata": {
        "colab": {
          "base_uri": "https://localhost:8080/",
          "height": 123
        },
        "id": "nHH0T69efpB_",
        "outputId": "ab3e29d7-19e6-44c5-e282-e33025e4a598"
      },
      "execution_count": null,
      "outputs": [
        {
          "output_type": "execute_result",
          "data": {
            "text/plain": [
              "'The president is also the head of the executive branch of the federal government of the United States and is the chairman of the presidential cabinet.[10]\\nJoe Biden is the 46th and current president of the United States, in office since January 2021.[11]\\nEligibility and requirements[change | change source]\\nArticle II, Section 1, Clause 5 of the constitution states for a person to serve as president must:\\nElection process and presidential terms[change | change source]\\nThe president is elected by the people through the Electoral College to a four-year term, along with the vice presidential candidate or the incumbent vice president of the United States as their running mate.[12] Contents\\nPresident of the United States\\nThe president of the United States (POTUS)[9] is the head of state and head of government of the United States of America and the commander-in-chief of the United States Armed Forces. Executive Office of the President[change | change source]\\nThe Executive Office of the President consists of the offices and agencies that support the work of the president at the center of the executive branch of the United States federal government. President-elect of the United States[change | change source]\\nThe president-elect of the United States is the candidate who has won the United States presidential election and is awaiting inauguration to become the president.\\n The office consists of several offices and agencies, such as the White House Office, the staff working directly for and reporting to the president, including White House staff, the National Security Council, and the Office of Management and Budget.\\n\\n\\nSignificantly more Democrats voted in the 2020 election than in previous presidential contests, and the Democratic Party not only won the presidential election but also maintained its control of the U.S. House of Representatives and took control of the U.S. Senate from Republicans, though only by the slimmest of margins (the resulting Senate membership was evenly divided between the two parties at 50 senators each, but tie votes could be broken by Vice President Harris, acting in her constitutional role as president of the Senate). Biden supported three significant pieces of voting rights and electoral-reform legislation: the For the People Act, passed by the House in March 2021; the John Lewis Voting Rights Advancement Act, passed by the House in August; and the Freedom to Vote Act, introduced in the Senate in September. The failure of the electoral-reform measures, which Democrats viewed as essential to preserving American democracy, prompted progressive and even some moderate Democrats to urge the elimination of the filibuster, which is not established in the U.S. Constitution and can be ended by the Senate in a simple majority vote.\\n In early November, following important off-year elections in which Democrats suffered several unexpected defeats—signaling a likely loss of the House and Senate to Republicans in the 2022 election—Biden and Democratic House leaders intensified their efforts to reconcile the factions, arguing that some tangible legislative achievement was necessary to retain the support of swing voters. During and after the withdrawal, the Biden administration was criticized by Republican and some Democratic leaders for having misjudged the strength and resolve of both the Taliban and the Afghan government and security forces.\\n\\nOn November 23, after Michigan certified its results, Murphy issued the letter of ascertainment, granting the Biden transition team access to federal funds and resources for an orderly transition.[29]\\nTwo days after becoming the projected winner of the 2020 election, Biden announced the formation of a task force to advise him on the COVID-19 pandemic during the transition, co-chaired by former Surgeon General Vivek Murthy, former FDA commissioner David A. Kessler, and Yale University\\'s Marcella Nunez-Smith.[30]\\nOn January 5, 2021, the Democratic Party won control of the United States Senate, effective January 20, as a result of electoral victories in Georgia by Jon Ossoff in a runoff election for a six-year term and Raphael Warnock in a special runoff election for a two-year term.[31][32] President-elect Biden had supported and campaigned for both candidates prior to the runoff elections on January 5.[33][34]\\nOn January 6, a mob of thousands of Trump supporters violently stormed the Capitol in the hope of overturning Biden\\'s election, forcing Congress to evacuate during the counting of the Electoral College votes.[35][36] More than 26,000 National Guard members were deployed to the capital for the inauguration, with thousands remaining into the spring.[37]\\nOn January 20, 2021, Biden was sworn in by U.S. Chief Justice John Roberts as the 46th president of the United States, completing the oath of office at 11:49\\xa0am EST, eleven minutes before the legal start of his term.[38][39]\\nInaugural address\\nBiden\\'s inaugural speech laid out his vision to unite the nation, prefaced by the various impacts of the COVID-19 pandemic, economic strife, climate change, political polarization, and racial injustice.[40] The union representing ICE agents signaled that its agents would not accept reversals of Trump policies.[232]\\nIn March 2021, the Biden administration granted temporary protected status to Venezuelans fleeing the country amidst the ongoing political and economic crisis.[234]\\nOn June 1, 2021, the\\xa0DHS officially terminated the\\xa0Trump-era \"Remain in Mexico\" policy, which mandated that all\\xa0asylum seekers\\xa0from\\xa0Central America\\xa0were to wait in\\xa0Mexico\\xa0pending their court cases; however, a health order from March 2020 allowed the border authorities to send migrants back for the duration of the\\xa0COVID-19 pandemic\\xa0have remained in place.[235][236] However, on August 14, 2021, a federal judge in Texas ordered the Biden administration to reimplement the policy; the Supreme Court placed a pause on the ruling to give the administration time for arguments.[237][238] On August 24, 2021, the Supreme Court ruled that the Biden administration must comply with the lower court\\'s ruling to reinstate the policy.[239][240]\\nEarly on in Biden\\'s tenure, a surge in unaccompanied minors at the U.S. border stirred controversy. The administration also expanded ties with West Africa, including support for infrastructure improvements at the Benin seaport of Cotonou, a key part of the West African economy.[372][376] Biden appointed longtime U.S. diplomat Johnnie Carson to coordinate implementation of U.S. actions following up from the summit.[377]\\nDuring the 2022 summit, Biden and senior administration officials also met privately with six African leaders facing elections in 2023, pushing them to ensure free and fair elections in their nations.[377]\\nSenator Bob Menendez, the Democratic chairman of the Senate Foreign Relations Committee, has criticized the Biden administration for hesitating to impose sanctions on the governments of Sudan and Ethiopia, where many atrocities and war crimes were committed in the Tigray War.[378]\\nArmenian genocide\\nOn April 24, 2021, the Biden administration declared that the Turkish killings of Armenians at the start of the 20th century were a genocide. Others criticize the CDC for implementing this change following lobbying by Delta Airlines, leading to social media backlash against the federal government.[117]\\nBiden gave a speech at the John F. Kennedy Presidential Library and Museum on September 12, 2022, the 60th anniversary of Kennedy\\'s We Choose to Go to the Moon speech, promoting his administration\\'s revival of the Beau Biden Cancer Moonshot, including the new Advanced Research Projects Agency for Health.[118]\\nEconomy\\nOn January 22, 2021, Biden signed an executive order that removed schedule F, overturning a number of Trump\\'s policies that limited the collective bargaining power of federal unions.[119][120][121] Biden\\'s executive order also promotes a $15 minimum wage for federal workers and repeals three of Trump\\'s executive orders which made the employee discipline process stricter and restricted union representatives\\' access to office space. Biden partly attributed the lack of early evacuation of Afghan civilians to the Afghan government\\'s opposition of a \"mass exodus\" which they thought would cause a \"crisis of confidence\".[360]\\nOn August 26, a suicide attack was carried out by the Islamic State of Iraq and the Levant - Khorasan Province at the Hamid Karzai International Airport, killing more than 170 people, including at least 62 Afghan civilians, 13 US service members, two British nationals and the child of a third British national.[361][362] Biden made a public address following the attack, in which he honored the American service members who were killed, calling them \"heroes\" and saying they lost their lives \"in the service of liberty\", and stated that the US had evacuated more than 100,000 Americans, Afghans, and others.\\n\\nVice president of the United States\\nThe vice president of the United States presides over the U.S. Senate and takes over the role of president of the United States if the president is unable to perform his or her duties. President of the United States\\nThe president of the United States is the:\\nCurrent president\\nThe 46th and current president of the United States is Joseph R. Biden, Jr. First lady\\nThe First lady of the United States has traditionally been the wife or other close female relative of the president of the United States. Requirements to be eligible to become president\\nAccording to Article II of the U.S. Constitution, the president must:\\nLearn about the U.S. presidential election process.\\n If the vice president is not able to fulfill the duties of president, the role is passed to another leader in the order of presidential succession.\\n\\n\\nA .gov website belongs to an official government organization in the United States. Bureau of Global Health Security and Diplomacy Bureau of Legislative Affairs Office of Global Women’s Issues Office of the U.S. Special Coordinator for the Partnership for Global Infrastructure and Investment Office of the U.S. Special Presidential Envoy for Climate Bureau of Political-Military Affairs Bureau of International Narcotics and Law Enforcement Affairs Office of the U.S. Special Coordinator for Tibetan Issues Bureau of Economic and Business Affairs Bureau of Oceans and International Environmental and Scientific Affairs Office of Global Food Security Bureau of Administration Bureau of Consular Affairs Bureau of Diplomatic Security Bureau of African Affairs Bureau of International Organization Affairs Bureau of Near Eastern Affairs Country Offices Directory'"
            ],
            "application/vnd.google.colaboratory.intrinsic+json": {
              "type": "string"
            }
          },
          "metadata": {},
          "execution_count": 9
        }
      ]
    },
    {
      "cell_type": "code",
      "execution_count": null,
      "metadata": {
        "colab": {
          "base_uri": "https://localhost:8080/",
          "height": 123
        },
        "id": "jwVDLF-S6Otw",
        "outputId": "2d8afc1c-72fe-4b20-9e7e-a42e4cff44f7"
      },
      "outputs": [
        {
          "output_type": "execute_result",
          "data": {
            "text/plain": [
              "\"How does exercise price determine for ESOP? A. Companies are free to decide the exercise price, which may be issued at a discount or premium but the exercise price determined by the Company shall not be less than the par value of the shares. Q. Does it mandatory for the Company to issue and\\n\\nAsk Fi GuidesMoney MattersA Guide: How to Determine Exercise Price for ESOP? Make the Most of your Money with Fi Compare the stock’s fair market value to the exercise price as specified in the ESOP agreement. Make the Most of your Money with Fi Fi Money’s in-app AI assistant can help you manage your investments, build better monetary habits, meet all your financial goals & reward you for making noteworthy financial choices. Compare the exercise price in the agreement against the fair market value of your company stock. Ask Fi Contact Fi Money customer care You can do everything from the Fi App, including p2p payments, fund transfers, bill payments, and more, with features to automate every action.\\n\\n2. Compare the Stock's Fair Market Value to the Current Exercise Price. Next, determine the ESOPs' exercise price mentioned in the grant letter. Then, compare this with the stock's current market price. A higher exercise price when compared to the FMV indicates that your company's stock is not performing well.\\n\\nIt applies regardless of where you exercise the ESOP or where the shares vest. Without Selling Restrictions. For example, if your exercise price is $1 per share, the company underwent an IPO at $10 per share, and you exercise your options today: Taxable profit: The difference between the market price ($10) and the exercise price ($1) is $9 per\\n\\nExperts use this method to calculate the difference between the market price per share and the exercise price of the option. This is the 'imputed gain' that an employee receives by selling their option. For example. An employee has an option to buy 100 shares of the company at $10 per share, and the current market price of the share is $15.\""
            ],
            "application/vnd.google.colaboratory.intrinsic+json": {
              "type": "string"
            }
          },
          "metadata": {},
          "execution_count": 10
        }
      ],
      "source": [
        "web_search_tool(\"How does exercise price determine for ESOP?\")"
      ]
    },
    {
      "cell_type": "markdown",
      "metadata": {
        "id": "jeZfKSqr0lZt"
      },
      "source": [
        "**Model name that we are using for agentic system**"
      ]
    },
    {
      "cell_type": "code",
      "execution_count": 9,
      "metadata": {
        "colab": {
          "base_uri": "https://localhost:8080/"
        },
        "id": "u-JylXvGUD8j",
        "outputId": "517018ac-eb45-4bed-efc5-dccfe02a7be3"
      },
      "outputs": [
        {
          "output_type": "stream",
          "name": "stdout",
          "text": [
            "models to use:  ['llama-3.1-8b-instant']\n"
          ]
        }
      ],
      "source": [
        "from autogen.agentchat.contrib.retrieve_user_proxy_agent import RetrieveUserProxyAgent\n",
        "from autogen import AssistantAgent,ConversableAgent\n",
        "# Accepted file formats for that can be stored in\n",
        "# a vector database instance\n",
        "from autogen.retrieve_utils import TEXT_FORMATS\n",
        "\n",
        "# config_list = autogen.config_list_from_json(\"OAI_CONFIG_LIST\")\n",
        "\n",
        "assert len(config_list) > 0\n",
        "print(\"models to use: \", [config_list[i][\"model\"] for i in range(len(config_list))])"
      ]
    },
    {
      "cell_type": "markdown",
      "metadata": {
        "id": "VvWZdGtA145P"
      },
      "source": [
        "**Agentic RAG Agents**"
      ]
    },
    {
      "cell_type": "code",
      "execution_count": 10,
      "metadata": {
        "id": "Frd7GnYb7Hkx"
      },
      "outputs": [],
      "source": [
        "# create a UserProxyAgent instance named \"user_proxy\"\n",
        "user_proxy = autogen.UserProxyAgent(\n",
        "    name=\"user_proxy\",\n",
        "    system_message=\"An intelligent proxy agent designed to bridge user requests and external AI systems seamlessly.\",\n",
        "    is_termination_msg=lambda x: x.get(\"content\", \"\") and x.get(\"content\", \"\").rstrip().endswith(\"TERMINATE\"),\n",
        "    human_input_mode=\"NEVER\",\n",
        "    max_consecutive_auto_reply=10,\n",
        ")"
      ]
    },
    {
      "cell_type": "code",
      "execution_count": 15,
      "metadata": {
        "id": "wa11sZmlimvS"
      },
      "outputs": [],
      "source": [
        "from autogen import ConversableAgent\n",
        "\n",
        "router_agent = ConversableAgent(\n",
        "    name=\"Router Agent\",\n",
        "    system_message='''You are an expert at routing a user query to the appropriate source.\n",
        "    Use tool router_tool for the routing descision only in one word  either vectorstore or websearch .\n",
        "    Return 'TERMINATE' when routing is complete.''',\n",
        "    #    Use the provided query inside router_tool for getting keyword vectorstore or webserach\n",
        "    llm_config=llm_config,\n",
        "    code_execution_config=False,\n",
        "    # function_map={\"router_tool\": router_tool},\n",
        "    human_input_mode=\"NEVER\",\n",
        "    is_termination_msg=lambda msg: \"TERMINATE\" in msg.get(\"content\", \"\").upper(),\n",
        ")"
      ]
    },
    {
      "cell_type": "code",
      "execution_count": 16,
      "metadata": {
        "id": "z_uQRPvzt1BS"
      },
      "outputs": [],
      "source": [
        "\n",
        "\n",
        "autogen.agentchat.register_function(\n",
        "    router_tool,\n",
        "    caller=router_agent,\n",
        "    executor=user_proxy,\n",
        "    description=\"Router Tool use to route the query\",\n",
        ")"
      ]
    },
    {
      "cell_type": "code",
      "execution_count": 17,
      "metadata": {
        "colab": {
          "base_uri": "https://localhost:8080/"
        },
        "id": "nG3mTMGO1qqr",
        "outputId": "17a84e1d-fa8c-4c13-b5aa-b9e21d12633b"
      },
      "outputs": [
        {
          "output_type": "execute_result",
          "data": {
            "text/plain": [
              "[{'type': 'function',\n",
              "  'function': {'description': 'Router Tool use to route the query',\n",
              "   'name': 'router_tool',\n",
              "   'parameters': {'type': 'object',\n",
              "    'properties': {'query': {'type': 'string',\n",
              "      'description': 'question or query ask by user'}},\n",
              "    'required': ['query']}}}]"
            ]
          },
          "metadata": {},
          "execution_count": 17
        }
      ],
      "source": [
        "router_agent.llm_config[\"tools\"]"
      ]
    },
    {
      "cell_type": "code",
      "execution_count": 18,
      "metadata": {
        "colab": {
          "base_uri": "https://localhost:8080/"
        },
        "id": "PzwRiA1W7Ott",
        "outputId": "f6ecfb39-a1b4-4e88-b00e-d4f6e744e9aa"
      },
      "outputs": [
        {
          "output_type": "stream",
          "name": "stdout",
          "text": [
            "user_proxy (to Router Agent):\n",
            "\n",
            "who is the president of America\n",
            "\n",
            "--------------------------------------------------------------------------------\n",
            "[autogen.oai.client: 12-02 17:15:31] {410} WARNING - Model llama-3.1-8b-instant is not found. The cost will be 0. In your config_list, add field {\"price\" : [prompt_price_per_1k, completion_token_price_per_1k]} for customized pricing.\n"
          ]
        },
        {
          "output_type": "stream",
          "name": "stderr",
          "text": [
            "WARNING:autogen.oai.client:Model llama-3.1-8b-instant is not found. The cost will be 0. In your config_list, add field {\"price\" : [prompt_price_per_1k, completion_token_price_per_1k]} for customized pricing.\n"
          ]
        },
        {
          "output_type": "stream",
          "name": "stdout",
          "text": [
            "Router Agent (to user_proxy):\n",
            "\n",
            "***** Suggested tool call (call_tc48): router_tool *****\n",
            "Arguments: \n",
            "{\"query\": \"Who is the president of America\"}\n",
            "********************************************************\n",
            "***** Suggested tool call (call_grrn): router_tool *****\n",
            "Arguments: \n",
            "{\"query\": \"America president\"}\n",
            "********************************************************\n",
            "***** Suggested tool call (call_mjrv): router_tool *****\n",
            "Arguments: \n",
            "{\"query\": \"president of usa\"}\n",
            "********************************************************\n",
            "\n",
            "--------------------------------------------------------------------------------\n",
            "\n",
            ">>>>>>>> EXECUTING FUNCTION router_tool...\n",
            "\n",
            ">>>>>>>> EXECUTING FUNCTION router_tool...\n",
            "\n",
            ">>>>>>>> EXECUTING FUNCTION router_tool...\n",
            "user_proxy (to Router Agent):\n",
            "\n",
            "***** Response from calling tool (call_tc48) *****\n",
            "websearch\n",
            "**************************************************\n",
            "\n",
            "--------------------------------------------------------------------------------\n",
            "***** Response from calling tool (call_grrn) *****\n",
            "websearch\n",
            "**************************************************\n",
            "\n",
            "--------------------------------------------------------------------------------\n",
            "***** Response from calling tool (call_mjrv) *****\n",
            "websearch\n",
            "**************************************************\n",
            "\n",
            "--------------------------------------------------------------------------------\n",
            "[autogen.oai.client: 12-02 17:15:31] {410} WARNING - Model llama-3.1-8b-instant is not found. The cost will be 0. In your config_list, add field {\"price\" : [prompt_price_per_1k, completion_token_price_per_1k]} for customized pricing.\n"
          ]
        },
        {
          "output_type": "stream",
          "name": "stderr",
          "text": [
            "WARNING:autogen.oai.client:Model llama-3.1-8b-instant is not found. The cost will be 0. In your config_list, add field {\"price\" : [prompt_price_per_1k, completion_token_price_per_1k]} for customized pricing.\n"
          ]
        },
        {
          "output_type": "stream",
          "name": "stdout",
          "text": [
            "Router Agent (to user_proxy):\n",
            "\n",
            "TERMINATE\n",
            "\n",
            "--------------------------------------------------------------------------------\n",
            "[autogen.oai.client: 12-02 17:15:31] {410} WARNING - Model llama-3.1-8b-instant is not found. The cost will be 0. In your config_list, add field {\"price\" : [prompt_price_per_1k, completion_token_price_per_1k]} for customized pricing.\n"
          ]
        },
        {
          "output_type": "stream",
          "name": "stderr",
          "text": [
            "WARNING:autogen.oai.client:Model llama-3.1-8b-instant is not found. The cost will be 0. In your config_list, add field {\"price\" : [prompt_price_per_1k, completion_token_price_per_1k]} for customized pricing.\n"
          ]
        }
      ],
      "source": [
        "with Cache.disk() as cache:\n",
        "    # start the conversation\n",
        "    res = user_proxy.initiate_chat(\n",
        "    router_agent, message=\"who is the president of America\", summary_method=\"reflection_with_llm\", cache=cache\n",
        "    )"
      ]
    },
    {
      "cell_type": "code",
      "execution_count": 19,
      "metadata": {
        "id": "4NMGDhi2IOKH",
        "colab": {
          "base_uri": "https://localhost:8080/"
        },
        "outputId": "68fe2693-d915-4be8-de23-7e38621dab0e"
      },
      "outputs": [
        {
          "output_type": "stream",
          "name": "stderr",
          "text": [
            "<ipython-input-19-88148e43040c>:9: LangChainDeprecationWarning: The class `HuggingFaceEmbeddings` was deprecated in LangChain 0.2.2 and will be removed in 1.0. An updated version of the class exists in the :class:`~langchain-huggingface package and should be used instead. To use it run `pip install -U :class:`~langchain-huggingface` and import as `from :class:`~langchain_huggingface import HuggingFaceEmbeddings``.\n",
            "  embedding_function = SentenceTransformerEmbeddings(model_name=\"all-MiniLM-L6-v2\")\n"
          ]
        }
      ],
      "source": [
        "import os\n",
        "import shutil\n",
        "from langchain.embeddings import SentenceTransformerEmbeddings\n",
        "from langchain.document_loaders import PyPDFLoader, Docx2txtLoader\n",
        "from langchain.text_splitter import RecursiveCharacterTextSplitter\n",
        "from langchain.vectorstores import Chroma\n",
        "\n",
        "# Initialize the embedding model\n",
        "embedding_function = SentenceTransformerEmbeddings(model_name=\"all-MiniLM-L6-v2\")\n",
        "\n",
        "def pdf_vectorstore(folder_path: str):\n",
        "    if not os.path.isdir(folder_path):\n",
        "        raise ValueError(f\"Provided folder path '{folder_path}' does not exist or is not a directory.\")\n",
        "\n",
        "    documents = []\n",
        "    for filename in os.listdir(folder_path):\n",
        "        file_path = os.path.join(folder_path, filename)\n",
        "        if filename.endswith('.pdf'):\n",
        "            print(f\"Loading PDF file: {filename}\")\n",
        "            loader = PyPDFLoader(file_path)\n",
        "        elif filename.endswith('.docx'):\n",
        "            print(f\"Loading DOCX file: {filename}\")\n",
        "            loader = Docx2txtLoader(file_path)\n",
        "        else:\n",
        "            print(f\"Skipping unsupported file type: {filename}\")\n",
        "            continue\n",
        "        documents.extend(loader.load())\n",
        "\n",
        "    if not documents:\n",
        "        raise ValueError(\"No valid documents found in the folder.\")\n",
        "\n",
        "    print(\"Splitting documents into chunks...\")\n",
        "    text_splitter = RecursiveCharacterTextSplitter(chunk_size=1000, chunk_overlap=200)\n",
        "    splits = text_splitter.split_documents(documents)\n",
        "    print(f\"Total chunks created: {len(splits)}\")\n",
        "\n",
        "    # Define persist directory\n",
        "    persist_directory = \"/tmp/chroma_db\"\n",
        "\n",
        "    # Ensure clean, writable directory\n",
        "    if os.path.exists(persist_directory):\n",
        "        print(\"Resetting persist directory...\")\n",
        "        shutil.rmtree(persist_directory)\n",
        "    os.makedirs(persist_directory, exist_ok=True)\n",
        "\n",
        "    if not os.access(persist_directory, os.W_OK):\n",
        "        raise PermissionError(f\"Directory '{persist_directory}' is not writable.\")\n",
        "\n",
        "    print(\"Initializing the vector store...\")\n",
        "    collection_name = \"my_collection\"\n",
        "    vectorstore = Chroma.from_documents(\n",
        "        collection_name=collection_name,\n",
        "        documents=splits,\n",
        "        embedding=embedding_function,\n",
        "        persist_directory=persist_directory\n",
        "    )\n",
        "    print(\"Vector store successfully created.\")\n",
        "    return vectorstore\n"
      ]
    },
    {
      "cell_type": "code",
      "source": [
        "print(\"https://www.icsi.edu/media/webmodules/CSJ/January/17.pdf\")"
      ],
      "metadata": {
        "colab": {
          "base_uri": "https://localhost:8080/"
        },
        "id": "FaDzchze0XHL",
        "outputId": "1b52c782-3b39-4670-8102-d02dfcb4bccf"
      },
      "execution_count": 20,
      "outputs": [
        {
          "output_type": "stream",
          "name": "stdout",
          "text": [
            "https://www.icsi.edu/media/webmodules/CSJ/January/17.pdf\n"
          ]
        }
      ]
    },
    {
      "cell_type": "code",
      "execution_count": 21,
      "metadata": {
        "colab": {
          "base_uri": "https://localhost:8080/"
        },
        "collapsed": true,
        "id": "YfH6CqwyJctF",
        "outputId": "88b1f0f1-c68f-4ecd-851f-c164c3cf619a"
      },
      "outputs": [
        {
          "output_type": "stream",
          "name": "stdout",
          "text": [
            "Skipping unsupported file type: .config\n",
            "Skipping unsupported file type: .cache\n",
            "Loading PDF file: 17.pdf\n",
            "Skipping unsupported file type: sample_data\n",
            "Splitting documents into chunks...\n",
            "Total chunks created: 47\n",
            "Resetting persist directory...\n",
            "Initializing the vector store...\n",
            "Vector store successfully created.\n"
          ]
        }
      ],
      "source": [
        " # Load documents from a folder\n",
        "folder_path = \"/content/\"  # Replace with the actual path to your folder\n",
        "vectorstore=pdf_vectorstore(folder_path)"
      ]
    },
    {
      "cell_type": "code",
      "execution_count": 23,
      "metadata": {
        "colab": {
          "base_uri": "https://localhost:8080/",
          "height": 157
        },
        "id": "M85jVDemQ_6E",
        "outputId": "07741dd1-ad85-4f66-c7b1-943294b62c50"
      },
      "outputs": [
        {
          "output_type": "execute_result",
          "data": {
            "text/plain": [
              "'of a higher salary, and the organization where they are \\nemployed is not growing as per the market standards \\nor in comparison to its competitors, ESOP may result \\nin monetary loss.\\nQ.  How does exercise price determine for ESOP?\\nA. Companies are free to decide the exercise price, \\nwhich may be issued at a discount or premium but the \\nexercise price determined by the Company shall not \\nbe less than the par value of the shares.\\nQ.  Does it mandatory for the Company to issue and \\nallot only fresh shares under ESOP scheme?\\nA. No, it is not mandatory for the company to issue and \\nallot only fresh shares under ESOP scheme, but it may \\nchoose either option:\\n 1.  If Company is willing to issue fresh shares, it \\nshould adopt direct route to issue and allot shares \\nunder the scheme of ESOP.\\n 2. If the Company is willing to channelize its \\nexisting share only, in such case Company should \\nadopt Trust route to issue and allot shares under \\nthe scheme of ESOP.\\nQ.  How are ESOP taxed in India?\\n\\ncompleted.\\nExercise period:  It means the time period which starts \\nafter the completion of vesting period within which an \\nemployee can exercise his/her right to apply for shares \\nagainst the vested options in pursuance of the scheme of \\nESOP approved by the shareholders in general meeting by \\nway of Special Resolution.\\nExercise price: Means the price payable by an employee \\nfor exercising the options granted in pursuance of the \\nscheme of ESOP. \\nARTICLE\\nJANUARY 2024   |   107   CHARTERED SECRETARY\\n\\nissued pursuant to ESOP.\\n\\uf09f Fix time, date and venue to convene the Extra \\nOrdinary General Meeting to pass Special Resolution \\nfor issuing ESOP.\\n\\uf09f Give outcome of Board meeting to Stock Exchange(s) \\nwithin 30 minutes from the conclusion of the meeting.\\nEmployees can exercise his option and \\npurchase shares after the vesting date is \\nover at a pre-determined price, which is \\nusually less than the share’s Fair Market \\nValue (FMV). As a result, the difference \\nbetween the FMV and the exercise price of \\nthe share is considered a perquisite in the \\nemployee’s hands and taxed at his income \\ntax slab rate.\\nARTICLE\\n112    |   JANUARY 2024    CHARTERED SECRETARY\\nEmployee Stock Option Plan (ESOP) : The Finer Nuances\\n\\nFAQs\\nQ.  What is an ESOP?\\nA.  Thus, we can say that ‘ESOP’ stands for ‘Employee \\nStock Option Plan’ which is a kind of employee benefit \\nplan that gives employees the right to purchase shares \\nof their employer company at a pre-determined price \\nafter a certain time period.\\nQ.  Does the ESOP supplement the salary of an \\nemployee?\\nA.  From the point view of monetary benefits, we can say \\nthat ESOPs are often used to supplement the salaries \\nof employees. Instead of paying high salary, employees \\nmay be offered ESOPs, which may generate more \\nwealth for employees if the Company is growing and \\ngenerating good amount of earnings which is over and \\nabove break-even point. \\nQ.  Is ESOP risky and having any possibility of \\nmonetary loss?\\nA. It may be risky, if an employee accepts ESOPs instead \\nof a higher salary, and the organization where they are \\nemployed is not growing as per the market standards \\nor in comparison to its competitors, ESOP may result \\nin monetary loss.'"
            ],
            "application/vnd.google.colaboratory.intrinsic+json": {
              "type": "string"
            }
          },
          "metadata": {},
          "execution_count": 23
        }
      ],
      "source": [
        "\n",
        "from langchain.vectorstores.base import VectorStoreRetriever\n",
        "retriever = VectorStoreRetriever(vectorstore=vectorstore)\n",
        "# retriever.invoke(\" How does exercise price determine for ESOP? \")\n",
        "def docs2str_(docs):\n",
        "    return \"\\n\\n\".join(doc.page_content for doc in docs)\n",
        "\n",
        "def pdf_search_tool(query: Annotated[str, \"question or query ask by user\"])->str:\n",
        "  \"\"\"pdf search\"\"\"\n",
        "  docs=retriever.invoke(query)\n",
        "  return docs2str_(docs)\n",
        "pdf_search_tool(\" How does exercise price determine for ESOP? \")"
      ]
    },
    {
      "cell_type": "code",
      "source": [
        "retriever_agent = ConversableAgent(\n",
        "    name=\"Retriever Agent\",\n",
        "    system_message='''You are responsible for retrieving relevant information from the given source.\n",
        "    first modify the query for retrieving the information from vectorstore or websearch.\n",
        "  keyword provide by Router Agent based on that if keyword is vectorstore then use pdf_search_tool(query) otherwise use web_search_tool(query) for retreiving the information related query\n",
        "    Answer questions concisely using the retrieved context.\n",
        "    Return 'TERMINATE' when retrieval is completed.''',\n",
        "    llm_config=llm_config,\n",
        "    code_execution_config=False,\n",
        "    function_map={\"web_search_tool\": web_search_tool,\"pdf_search_tool\":pdf_search_tool},\n",
        "    human_input_mode=\"NEVER\",\n",
        "    is_termination_msg=lambda msg: \"TERMINATE\" in msg.get(\"content\", \"\").upper(),\n",
        "\n",
        ")"
      ],
      "metadata": {
        "id": "hVz1AF81-HsC"
      },
      "execution_count": 43,
      "outputs": []
    },
    {
      "cell_type": "code",
      "execution_count": 44,
      "metadata": {
        "colab": {
          "base_uri": "https://localhost:8080/"
        },
        "id": "gVHif8UcSLM3",
        "outputId": "bc4775a1-0720-4778-afbc-5b5a8cdcfd75"
      },
      "outputs": [
        {
          "output_type": "execute_result",
          "data": {
            "text/plain": [
              "[{'type': 'function',\n",
              "  'function': {'description': 'Retrieve information  from vectorstore ',\n",
              "   'name': 'pdf_search_tool',\n",
              "   'parameters': {'type': 'object',\n",
              "    'properties': {'query': {'type': 'string',\n",
              "      'description': 'question or query ask by user'}},\n",
              "    'required': ['query']}}},\n",
              " {'type': 'function',\n",
              "  'function': {'description': 'Retrieve information  from websearch ',\n",
              "   'name': 'web_search_tool',\n",
              "   'parameters': {'type': 'object',\n",
              "    'properties': {'query': {'type': 'string',\n",
              "      'description': 'question or query ask by user'}},\n",
              "    'required': ['query']}}}]"
            ]
          },
          "metadata": {},
          "execution_count": 44
        }
      ],
      "source": [
        "autogen.agentchat.register_function(\n",
        "    pdf_search_tool,\n",
        "    caller=retriever_agent,\n",
        "    executor=user_proxy,\n",
        "    description=\"Retrieve information  from vectorstore \",\n",
        "\n",
        ")\n",
        "autogen.agentchat.register_function(\n",
        "    web_search_tool,\n",
        "    caller=retriever_agent,\n",
        "    executor=user_proxy,\n",
        "    description=\"Retrieve information  from websearch \",\n",
        "\n",
        ")\n",
        "retriever_agent.llm_config[\"tools\"]"
      ]
    },
    {
      "cell_type": "code",
      "execution_count": 45,
      "metadata": {
        "colab": {
          "base_uri": "https://localhost:8080/"
        },
        "id": "ckLYmDj393Li",
        "outputId": "6d46bc2f-9dc6-40c4-ffa6-08e5b6d64ab2"
      },
      "outputs": [
        {
          "output_type": "stream",
          "name": "stdout",
          "text": [
            "user_proxy (to Retriever Agent):\n",
            "\n",
            "query :who is presisdent of america? provide clear and consie ANSwER:provide clear and consise answer\n",
            "\n",
            "--------------------------------------------------------------------------------\n",
            "[autogen.oai.client: 12-02 17:24:35] {410} WARNING - Model llama-3.1-8b-instant is not found. The cost will be 0. In your config_list, add field {\"price\" : [prompt_price_per_1k, completion_token_price_per_1k]} for customized pricing.\n"
          ]
        },
        {
          "output_type": "stream",
          "name": "stderr",
          "text": [
            "WARNING:autogen.oai.client:Model llama-3.1-8b-instant is not found. The cost will be 0. In your config_list, add field {\"price\" : [prompt_price_per_1k, completion_token_price_per_1k]} for customized pricing.\n"
          ]
        },
        {
          "output_type": "stream",
          "name": "stdout",
          "text": [
            "Retriever Agent (to user_proxy):\n",
            "\n",
            "***** Suggested tool call (call_cap9): pdf_search_tool *****\n",
            "Arguments: \n",
            "{\"query\": \"Who is the president of America?\"}\n",
            "************************************************************\n",
            "\n",
            "--------------------------------------------------------------------------------\n",
            "\n",
            ">>>>>>>> EXECUTING FUNCTION pdf_search_tool...\n",
            "user_proxy (to Retriever Agent):\n",
            "\n",
            "***** Response from calling tool (call_cap9) *****\n",
            "implementation allotment and monitoring the successful \n",
            "ESOP Scheme is not only limited to convening \n",
            "meetings of Board, Committees and the Shareholders,  \n",
            "but also in: \n",
            " The determination of criteria of employees and \n",
            "members of Board of Directors eligible for employee \n",
            "stock option;\n",
            " Conducting due diligence; \n",
            " Preparation of scheme of employee stock option plan \n",
            "(ESOP);\n",
            " Providing guidance to the Board of Directors \n",
            "regarding various legal aspects of issuing employee \n",
            "stock option plans (ESOP);\n",
            " Preparing and maintaining various secretarial \n",
            "records relating to ESOP, e.g. ESOP Scheme, \n",
            "ESOP Register, minutes of Board and Committee  \n",
            "etc;\n",
            " Preparation and filing of various e-forms with the \n",
            "Registrar of Companies;\n",
            " Preparation of application to get in-principle approval, \n",
            "listing, trading approval of Stock Exchange(s) etc.\n",
            "Thus, the Company Secretary plays a vital role in the \n",
            "issue, implementation, allotment and monitoring of \n",
            "ESOP Scheme.\n",
            "DISCLOSURE REQUIREMENTS IN THE\n",
            "\n",
            "be exercised;\n",
            "(3)  A person shall not be appointed as a trustee to hold \n",
            "such shares, if he-\n",
            " (a)  Is a director, Key Managerial Personnel or \n",
            "promoter of the company or its holding, \n",
            "subsidiary or associate company or any relative \n",
            "of such Director, Key Managerial Personnel or \n",
            "promoter; or\n",
            " (b)  Beneficially holds ten percent or more of the \n",
            "paid-up share capital of the company.\n",
            "(4)  Where the voting rights are not exercised directly \n",
            "by the employees in respect of shares to which the \n",
            "scheme relates, the Board of Directors shall, inter alia, \n",
            "disclose in the Board’s report for the relevant financial \n",
            "year the following details, namely: -\n",
            "ARTICLE\n",
            "JANUARY 2024   |   109   CHARTERED SECRETARY\n",
            "Employee Stock Option Plan (ESOP) : The Finer Nuances\n",
            "\n",
            "employees.\n",
            "5.  Strong public image of the Company.\n",
            "6.  Helps to motivate the employees to perform well \n",
            "against their roles in the Company. \n",
            "7.  Employee Stock Option Scheme (ESOP) also helps \n",
            "the organization to maintain long lasting relationship \n",
            "with the employees.\n",
            "8.  Increases the loyalty of its Employees.\n",
            "ARTICLE\n",
            "110    |   JANUARY 2024    CHARTERED SECRETARY\n",
            "Employee Stock Option Plan (ESOP) : The Finer Nuances\n",
            "\n",
            "means-\n",
            " (a)  A permanent employee of the company who has \n",
            "been working in India or outside India; or\n",
            " (b)  A Director of the company, whether a whole-time \n",
            "Director or not but excluding an Independent \n",
            "Director; or\n",
            " (c)  An employee as defined in clauses (a) or (b) of \n",
            "a subsidiary, in India or outside India, or of a \n",
            "holding company of the company but does not \n",
            "include-\n",
            " (i)  An employee who is a promoter or a person \n",
            "belonging to the promoter group; or\n",
            " (ii)  A Director who either himself or through his \n",
            "relative or through any-body corporate, directly \n",
            "or indirectly, holds more than ten percent of the \n",
            "outstanding equity shares of the company.\n",
            "As per Rule 12 of the Company (Share Capital and \n",
            "debenture) Rules, 2014, Employees have no right to \n",
            "receive any dividend or to vote or in any manner or enjoy \n",
            "the benefits of a shareholder in respect of option granted \n",
            "to them, till shares are issued on the exercise of the  \n",
            "option. \n",
            "Rule 16 of The Companies (Share Capital and\n",
            "**************************************************\n",
            "\n",
            "--------------------------------------------------------------------------------\n",
            "[autogen.oai.client: 12-02 17:24:36] {410} WARNING - Model llama-3.1-8b-instant is not found. The cost will be 0. In your config_list, add field {\"price\" : [prompt_price_per_1k, completion_token_price_per_1k]} for customized pricing.\n"
          ]
        },
        {
          "output_type": "stream",
          "name": "stderr",
          "text": [
            "WARNING:autogen.oai.client:Model llama-3.1-8b-instant is not found. The cost will be 0. In your config_list, add field {\"price\" : [prompt_price_per_1k, completion_token_price_per_1k]} for customized pricing.\n"
          ]
        },
        {
          "output_type": "stream",
          "name": "stdout",
          "text": [
            "Retriever Agent (to user_proxy):\n",
            "\n",
            "***** Suggested tool call (call_71fy): web_search_tool *****\n",
            "Arguments: \n",
            "{\"query\": \"Current President of America\"}\n",
            "************************************************************\n",
            "\n",
            "--------------------------------------------------------------------------------\n",
            "\n",
            ">>>>>>>> EXECUTING FUNCTION web_search_tool...\n",
            "user_proxy (to Retriever Agent):\n",
            "\n",
            "***** Response from calling tool (call_71fy) *****\n",
            "The president is also the head of the executive branch of the federal government of the United States and is the chairman of the presidential cabinet.[10]\n",
            "Joe Biden is the 46th and current president of the United States, in office since January 2021.[11]\n",
            "Eligibility and requirements[change | change source]\n",
            "Article II, Section 1, Clause 5 of the constitution states for a person to serve as president must:\n",
            "Election process and presidential terms[change | change source]\n",
            "The president is elected by the people through the Electoral College to a four-year term, along with the vice presidential candidate or the incumbent vice president of the United States as their running mate.[12] Contents\n",
            "President of the United States\n",
            "The president of the United States (POTUS)[9] is the head of state and head of government of the United States of America and the commander-in-chief of the United States Armed Forces. Executive Office of the President[change | change source]\n",
            "The Executive Office of the President consists of the offices and agencies that support the work of the president at the center of the executive branch of the United States federal government. President-elect of the United States[change | change source]\n",
            "The president-elect of the United States is the candidate who has won the United States presidential election and is awaiting inauguration to become the president.\n",
            " The office consists of several offices and agencies, such as the White House Office, the staff working directly for and reporting to the president, including White House staff, the National Security Council, and the Office of Management and Budget.\n",
            "\n",
            "\n",
            "On November 23, after Michigan certified its results, Murphy issued the letter of ascertainment, granting the Biden transition team access to federal funds and resources for an orderly transition.[29]\n",
            "Two days after becoming the projected winner of the 2020 election, Biden announced the formation of a task force to advise him on the COVID-19 pandemic during the transition, co-chaired by former Surgeon General Vivek Murthy, former FDA commissioner David A. Kessler, and Yale University's Marcella Nunez-Smith.[30]\n",
            "On January 5, 2021, the Democratic Party won control of the United States Senate, effective January 20, as a result of electoral victories in Georgia by Jon Ossoff in a runoff election for a six-year term and Raphael Warnock in a special runoff election for a two-year term.[31][32] President-elect Biden had supported and campaigned for both candidates prior to the runoff elections on January 5.[33][34]\n",
            "On January 6, a mob of thousands of Trump supporters violently stormed the Capitol in the hope of overturning Biden's election, forcing Congress to evacuate during the counting of the Electoral College votes.[35][36] More than 26,000 National Guard members were deployed to the capital for the inauguration, with thousands remaining into the spring.[37]\n",
            "On January 20, 2021, Biden was sworn in by U.S. Chief Justice John Roberts as the 46th president of the United States, completing the oath of office at 11:49 am EST, eleven minutes before the legal start of his term.[38][39]\n",
            "Inaugural address\n",
            "Biden's inaugural speech laid out his vision to unite the nation, prefaced by the various impacts of the COVID-19 pandemic, economic strife, climate change, political polarization, and racial injustice.[40] The union representing ICE agents signaled that its agents would not accept reversals of Trump policies.[232]\n",
            "In March 2021, the Biden administration granted temporary protected status to Venezuelans fleeing the country amidst the ongoing political and economic crisis.[234]\n",
            "On June 1, 2021, the DHS officially terminated the Trump-era \"Remain in Mexico\" policy, which mandated that all asylum seekers from Central America were to wait in Mexico pending their court cases; however, a health order from March 2020 allowed the border authorities to send migrants back for the duration of the COVID-19 pandemic have remained in place.[235][236] However, on August 14, 2021, a federal judge in Texas ordered the Biden administration to reimplement the policy; the Supreme Court placed a pause on the ruling to give the administration time for arguments.[237][238] On August 24, 2021, the Supreme Court ruled that the Biden administration must comply with the lower court's ruling to reinstate the policy.[239][240]\n",
            "Early on in Biden's tenure, a surge in unaccompanied minors at the U.S. border stirred controversy. The administration also expanded ties with West Africa, including support for infrastructure improvements at the Benin seaport of Cotonou, a key part of the West African economy.[372][376] Biden appointed longtime U.S. diplomat Johnnie Carson to coordinate implementation of U.S. actions following up from the summit.[377]\n",
            "During the 2022 summit, Biden and senior administration officials also met privately with six African leaders facing elections in 2023, pushing them to ensure free and fair elections in their nations.[377]\n",
            "Senator Bob Menendez, the Democratic chairman of the Senate Foreign Relations Committee, has criticized the Biden administration for hesitating to impose sanctions on the governments of Sudan and Ethiopia, where many atrocities and war crimes were committed in the Tigray War.[378]\n",
            "Armenian genocide\n",
            "On April 24, 2021, the Biden administration declared that the Turkish killings of Armenians at the start of the 20th century were a genocide. Others criticize the CDC for implementing this change following lobbying by Delta Airlines, leading to social media backlash against the federal government.[117]\n",
            "Biden gave a speech at the John F. Kennedy Presidential Library and Museum on September 12, 2022, the 60th anniversary of Kennedy's We Choose to Go to the Moon speech, promoting his administration's revival of the Beau Biden Cancer Moonshot, including the new Advanced Research Projects Agency for Health.[118]\n",
            "Economy\n",
            "On January 22, 2021, Biden signed an executive order that removed schedule F, overturning a number of Trump's policies that limited the collective bargaining power of federal unions.[119][120][121] Biden's executive order also promotes a $15 minimum wage for federal workers and repeals three of Trump's executive orders which made the employee discipline process stricter and restricted union representatives' access to office space. Biden partly attributed the lack of early evacuation of Afghan civilians to the Afghan government's opposition of a \"mass exodus\" which they thought would cause a \"crisis of confidence\".[360]\n",
            "On August 26, a suicide attack was carried out by the Islamic State of Iraq and the Levant - Khorasan Province at the Hamid Karzai International Airport, killing more than 170 people, including at least 62 Afghan civilians, 13 US service members, two British nationals and the child of a third British national.[361][362] Biden made a public address following the attack, in which he honored the American service members who were killed, calling them \"heroes\" and saying they lost their lives \"in the service of liberty\", and stated that the US had evacuated more than 100,000 Americans, Afghans, and others.\n",
            "\n",
            "Vice president of the United States\n",
            "The vice president of the United States presides over the U.S. Senate and takes over the role of president of the United States if the president is unable to perform his or her duties. President of the United States\n",
            "The president of the United States is the:\n",
            "Current president\n",
            "The 46th and current president of the United States is Joseph R. Biden, Jr. First lady\n",
            "The First lady of the United States has traditionally been the wife or other close female relative of the president of the United States. Requirements to be eligible to become president\n",
            "According to Article II of the U.S. Constitution, the president must:\n",
            "Learn about the U.S. presidential election process.\n",
            " If the vice president is not able to fulfill the duties of president, the role is passed to another leader in the order of presidential succession.\n",
            "\n",
            "\n",
            "Presidents | The White House The 4th President of the United States The 5th President of the United States The 6th President of the United States The 7th President of the United States The 8th President of the United States The 9th President of the United States The 10th President of the United States The 11th President of the United States The 12th President of the United States The 13th President of the United States The 14th President of the United States The 15th President of the United States The 16th President of the United States The 17th President of the United States The 18th President of the United States Biden Jr. THE 46TH PRESIDENT OF THE UNITED STATES\n",
            "\n",
            "Significantly more Democrats voted in the 2020 election than in previous presidential contests, and the Democratic Party not only won the presidential election but also maintained its control of the U.S. House of Representatives and took control of the U.S. Senate from Republicans, though only by the slimmest of margins (the resulting Senate membership was evenly divided between the two parties at 50 senators each, but tie votes could be broken by Vice President Harris, acting in her constitutional role as president of the Senate). Biden supported three significant pieces of voting rights and electoral-reform legislation: the For the People Act, passed by the House in March 2021; the John Lewis Voting Rights Advancement Act, passed by the House in August; and the Freedom to Vote Act, introduced in the Senate in September. The failure of the electoral-reform measures, which Democrats viewed as essential to preserving American democracy, prompted progressive and even some moderate Democrats to urge the elimination of the filibuster, which is not established in the U.S. Constitution and can be ended by the Senate in a simple majority vote.\n",
            " In early November, following important off-year elections in which Democrats suffered several unexpected defeats—signaling a likely loss of the House and Senate to Republicans in the 2022 election—Biden and Democratic House leaders intensified their efforts to reconcile the factions, arguing that some tangible legislative achievement was necessary to retain the support of swing voters. During and after the withdrawal, the Biden administration was criticized by Republican and some Democratic leaders for having misjudged the strength and resolve of both the Taliban and the Afghan government and security forces.\n",
            "**************************************************\n",
            "\n",
            "--------------------------------------------------------------------------------\n",
            "[autogen.oai.client: 12-02 17:24:38] {410} WARNING - Model llama-3.1-8b-instant is not found. The cost will be 0. In your config_list, add field {\"price\" : [prompt_price_per_1k, completion_token_price_per_1k]} for customized pricing.\n"
          ]
        },
        {
          "output_type": "stream",
          "name": "stderr",
          "text": [
            "WARNING:autogen.oai.client:Model llama-3.1-8b-instant is not found. The cost will be 0. In your config_list, add field {\"price\" : [prompt_price_per_1k, completion_token_price_per_1k]} for customized pricing.\n"
          ]
        }
      ],
      "source": [
        "\n",
        "with Cache.disk() as cache:\n",
        "    # start the conversation\n",
        "    res = user_proxy.initiate_chat(\n",
        "    retriever_agent, message=\"query :who is presisdent of america? provide clear and consie ANSwER:provide clear and consise answer\", summary_method=\"reflection_with_llm\", cache=cache\n",
        "    )"
      ]
    },
    {
      "cell_type": "code",
      "execution_count": 46,
      "metadata": {
        "colab": {
          "base_uri": "https://localhost:8080/"
        },
        "id": "aihobtA1Sj2B",
        "outputId": "8e91a0be-26a2-4577-e9e1-45a8da227dae"
      },
      "outputs": [
        {
          "output_type": "stream",
          "name": "stdout",
          "text": [
            "user_proxy (to Retriever Agent):\n",
            "\n",
            "How does exercise price determine for ESOP? \n",
            "    \n",
            "\n",
            "--------------------------------------------------------------------------------\n",
            "[autogen.oai.client: 12-02 17:24:39] {410} WARNING - Model llama-3.1-8b-instant is not found. The cost will be 0. In your config_list, add field {\"price\" : [prompt_price_per_1k, completion_token_price_per_1k]} for customized pricing.\n"
          ]
        },
        {
          "output_type": "stream",
          "name": "stderr",
          "text": [
            "WARNING:autogen.oai.client:Model llama-3.1-8b-instant is not found. The cost will be 0. In your config_list, add field {\"price\" : [prompt_price_per_1k, completion_token_price_per_1k]} for customized pricing.\n"
          ]
        },
        {
          "output_type": "stream",
          "name": "stdout",
          "text": [
            "Retriever Agent (to user_proxy):\n",
            "\n",
            "***** Suggested tool call (call_3v7e): web_search_tool *****\n",
            "Arguments: \n",
            "{\"query\": \"Determining exercise price for Employee Stock Option Plan\"}\n",
            "************************************************************\n",
            "***** Suggested tool call (call_gdja): pdf_search_tool *****\n",
            "Arguments: \n",
            "{\"query\": \"ESOP exercise price determination process\"}\n",
            "************************************************************\n",
            "\n",
            "--------------------------------------------------------------------------------\n",
            "\n",
            ">>>>>>>> EXECUTING FUNCTION web_search_tool...\n",
            "\n",
            ">>>>>>>> EXECUTING FUNCTION pdf_search_tool...\n",
            "user_proxy (to Retriever Agent):\n",
            "\n",
            "***** Response from calling tool (call_3v7e) *****\n",
            "The choice of exercise prices in stock option plans is a critical one for both employees and companies. When a private American company issues stock options to its employees and other service providers, it must get a 409A valuation to establish the company’s fair market value (FMV). An employee’s taxable income from stock options depends on the difference between the FMV and the exercise price. Your company’s growth potential is an important consideration in setting the exercise price for stock options. A company with high growth potential need not offer stock options with low exercise prices in comparison to the FMV. If Fracxion Quant Solutions crafts a stock option plan with a vesting schedule of 4 years, it must offer an exercise price of $3.50.\n",
            "\n",
            "You buy shares of company stock at the exercise price of your employee stock options. The price you pay for your shares is the exercise price of the stock option multiplied by the number of options you exercise. Because this is a cash exercise, you often need to pay an amount of cash equal to number 2 above.\n",
            "\n",
            "Calculate the costs to exercise your stock options - including taxes. ... Pre-IPO startups that issue employee stock options are required to bring in a third-party valuation company every year to estimate how much the company's shares are currently worth. ... You exercise 10,000 shares of stock options at a strike price of $1 per share, and a\n",
            "\n",
            "In the following example, we assume an ESO grants the right (when vested) to buy 1,000 shares of the company at a strike price of $50, which is the stock's closing price on the day of the option grant (making this an at-the-money option upon grant). Note that the stock may not be fully vested when purchased with an option in certain cases, despite exercising the stock options, as the company may not want to run the risk of employees making a quick gain (by exercising their options and immediately selling their shares) and subsequently leaving the company.\n",
            " It should be emphasized that the record price for the shares is the exercise price or strike price specified in the options agreement, regardless of the actual market price of the stock.\n",
            " Note that when you exercise the ESOs, you would have to pay the exercise price plus tax even if you do not sell the stock (recall that exercise of ESOs is a tax event), which in this case equates to $50,000 plus $28,000, for a total of $78,000. The ability to buy shares at a significant discount to the current market price (a bargain price, in other words) is viewed by the IRS as part of the total compensation package provided to you by your employer, and is therefore taxed at your income tax rate.\n",
            "\n",
            "− Calculate stock option benefit: FMV - exercise price = benefit − Income inclusion for public company employees − Deferral of income for CCPC employees Must be dealing at arm's length with employer − Adjusted cost basis (ACB) = FMV\n",
            "**************************************************\n",
            "\n",
            "--------------------------------------------------------------------------------\n",
            "***** Response from calling tool (call_gdja) *****\n",
            "of a higher salary, and the organization where they are \n",
            "employed is not growing as per the market standards \n",
            "or in comparison to its competitors, ESOP may result \n",
            "in monetary loss.\n",
            "Q.  How does exercise price determine for ESOP?\n",
            "A. Companies are free to decide the exercise price, \n",
            "which may be issued at a discount or premium but the \n",
            "exercise price determined by the Company shall not \n",
            "be less than the par value of the shares.\n",
            "Q.  Does it mandatory for the Company to issue and \n",
            "allot only fresh shares under ESOP scheme?\n",
            "A. No, it is not mandatory for the company to issue and \n",
            "allot only fresh shares under ESOP scheme, but it may \n",
            "choose either option:\n",
            " 1.  If Company is willing to issue fresh shares, it \n",
            "should adopt direct route to issue and allot shares \n",
            "under the scheme of ESOP.\n",
            " 2. If the Company is willing to channelize its \n",
            "existing share only, in such case Company should \n",
            "adopt Trust route to issue and allot shares under \n",
            "the scheme of ESOP.\n",
            "Q.  How are ESOP taxed in India?\n",
            "\n",
            "completed.\n",
            "Exercise period:  It means the time period which starts \n",
            "after the completion of vesting period within which an \n",
            "employee can exercise his/her right to apply for shares \n",
            "against the vested options in pursuance of the scheme of \n",
            "ESOP approved by the shareholders in general meeting by \n",
            "way of Special Resolution.\n",
            "Exercise price: Means the price payable by an employee \n",
            "for exercising the options granted in pursuance of the \n",
            "scheme of ESOP. \n",
            "ARTICLE\n",
            "JANUARY 2024   |   107   CHARTERED SECRETARY\n",
            "\n",
            "issued pursuant to ESOP.\n",
            " Fix time, date and venue to convene the Extra \n",
            "Ordinary General Meeting to pass Special Resolution \n",
            "for issuing ESOP.\n",
            " Give outcome of Board meeting to Stock Exchange(s) \n",
            "within 30 minutes from the conclusion of the meeting.\n",
            "Employees can exercise his option and \n",
            "purchase shares after the vesting date is \n",
            "over at a pre-determined price, which is \n",
            "usually less than the share’s Fair Market \n",
            "Value (FMV). As a result, the difference \n",
            "between the FMV and the exercise price of \n",
            "the share is considered a perquisite in the \n",
            "employee’s hands and taxed at his income \n",
            "tax slab rate.\n",
            "ARTICLE\n",
            "112    |   JANUARY 2024    CHARTERED SECRETARY\n",
            "Employee Stock Option Plan (ESOP) : The Finer Nuances\n",
            "\n",
            "EXERCISING OF OPTIONS\n",
            " After vesting period when eligible employees \n",
            "exercise their options; Company is required to \n",
            "convene Board Meeting to allot shares under the \n",
            "ESOP scheme to the employees who exercised the  \n",
            "option. \n",
            "ARTICLE\n",
            "JANUARY 2024   |   113   CHARTERED SECRETARY\n",
            "Employee Stock Option Plan (ESOP) : The Finer Nuances\n",
            "**************************************************\n",
            "\n",
            "--------------------------------------------------------------------------------\n",
            "[autogen.oai.client: 12-02 17:24:41] {410} WARNING - Model llama-3.1-8b-instant is not found. The cost will be 0. In your config_list, add field {\"price\" : [prompt_price_per_1k, completion_token_price_per_1k]} for customized pricing.\n"
          ]
        },
        {
          "output_type": "stream",
          "name": "stderr",
          "text": [
            "WARNING:autogen.oai.client:Model llama-3.1-8b-instant is not found. The cost will be 0. In your config_list, add field {\"price\" : [prompt_price_per_1k, completion_token_price_per_1k]} for customized pricing.\n"
          ]
        },
        {
          "output_type": "stream",
          "name": "stdout",
          "text": [
            "Retriever Agent (to user_proxy):\n",
            "\n",
            "TERMINATE\n",
            "\n",
            "--------------------------------------------------------------------------------\n",
            "[autogen.oai.client: 12-02 17:24:41] {410} WARNING - Model llama-3.1-8b-instant is not found. The cost will be 0. In your config_list, add field {\"price\" : [prompt_price_per_1k, completion_token_price_per_1k]} for customized pricing.\n"
          ]
        },
        {
          "output_type": "stream",
          "name": "stderr",
          "text": [
            "WARNING:autogen.oai.client:Model llama-3.1-8b-instant is not found. The cost will be 0. In your config_list, add field {\"price\" : [prompt_price_per_1k, completion_token_price_per_1k]} for customized pricing.\n"
          ]
        }
      ],
      "source": [
        "with Cache.disk() as cache:\n",
        "    # start the conversation\n",
        "    res = user_proxy.initiate_chat(\n",
        "    retriever_agent, message=\"\"\"How does exercise price determine for ESOP?\n",
        "    \"\"\", summary_method=\"reflection_with_llm\", cache=cache\n",
        "    )"
      ]
    },
    {
      "cell_type": "code",
      "execution_count": 47,
      "metadata": {
        "id": "IU4c3PFXiOMa"
      },
      "outputs": [],
      "source": [
        "answer_grader_agent = ConversableAgent(\n",
        "    name=\"Answer Grader\",\n",
        "    system_message='''You assess whether the retrieved information from Retriever Agent is relevant to the query:(query).\n",
        "    Use retrieved response from retriever_agent and use that information for further process\n",
        "    If relevant, refine it for clarity; if not, suggest additional searches.\n",
        "    Return 'TERMINATE' when grading is complete.''',\n",
        "    llm_config=llm_config,\n",
        "    code_execution_config=False,\n",
        "    human_input_mode=\"NEVER\",\n",
        "    is_termination_msg=lambda msg: \"TERMINATE\" in msg.get(\"content\", \"\").upper(),\n",
        ")"
      ]
    },
    {
      "cell_type": "code",
      "execution_count": 48,
      "metadata": {
        "id": "mKN7UqyTivAh"
      },
      "outputs": [],
      "source": [
        "hallucination_grader_agent = ConversableAgent(\n",
        "    name=\"Hallucination Grader\",\n",
        "    system_message='''You ensure the answer is factually accurate and grounded in the retrieved context.\n",
        "    Return 'TERMINATE' when verification is complete.''',\n",
        "    llm_config=llm_config,\n",
        "    code_execution_config=False,\n",
        "    human_input_mode=\"NEVER\",\n",
        "    is_termination_msg=lambda msg: \"TERMINATE\" in msg.get(\"content\", \"\").upper(),\n",
        ")"
      ]
    },
    {
      "cell_type": "code",
      "execution_count": 49,
      "metadata": {
        "id": "94k8j4LNWRut"
      },
      "outputs": [],
      "source": [
        "final_answer_agent = ConversableAgent(\n",
        "    name=\"Answer Grader\",\n",
        "    system_message='''\"You are a grader assessing whether an answer is useful to resolve a question.\"\n",
        "        \"Make sure you meticulously review the answer and check if it makes sense for the question asked\"\n",
        "        \"If the answer is relevant generate a clear and concise response.\"\n",
        "        \"If the answer gnerated is not relevant then perform a websearch using 'web_search_tool(query)' and based on that provide a response\n",
        "        \"Return 'TERMINATE' when verification is complete.''',\n",
        "    llm_config=llm_config,\n",
        "    code_execution_config=False,\n",
        "    function_map={\"web_search_tool\": web_search_tool},\n",
        "    human_input_mode=\"NEVER\",\n",
        "    is_termination_msg=lambda msg: \"TERMINATE\" in msg.get(\"content\", \"\").upper(),\n",
        ")"
      ]
    },
    {
      "cell_type": "code",
      "source": [
        "\n",
        "autogen.agentchat.register_function(\n",
        "    web_search_tool,\n",
        "    caller=final_answer_agent,\n",
        "    executor=user_proxy,\n",
        "    description=\"Retrieve information from websearch\",\n",
        "\n",
        ")\n",
        "final_answer_agent.llm_config[\"tools\"]"
      ],
      "metadata": {
        "id": "yWJ8j6xrXJPo",
        "colab": {
          "base_uri": "https://localhost:8080/"
        },
        "outputId": "358a5b88-8bc5-4991-daa1-a48bf62dbc99"
      },
      "execution_count": 50,
      "outputs": [
        {
          "output_type": "execute_result",
          "data": {
            "text/plain": [
              "[{'type': 'function',\n",
              "  'function': {'description': 'Retrieve information from websearch',\n",
              "   'name': 'web_search_tool',\n",
              "   'parameters': {'type': 'object',\n",
              "    'properties': {'query': {'type': 'string',\n",
              "      'description': 'question or query ask by user'}},\n",
              "    'required': ['query']}}}]"
            ]
          },
          "metadata": {},
          "execution_count": 50
        }
      ]
    },
    {
      "cell_type": "code",
      "source": [
        "with Cache.disk() as cache:\n",
        "    # start the conversation\n",
        "    res = user_proxy.initiate_chat(\n",
        "    final_answer_agent, message=\"who is presisdent of america?\", summary_method=\"reflection_with_llm\", cache=cache\n",
        "    )"
      ],
      "metadata": {
        "colab": {
          "base_uri": "https://localhost:8080/"
        },
        "id": "ZvKu5jog1uP-",
        "outputId": "85132449-ef9b-4cf7-ae8a-ef700c811777"
      },
      "execution_count": 51,
      "outputs": [
        {
          "output_type": "stream",
          "name": "stdout",
          "text": [
            "user_proxy (to Answer Grader):\n",
            "\n",
            "who is presisdent of america?\n",
            "\n",
            "--------------------------------------------------------------------------------\n",
            "Answer Grader (to user_proxy):\n",
            "\n",
            "***** Suggested tool call (call_watn): web_search_tool *****\n",
            "Arguments: \n",
            "{\"query\": \"president of the United States\"}\n",
            "************************************************************\n",
            "\n",
            "--------------------------------------------------------------------------------\n",
            "\n",
            ">>>>>>>> EXECUTING FUNCTION web_search_tool...\n",
            "user_proxy (to Answer Grader):\n",
            "\n",
            "***** Response from calling tool (call_watn) *****\n",
            "List of presidents of the United States | U.S. Presidents, Presidential Terms, Election Results, Timelines | Britannica Ask the Chatbot Games & Quizzes ProCon History & Society Science & Tech Biographies Animals & Nature Geography & Travel Arts & Culture Money Videos list of presidents of the United States list of presidents of the United States https://www.britannica.com/topic/Presidents-of-the-United-States-1846696 As the head of the government of the United States, the president is arguably the most powerful government official in the world. The table below the graphic provides a list of presidents of the United States, their birthplaces, political parties, and terms of office. Presidents of the United States | 4 | James Madison | Virginia | Democratic-Republican | 1809–17 |\n",
            "\n",
            "Presidents | The White House The 4th President of the United States The 5th President of the United States The 6th President of the United States The 7th President of the United States The 8th President of the United States The 9th President of the United States The 10th President of the United States The 11th President of the United States The 12th President of the United States The 13th President of the United States The 14th President of the United States The 15th President of the United States The 16th President of the United States The 17th President of the United States The 18th President of the United States Biden Jr. THE 46TH PRESIDENT OF THE UNITED STATES\n",
            "\n",
            "The following decade, Woodrow Wilson led the nation to victory during World War I, although Wilson's proposal for the League of Nations was rejected by the Senate.[42]\n",
            "Warren Harding, while popular in office, would see his legacy tarnished by scandals, especially Teapot Dome,[43] and Herbert Hoover quickly became very unpopular after failing to alleviate the Great Depression.[44]\n",
            "Imperial presidency\n",
            "The ascendancy of Franklin D. Roosevelt in 1933 led further toward what historians now describe as the Imperial presidency.[45] Backed by enormous Democratic majorities in Congress and public support for major change, Roosevelt's New Deal dramatically increased the size and scope of the federal government, including more executive agencies.[46]: 211–12  The traditionally small presidential staff was greatly expanded, with the Executive Office of the President being created in 1939, none of whom require Senate confirmation.[46]: 229–231  Roosevelt's unprecedented re-election to a third and fourth term, the victory of the United States in World War II, and the nation's growing economy all helped established the office as a position of global leadership.[46]: 269  His successors, Harry Truman and Dwight D. Eisenhower, each served two terms as the Cold War led the presidency to be viewed as the \"leader of the free world\",[47] while John F. Kennedy was a youthful and popular leader who benefited from the rise of television in the 1960s.[48][49]\n",
            "After Lyndon B. Johnson lost popular support due to the Vietnam War and Richard Nixon's presidency collapsed in the Watergate scandal, Congress enacted a series of reforms intended to reassert itself.[50][51] However, his successor, Martin Van Buren, became unpopular after the Panic of 1837,[31] and the death of William Henry Harrison and subsequent poor relations between John Tyler and Congress led to further weakening of the office.[32] Including Van Buren, in the 24 years between 1837 and 1861, six presidential terms would be filled by eight different men, with none serving two terms.[33] The Senate played an important role during this period, with the Great Triumvirate of Henry Clay, Daniel Webster, and John C. Calhoun playing key roles in shaping national policy in the 1830s and 1840s until debates over slavery began pulling the nation apart in the 1850s.[34][35]\n",
            "Abraham Lincoln's leadership during the Civil War has led historians to regard him as one of the nation's greatest presidents.[D] The circumstances of the war and Republican domination of Congress made the office very powerful,[36][37] and Lincoln's re-election in 1864 was the first time a president had been re-elected since Jackson in 1832. Recent presidents have thus increasingly focused on executive orders, agency regulations, and judicial appointments to implement major policies, at the expense of legislation and congressional power.[60] Presidential elections in the 21st century have reflected this continuing polarization, with no candidate except Obama in 2008 winning by more than five percent of the popular vote and two, George W. Bush and Donald Trump, winning in the Electoral College while losing the popular vote.[E]\n",
            "Critics of presidency's evolution\n",
            "The nation's Founding Fathers expected the Congress, which was the first branch of government described in the Constitution, to be the dominant branch of government; however, they did not expect a strong executive department.[61] However, presidential power has shifted over time, which has resulted in claims that the modern presidency has become too powerful,[62][63] unchecked, unbalanced,[64] and \"monarchist\" in nature.[65] The mechanism has been used by Ronald Reagan (once), George W. Bush (twice), and Joe Biden (once), each in anticipation of surgery.[155][156]\n",
            "The Twenty-fifth Amendment also provides that the vice president, together with a majority of certain members of the Cabinet, may transfer the presidential powers and duties to the vice president by transmitting a written declaration, to the speaker of the House and the president pro tempore of the Senate, to the effect that the president is unable to discharge his or her powers and duties. The exact degree of authority that the Constitution grants to the president as commander-in-chief has been the subject of much debate throughout history, with Congress at various times granting the president wide authority and at others attempting to restrict that authority.[86] The framers of the Constitution took care to limit the president's powers regarding the military; Alexander Hamilton explained this in Federalist No. 69:\n",
            "The President is to be commander-in-chief of the army and navy of the United States. ...\n",
            "\n",
            "National Union[l]\n",
            "1864\n",
            "Andrew Johnson\n",
            "Democratic\n",
            "1872\n",
            "Henry Wilson[e]\n",
            "Vacant afterNovember 22, 1875\n",
            "Vacant afterNovember 25, 1885\n",
            "1900\n",
            "Vacant afterNovember 21, 1899\n",
            "Theodore Roosevelt\n",
            "1904\n",
            "Charles W. Fairbanks\n",
            "Vacant afterOctober 30, 1912\n",
            "1916\n",
            "1924\n",
            "Charles G. Dawes\n",
            "1936\n",
            "1940\n",
            "1944\n",
            "Henry A. Wallace\n",
            "Harry S. Truman\n",
            "1948\n",
            "Alben W. Barkley\n",
            "1956\n",
            "1964\n",
            "Hubert Humphrey\n",
            "1972\n",
            "Vacant:October 10 – December 6, 1973\n",
            "Gerald Ford[t]\n",
            "Nelson Rockefeller[t]\n",
            "1984\n",
            "1996\n",
            "2004\n",
            "2012\n",
            "See also\n",
            "Notes\n",
            "References\n",
            "Works cited\n",
            "General\n",
            "Expert studies\n",
            "Presidential biographies\n",
            "Online sources\n",
            "External links He was, and remains, the only U.S. president never affiliated with a political party.[13]\n",
            "Presidents\n",
            "1792\n",
            "1804\n",
            "George Clinton\n",
            "1812\n",
            "Vacant afterApril 20, 1812\n",
            "Elbridge Gerry[e]\n",
            "Vacant afterNovember 23, 1814\n",
            " Contents\n",
            "List of presidents of the United States\n",
            "The president of the United States is the head of state and head of government of the United States,[1] indirectly elected to a four-year term via the Electoral College.[2] Four presidents died in office of natural causes (William Henry Harrison, Zachary Taylor, Warren G. Harding, and Franklin D. Roosevelt), four were assassinated (Abraham Lincoln, James A. Garfield, William McKinley, and John F. Kennedy), and one resigned (Richard Nixon, facing impeachment and removal from office).[10] John Tyler was the first vice president to assume the presidency during a presidential term, and set the precedent that a vice president who does so becomes the fully functioning president with his presidency.[11]\n",
            "Throughout most of its history, American politics has been dominated by political parties. 1820\n",
            "National Republican\n",
            "1832\n",
            "Vacant afterDecember 28, 1832\n",
            "Martin Van Buren\n",
            "Unaffiliated\n",
            "Vacant afterApril 18, 1853\n",
            "\n",
            "\n",
            "At his inauguration, Biden addressed the country's challenges and divisions, saying, “Few people in our nation’s history have been more challenged or found a time more challenging or difficult than the time we’re in now...To overcome these challenges, to restore the soul and secure the future of America, requires so much more than words and requires the most elusive of all things in a democracy, unity.”\n",
            " Joe Biden\n",
            "By: History.com Editors\n",
            "Updated: April 25, 2023\n",
            "| Original: December 16, 2009\n",
            "Table of Contents\n",
            "Joe Biden (1942-), a man who spent nearly a half-century in public service as a senator and vice president, and who endured profound family loss, became the 46th president of the United States on January 20, 2021.\n",
            " U.S. Presidents\n",
            "Stream U.S. Presidents documentaries and your favorite HISTORY series, commercial-free\n",
            "COVID-19 and the 2020 Election\n",
            "A looming issue throughout the election was the coronavirus pandemic which had claimed more than 230,000 American lives and infected more than 9 million in the country. Although he had appropriately credited Kinnock in prior speeches, he failed to do so during an appearance at the Iowa State Fair and even borrowed facts from Kinnock’s life, stating inaccurately, for example, that he was the first in his family to go to college and that his ancestors were coal miners. Joe Biden as Vice President\n",
            "Biden kicked off his second attempt at the White House 20 years later, during the 2008 primary, but dropped out after securing only 1 percent of the delegates in the Iowa Democratic caucuses. \n",
            "**************************************************\n",
            "\n",
            "--------------------------------------------------------------------------------\n",
            "[autogen.oai.client: 12-02 17:25:11] {410} WARNING - Model llama-3.1-8b-instant is not found. The cost will be 0. In your config_list, add field {\"price\" : [prompt_price_per_1k, completion_token_price_per_1k]} for customized pricing.\n"
          ]
        },
        {
          "output_type": "stream",
          "name": "stderr",
          "text": [
            "WARNING:autogen.oai.client:Model llama-3.1-8b-instant is not found. The cost will be 0. In your config_list, add field {\"price\" : [prompt_price_per_1k, completion_token_price_per_1k]} for customized pricing.\n"
          ]
        },
        {
          "output_type": "stream",
          "name": "stdout",
          "text": [
            "Answer Grader (to user_proxy):\n",
            "\n",
            "Based on the information provided, the current President of the United States is Joe Biden. He has been in office since January 20, 2021, and has been serving as the 46th President of the United States.\n",
            "\n",
            "TERMINATE\n",
            "\n",
            "--------------------------------------------------------------------------------\n",
            "[autogen.oai.client: 12-02 17:25:12] {410} WARNING - Model llama-3.1-8b-instant is not found. The cost will be 0. In your config_list, add field {\"price\" : [prompt_price_per_1k, completion_token_price_per_1k]} for customized pricing.\n"
          ]
        },
        {
          "output_type": "stream",
          "name": "stderr",
          "text": [
            "WARNING:autogen.oai.client:Model llama-3.1-8b-instant is not found. The cost will be 0. In your config_list, add field {\"price\" : [prompt_price_per_1k, completion_token_price_per_1k]} for customized pricing.\n"
          ]
        }
      ]
    },
    {
      "cell_type": "code",
      "source": [
        "query=\"who ic cricket god?\"\n",
        "chats = [\n",
        "    # Step 1: User Proxy to Router Agent\n",
        "    {\n",
        "        \"sender\": user_proxy,\n",
        "        \"recipient\": router_agent,\n",
        "        \"message\":f\"{query}\",\n",
        "        \"summary_method\": \"last_msg\",\n",
        "\n",
        "        \"max_turns\": 2,\n",
        "        \"clear_history\": True,\n",
        "    },\n",
        "    # Step 2: Router Agent to Retriever Agent\n",
        "    {\n",
        "        \"sender\": user_proxy,\n",
        "        \"recipient\": retriever_agent,\n",
        "        \"message\":f\"\"\"use the sender response as routing decision and query:{query}  for retreiving information \",\n",
        "          Will dynamically choose the tool based on the sender response\n",
        "         Provide a concise and clear response.also do no use python code and brave search for web use provided tools for fuction calling only\"\n",
        "        \"\"\",\n",
        "        \"summary_method\": \"last_msg\",\n",
        "        \"max_turns\": 2,\n",
        "        \"clear_history\": False,\n",
        "        # \"carryover\": \"I want to include a use \"\n",
        "    },\n",
        "    # Step 3: Retriever Agent to Answer Grader\n",
        "    {\n",
        "        \"sender\": user_proxy,\n",
        "        \"recipient\": answer_grader_agent,\n",
        "        \"message\": (\"use the sender response as retrived content\"\n",
        "            f\"Evaluate the relevance of the retrieved content from sender to the given query:{query}. \"\n",
        "            \"Provide a binary response: 'yes' or 'no', indicating whether the document is relevant. \"\n",
        "            \"Do not provide explanations or additional information also do not provides python code \"\n",
        "        ),\n",
        "        \"summary_method\": \"reflection_with_llm\",\n",
        "        \"max_turns\": 2,\n",
        "        \"clear_history\": False,\n",
        "    },\n",
        "    # Step 4: Answer Grader Agent to Hallucination Grader Agent\n",
        "    {\n",
        "        \"sender\": user_proxy,\n",
        "        \"recipient\": hallucination_grader_agent,\n",
        "        \"message\": (\n",
        "            \"Evaluate whether the response provided by sender is grounded in the retrieved context. \"\n",
        "            \"Provide a binary score: 'yes' or 'no'. \"\n",
        "            \"Do not include preamble or explanations.\"\n",
        "        ),\n",
        "        \"summary_method\": \"reflection_with_llm\",\n",
        "        \"max_turns\": 2,\n",
        "        \"clear_history\": False,\n",
        "    },\n",
        "    # Step 5: Hallucination Grader Agent to Final Answer Agent\n",
        "    {\n",
        "        \"sender\": user_proxy,\n",
        "        \"recipient\": final_answer_agent,\n",
        "        \"message\": (\n",
        "            \"If the response from sender is 'yes', generate a clear and concise final answer. \"\n",
        "            \"If 'no', perform a web search using 'web_search_tool(query)' and provide the response based on the new search.\"\n",
        "        ),\n",
        "        \"summary_method\": \"reflection_with_llm\",\n",
        "        \"max_turns\": 2,\n",
        "        \"clear_history\": False,\n",
        "    },\n",
        "    # Step 6: Final Answer Agent to User Proxy\n",
        "    {\n",
        "        \"sender\": final_answer_agent,\n",
        "        \"recipient\": user_proxy,\n",
        "        \"message\": (\n",
        "            \"Here is the finalized answer to your query. I hope this resolves your question effectively.\"\n",
        "        ),\n",
        "        \"summary_method\": \"reflection_with_llm\",\n",
        "        \"max_turns\": 1,\n",
        "        \"clear_history\": False,\n",
        "    },\n",
        "]\n"
      ],
      "metadata": {
        "id": "ztwQWeHmMir4"
      },
      "execution_count": 52,
      "outputs": []
    },
    {
      "cell_type": "code",
      "execution_count": 53,
      "metadata": {
        "colab": {
          "base_uri": "https://localhost:8080/"
        },
        "id": "sBEOCHBYQKUQ",
        "outputId": "3c442e00-6585-4b22-964b-b6f9d50c0ad2"
      },
      "outputs": [
        {
          "output_type": "stream",
          "name": "stdout",
          "text": [
            "\n",
            "********************************************************************************\n",
            "Starting a new chat....\n",
            "\n",
            "********************************************************************************\n",
            "user_proxy (to Router Agent):\n",
            "\n",
            "who ic cricket god?\n",
            "\n",
            "--------------------------------------------------------------------------------\n",
            "[autogen.oai.client: 12-02 17:25:59] {410} WARNING - Model llama-3.1-8b-instant is not found. The cost will be 0. In your config_list, add field {\"price\" : [prompt_price_per_1k, completion_token_price_per_1k]} for customized pricing.\n"
          ]
        },
        {
          "output_type": "stream",
          "name": "stderr",
          "text": [
            "WARNING:autogen.oai.client:Model llama-3.1-8b-instant is not found. The cost will be 0. In your config_list, add field {\"price\" : [prompt_price_per_1k, completion_token_price_per_1k]} for customized pricing.\n"
          ]
        },
        {
          "output_type": "stream",
          "name": "stdout",
          "text": [
            "Router Agent (to user_proxy):\n",
            "\n",
            "<function=router_tool>{\"query\": \"who is cricket god\"}<function>\n",
            "\n",
            "--------------------------------------------------------------------------------\n",
            "user_proxy (to Router Agent):\n",
            "\n",
            "\n",
            "\n",
            "--------------------------------------------------------------------------------\n",
            "[autogen.oai.client: 12-02 17:25:59] {410} WARNING - Model llama-3.1-8b-instant is not found. The cost will be 0. In your config_list, add field {\"price\" : [prompt_price_per_1k, completion_token_price_per_1k]} for customized pricing.\n"
          ]
        },
        {
          "output_type": "stream",
          "name": "stderr",
          "text": [
            "WARNING:autogen.oai.client:Model llama-3.1-8b-instant is not found. The cost will be 0. In your config_list, add field {\"price\" : [prompt_price_per_1k, completion_token_price_per_1k]} for customized pricing.\n"
          ]
        },
        {
          "output_type": "stream",
          "name": "stdout",
          "text": [
            "Router Agent (to user_proxy):\n",
            "\n",
            "<function=websearch>{\"query\": \"cricket god\"}<function>\n",
            "\n",
            "--------------------------------------------------------------------------------\n",
            "\n",
            "********************************************************************************\n",
            "Starting a new chat....\n",
            "\n",
            "********************************************************************************\n",
            "user_proxy (to Retriever Agent):\n",
            "\n",
            "use the sender response as routing decision and query:who ic cricket god?  for retreiving information \",\n",
            "          Will dynamically choose the tool based on the sender response\n",
            "         Provide a concise and clear response.also do no use python code and brave search for web use provided tools for fuction calling only\"\n",
            "        \n",
            "Context: \n",
            "<function=websearch>{\"query\": \"cricket god\"}<function>\n",
            "\n",
            "--------------------------------------------------------------------------------\n",
            "[autogen.oai.client: 12-02 17:26:00] {410} WARNING - Model llama-3.1-8b-instant is not found. The cost will be 0. In your config_list, add field {\"price\" : [prompt_price_per_1k, completion_token_price_per_1k]} for customized pricing.\n"
          ]
        },
        {
          "output_type": "stream",
          "name": "stderr",
          "text": [
            "WARNING:autogen.oai.client:Model llama-3.1-8b-instant is not found. The cost will be 0. In your config_list, add field {\"price\" : [prompt_price_per_1k, completion_token_price_per_1k]} for customized pricing.\n"
          ]
        },
        {
          "output_type": "stream",
          "name": "stdout",
          "text": [
            "Retriever Agent (to user_proxy):\n",
            "\n",
            "***** Suggested tool call (call_ypkw): pdf_search_tool *****\n",
            "Arguments: \n",
            "{\"query\": \"who is the god of cricket\"}\n",
            "************************************************************\n",
            "\n",
            "--------------------------------------------------------------------------------\n",
            "\n",
            ">>>>>>>> EXECUTING FUNCTION pdf_search_tool...\n",
            "user_proxy (to Retriever Agent):\n",
            "\n",
            "***** Response from calling tool (call_ypkw) *****\n",
            "of a higher salary, and the organization where they are \n",
            "employed is not growing as per the market standards \n",
            "or in comparison to its competitors, ESOP may result \n",
            "in monetary loss.\n",
            "Q.  How does exercise price determine for ESOP?\n",
            "A. Companies are free to decide the exercise price, \n",
            "which may be issued at a discount or premium but the \n",
            "exercise price determined by the Company shall not \n",
            "be less than the par value of the shares.\n",
            "Q.  Does it mandatory for the Company to issue and \n",
            "allot only fresh shares under ESOP scheme?\n",
            "A. No, it is not mandatory for the company to issue and \n",
            "allot only fresh shares under ESOP scheme, but it may \n",
            "choose either option:\n",
            " 1.  If Company is willing to issue fresh shares, it \n",
            "should adopt direct route to issue and allot shares \n",
            "under the scheme of ESOP.\n",
            " 2. If the Company is willing to channelize its \n",
            "existing share only, in such case Company should \n",
            "adopt Trust route to issue and allot shares under \n",
            "the scheme of ESOP.\n",
            "Q.  How are ESOP taxed in India?\n",
            "\n",
            "In case of approval route, approval from RBI is mandatory \n",
            "prior to the grant of such ESOP to the foreign employees.  \n",
            "But for automatic route there is no approval required.\n",
            "Note: If Indian holding company issues ESOP to \n",
            "employees of its foreign subsidiary, who are working in the \n",
            "land sharing border countries such as Pakistan, Bhutan, \n",
            "China, Taiwan, Nepal, Macao, Hong Kong, Myanmar etc \n",
            "the approval from the Reserve Bank of India is mandatory. \n",
            "Forms to be filed:\n",
            "In case if FEMA regulations trigger there shall be filing \n",
            "in two ways:\n",
            "1. At the time of granting of options issuer needs to file \n",
            "Form ESOP Reporting Form with RBI.\n",
            "2. And at the time of issue and allotment of Capital \n",
            "Instruments the Form FCGPR shall be filed.\n",
            "ISSUE OF ESOP\n",
            "Before proceeding for Employee Stock Option Plan \n",
            "(ESOP) one aspect must be kept in mind, if a company \n",
            "plans to issue shares under the scheme of Employee \n",
            "Stock Option Plan (ESOP), it should ensure that the\n",
            "\n",
            "proper books of account, records and documents for each \n",
            "scheme so as to explain its transactions and to disclose at \n",
            "any point of time, the financial position of each scheme \n",
            "and in particular give a true and fair view of the state of \n",
            "affairs of each scheme.  \n",
            "Employees eligible for ESOP: Employee who are eligible \n",
            "for ESOP are as under: \n",
            "Employee except in relation to issue of sweat equity \n",
            "shares, means, \n",
            "(i) An employee as designated by the company, who is \n",
            "exclusively working in India or outside India; or \n",
            "(ii) A Director of the company, whether a whole-time \n",
            "Director or not, including a Non-Executive Director \n",
            "who is not a promoter or member of the promoter \n",
            "group, but excluding an Independent Director; or  \n",
            "(iii) An employee as defined in sub-clauses(i) or (ii), of a \n",
            "group company including subsidiary or its associate \n",
            "company, in India or outside India, or of a holding \n",
            "company of the company, but does not include—\n",
            " (a)  An employee who is a promoter or a person\n",
            "\n",
            "means-\n",
            " (a)  A permanent employee of the company who has \n",
            "been working in India or outside India; or\n",
            " (b)  A Director of the company, whether a whole-time \n",
            "Director or not but excluding an Independent \n",
            "Director; or\n",
            " (c)  An employee as defined in clauses (a) or (b) of \n",
            "a subsidiary, in India or outside India, or of a \n",
            "holding company of the company but does not \n",
            "include-\n",
            " (i)  An employee who is a promoter or a person \n",
            "belonging to the promoter group; or\n",
            " (ii)  A Director who either himself or through his \n",
            "relative or through any-body corporate, directly \n",
            "or indirectly, holds more than ten percent of the \n",
            "outstanding equity shares of the company.\n",
            "As per Rule 12 of the Company (Share Capital and \n",
            "debenture) Rules, 2014, Employees have no right to \n",
            "receive any dividend or to vote or in any manner or enjoy \n",
            "the benefits of a shareholder in respect of option granted \n",
            "to them, till shares are issued on the exercise of the  \n",
            "option. \n",
            "Rule 16 of The Companies (Share Capital and\n",
            "**************************************************\n",
            "\n",
            "--------------------------------------------------------------------------------\n",
            "[autogen.oai.client: 12-02 17:26:00] {410} WARNING - Model llama-3.1-8b-instant is not found. The cost will be 0. In your config_list, add field {\"price\" : [prompt_price_per_1k, completion_token_price_per_1k]} for customized pricing.\n"
          ]
        },
        {
          "output_type": "stream",
          "name": "stderr",
          "text": [
            "WARNING:autogen.oai.client:Model llama-3.1-8b-instant is not found. The cost will be 0. In your config_list, add field {\"price\" : [prompt_price_per_1k, completion_token_price_per_1k]} for customized pricing.\n"
          ]
        },
        {
          "output_type": "stream",
          "name": "stdout",
          "text": [
            "Retriever Agent (to user_proxy):\n",
            "\n",
            "Sachin Tendulkar is often referred to as the \"God of Cricket\" due to his exceptional skills and achievements in the game.\n",
            "\n",
            "--------------------------------------------------------------------------------\n",
            "\n",
            "********************************************************************************\n",
            "Starting a new chat....\n",
            "\n",
            "********************************************************************************\n",
            "user_proxy (to Answer Grader):\n",
            "\n",
            "use the sender response as retrived contentEvaluate the relevance of the retrieved content from sender to the given query:who ic cricket god?. Provide a binary response: 'yes' or 'no', indicating whether the document is relevant. Do not provide explanations or additional information also do not provides python code \n",
            "Context: \n",
            "<function=websearch>{\"query\": \"cricket god\"}<function>\n",
            "Sachin Tendulkar is often referred to as the \"God of Cricket\" due to his exceptional skills and achievements in the game.\n",
            "\n",
            "--------------------------------------------------------------------------------\n",
            "[autogen.oai.client: 12-02 17:26:01] {410} WARNING - Model llama-3.1-8b-instant is not found. The cost will be 0. In your config_list, add field {\"price\" : [prompt_price_per_1k, completion_token_price_per_1k]} for customized pricing.\n"
          ]
        },
        {
          "output_type": "stream",
          "name": "stderr",
          "text": [
            "WARNING:autogen.oai.client:Model llama-3.1-8b-instant is not found. The cost will be 0. In your config_list, add field {\"price\" : [prompt_price_per_1k, completion_token_price_per_1k]} for customized pricing.\n"
          ]
        },
        {
          "output_type": "stream",
          "name": "stdout",
          "text": [
            "Answer Grader (to user_proxy):\n",
            "\n",
            "yes\n",
            "\n",
            "--------------------------------------------------------------------------------\n",
            "user_proxy (to Answer Grader):\n",
            "\n",
            "\n",
            "\n",
            "--------------------------------------------------------------------------------\n",
            "[autogen.oai.client: 12-02 17:26:01] {410} WARNING - Model llama-3.1-8b-instant is not found. The cost will be 0. In your config_list, add field {\"price\" : [prompt_price_per_1k, completion_token_price_per_1k]} for customized pricing.\n"
          ]
        },
        {
          "output_type": "stream",
          "name": "stderr",
          "text": [
            "WARNING:autogen.oai.client:Model llama-3.1-8b-instant is not found. The cost will be 0. In your config_list, add field {\"price\" : [prompt_price_per_1k, completion_token_price_per_1k]} for customized pricing.\n"
          ]
        },
        {
          "output_type": "stream",
          "name": "stdout",
          "text": [
            "Answer Grader (to user_proxy):\n",
            "\n",
            "TERMINATE\n",
            "\n",
            "--------------------------------------------------------------------------------\n",
            "[autogen.oai.client: 12-02 17:26:01] {410} WARNING - Model llama-3.1-8b-instant is not found. The cost will be 0. In your config_list, add field {\"price\" : [prompt_price_per_1k, completion_token_price_per_1k]} for customized pricing.\n"
          ]
        },
        {
          "output_type": "stream",
          "name": "stderr",
          "text": [
            "WARNING:autogen.oai.client:Model llama-3.1-8b-instant is not found. The cost will be 0. In your config_list, add field {\"price\" : [prompt_price_per_1k, completion_token_price_per_1k]} for customized pricing.\n"
          ]
        },
        {
          "output_type": "stream",
          "name": "stdout",
          "text": [
            "\n",
            "********************************************************************************\n",
            "Starting a new chat....\n",
            "\n",
            "********************************************************************************\n",
            "user_proxy (to Hallucination Grader):\n",
            "\n",
            "Evaluate whether the response provided by sender is grounded in the retrieved context. Provide a binary score: 'yes' or 'no'. Do not include preamble or explanations.\n",
            "Context: \n",
            "<function=websearch>{\"query\": \"cricket god\"}<function>\n",
            "Sachin Tendulkar is often referred to as the \"God of Cricket\" due to his exceptional skills and achievements in the game.\n",
            "reinvoke conversation\n",
            "\n",
            "--------------------------------------------------------------------------------\n",
            "[autogen.oai.client: 12-02 17:26:01] {410} WARNING - Model llama-3.1-8b-instant is not found. The cost will be 0. In your config_list, add field {\"price\" : [prompt_price_per_1k, completion_token_price_per_1k]} for customized pricing.\n"
          ]
        },
        {
          "output_type": "stream",
          "name": "stderr",
          "text": [
            "WARNING:autogen.oai.client:Model llama-3.1-8b-instant is not found. The cost will be 0. In your config_list, add field {\"price\" : [prompt_price_per_1k, completion_token_price_per_1k]} for customized pricing.\n"
          ]
        },
        {
          "output_type": "stream",
          "name": "stdout",
          "text": [
            "Hallucination Grader (to user_proxy):\n",
            "\n",
            "yes\n",
            "\n",
            "--------------------------------------------------------------------------------\n",
            "user_proxy (to Hallucination Grader):\n",
            "\n",
            "\n",
            "\n",
            "--------------------------------------------------------------------------------\n",
            "[autogen.oai.client: 12-02 17:26:02] {410} WARNING - Model llama-3.1-8b-instant is not found. The cost will be 0. In your config_list, add field {\"price\" : [prompt_price_per_1k, completion_token_price_per_1k]} for customized pricing.\n"
          ]
        },
        {
          "output_type": "stream",
          "name": "stderr",
          "text": [
            "WARNING:autogen.oai.client:Model llama-3.1-8b-instant is not found. The cost will be 0. In your config_list, add field {\"price\" : [prompt_price_per_1k, completion_token_price_per_1k]} for customized pricing.\n"
          ]
        },
        {
          "output_type": "stream",
          "name": "stdout",
          "text": [
            "Hallucination Grader (to user_proxy):\n",
            "\n",
            "TERMINATE\n",
            "\n",
            "--------------------------------------------------------------------------------\n",
            "[autogen.oai.client: 12-02 17:26:02] {410} WARNING - Model llama-3.1-8b-instant is not found. The cost will be 0. In your config_list, add field {\"price\" : [prompt_price_per_1k, completion_token_price_per_1k]} for customized pricing.\n"
          ]
        },
        {
          "output_type": "stream",
          "name": "stderr",
          "text": [
            "WARNING:autogen.oai.client:Model llama-3.1-8b-instant is not found. The cost will be 0. In your config_list, add field {\"price\" : [prompt_price_per_1k, completion_token_price_per_1k]} for customized pricing.\n"
          ]
        },
        {
          "output_type": "stream",
          "name": "stdout",
          "text": [
            "\n",
            "********************************************************************************\n",
            "Starting a new chat....\n",
            "\n",
            "********************************************************************************\n",
            "user_proxy (to Answer Grader):\n",
            "\n",
            "If the response from sender is 'yes', generate a clear and concise final answer. If 'no', perform a web search using 'web_search_tool(query)' and provide the response based on the new search.\n",
            "Context: \n",
            "<function=websearch>{\"query\": \"cricket god\"}<function>\n",
            "Sachin Tendulkar is often referred to as the \"God of Cricket\" due to his exceptional skills and achievements in the game.\n",
            "reinvoke conversation\n",
            "no\n",
            "\n",
            "--------------------------------------------------------------------------------\n",
            "[autogen.oai.client: 12-02 17:26:02] {410} WARNING - Model llama-3.1-8b-instant is not found. The cost will be 0. In your config_list, add field {\"price\" : [prompt_price_per_1k, completion_token_price_per_1k]} for customized pricing.\n"
          ]
        },
        {
          "output_type": "stream",
          "name": "stderr",
          "text": [
            "WARNING:autogen.oai.client:Model llama-3.1-8b-instant is not found. The cost will be 0. In your config_list, add field {\"price\" : [prompt_price_per_1k, completion_token_price_per_1k]} for customized pricing.\n"
          ]
        },
        {
          "output_type": "stream",
          "name": "stdout",
          "text": [
            "Answer Grader (to user_proxy):\n",
            "\n",
            "***** Suggested tool call (call_xwab): web_search_tool *****\n",
            "Arguments: \n",
            "{\"query\": \"cricket god\"}\n",
            "************************************************************\n",
            "\n",
            "--------------------------------------------------------------------------------\n",
            "\n",
            ">>>>>>>> EXECUTING FUNCTION web_search_tool...\n",
            "user_proxy (to Answer Grader):\n",
            "\n",
            "***** Response from calling tool (call_xwab) *****\n",
            "God of Cricket : Sachin Tendulkar - sportston God of Cricket : Sachin Tendulkar In this comprehensive exploration, we embark on a voyage through the extraordinary odyssey of the “God of Cricket,” Sachin Tendulkar, whose career and life stand as a resounding testament to unwavering dedication, unparalleled skill, and the humility that distinguishes a true legend. Sachin Tendulkar’s imprint on cricket extends beyond the boundaries of a stadium. More than a cricketer, Sachin Tendulkar stands as a symbol of sportsmanship, humility, and unwavering dedication. In essence, Sachin Tendulkar’s legacy is eternally etched in the history of the game, where he reigns supreme as the undisputed “God of Cricket.”\n",
            "\n",
            "Learn why Sachin Tendulkar is universally acknowledged as the God of Cricket, based on his records, achievements, and batting style. Explore his career highlights, awards, and global impact as a cricketing legend.\n",
            "\n",
            "In this blog, we'll explore the journey of the God of cricket, Sachin Tendulkar: 34,357 runs, 100 tons, 164 half-centuries at an avg of 51.74\n",
            "\n",
            "Tendulkar's career spanned 24 years and his contribution to cricket is unparalleled. In this blog, we will delve into why Sachin Tendulkar is considered the God of cricket. Tendulkar's Early Days. Tendulkar started playing cricket at the age of 11 and was coached by Ramakant Achrekar. He made his debut for the Indian cricket team at the age\n",
            "\n",
            "Sachin Tendulkar after winning the 2011 Cricket World Cup [X] Sachin Tendulkar is one of the greatest batters to have ever graced the game. Hailing from India, after making his debut in 1989, Tendulkar reached a level of excellence where he went ahead of all his contemporaries and became an inspiration for the generations to come.\n",
            "**************************************************\n",
            "\n",
            "--------------------------------------------------------------------------------\n",
            "[autogen.oai.client: 12-02 17:26:05] {410} WARNING - Model llama-3.1-8b-instant is not found. The cost will be 0. In your config_list, add field {\"price\" : [prompt_price_per_1k, completion_token_price_per_1k]} for customized pricing.\n"
          ]
        },
        {
          "output_type": "stream",
          "name": "stderr",
          "text": [
            "WARNING:autogen.oai.client:Model llama-3.1-8b-instant is not found. The cost will be 0. In your config_list, add field {\"price\" : [prompt_price_per_1k, completion_token_price_per_1k]} for customized pricing.\n"
          ]
        },
        {
          "output_type": "stream",
          "name": "stdout",
          "text": [
            "Answer Grader (to user_proxy):\n",
            "\n",
            "Sachin Tendulkar is often referred to as the \"God of Cricket\" due to his exceptional skills and achievements in the game, which include having scored 34,357 runs and 100 tons, along with 164 half-centuries at an average of 51.74 in his 24-year career.\n",
            "\n",
            "--------------------------------------------------------------------------------\n",
            "[autogen.oai.client: 12-02 17:26:06] {410} WARNING - Model llama-3.1-8b-instant is not found. The cost will be 0. In your config_list, add field {\"price\" : [prompt_price_per_1k, completion_token_price_per_1k]} for customized pricing.\n"
          ]
        },
        {
          "output_type": "stream",
          "name": "stderr",
          "text": [
            "WARNING:autogen.oai.client:Model llama-3.1-8b-instant is not found. The cost will be 0. In your config_list, add field {\"price\" : [prompt_price_per_1k, completion_token_price_per_1k]} for customized pricing.\n"
          ]
        },
        {
          "output_type": "stream",
          "name": "stdout",
          "text": [
            "\n",
            "********************************************************************************\n",
            "Starting a new chat....\n",
            "\n",
            "********************************************************************************\n",
            "Answer Grader (to user_proxy):\n",
            "\n",
            "Here is the finalized answer to your query. I hope this resolves your question effectively.\n",
            "Context: \n",
            "<function=websearch>{\"query\": \"cricket god\"}<function>\n",
            "Sachin Tendulkar is often referred to as the \"God of Cricket\" due to his exceptional skills and achievements in the game.\n",
            "reinvoke conversation\n",
            "no\n",
            "TERMINATE\n",
            "\n",
            "--------------------------------------------------------------------------------\n",
            "[autogen.oai.client: 12-02 17:26:06] {410} WARNING - Model llama-3.1-8b-instant is not found. The cost will be 0. In your config_list, add field {\"price\" : [prompt_price_per_1k, completion_token_price_per_1k]} for customized pricing.\n"
          ]
        },
        {
          "output_type": "stream",
          "name": "stderr",
          "text": [
            "WARNING:autogen.oai.client:Model llama-3.1-8b-instant is not found. The cost will be 0. In your config_list, add field {\"price\" : [prompt_price_per_1k, completion_token_price_per_1k]} for customized pricing.\n"
          ]
        }
      ],
      "source": [
        "\n",
        "from autogen import initiate_chats\n",
        "\n",
        "chat_results = initiate_chats(chats)"
      ]
    },
    {
      "cell_type": "code",
      "source": [
        "query=\"How does exercise price determine for ESOP?\"\n",
        "chats = [\n",
        "    # Step 1: User Proxy to Router Agent\n",
        "    {\n",
        "        \"sender\": user_proxy,\n",
        "        \"recipient\": router_agent,\n",
        "        \"message\":f\"{query}\",\n",
        "        \"summary_method\": \"last_msg\",\n",
        "\n",
        "        \"max_turns\": 2,\n",
        "        \"clear_history\": True,\n",
        "    },\n",
        "    # Step 2: Router Agent to Retriever Agent\n",
        "    {\n",
        "        \"sender\": user_proxy,\n",
        "        \"recipient\": retriever_agent,\n",
        "        \"message\":f\"\"\"use the sender response as routing decision and query:{query}  for retreiving information \",\n",
        "          Will dynamically choose the tool based on the sender response\n",
        "         Provide a concise and clear response.also do no use python code and brave search for web use provided tools for fuction calling only\"\n",
        "        \"\"\",\n",
        "        \"summary_method\": \"last_msg\",\n",
        "        \"max_turns\": 2,\n",
        "        \"clear_history\": False,\n",
        "        # \"carryover\": \"I want to include a use \"\n",
        "    },\n",
        "    # Step 3: Retriever Agent to Answer Grader\n",
        "    {\n",
        "        \"sender\": user_proxy,\n",
        "        \"recipient\": answer_grader_agent,\n",
        "        \"message\": (\"use the sender response as retrived content\"\n",
        "            f\"Evaluate the relevance of the retrieved content from sender to the given query:{query}. \"\n",
        "            \"Provide a binary response: 'yes' or 'no', indicating whether the document is relevant. \"\n",
        "            \"Do not provide explanations or additional information also do not provides python code \"\n",
        "        ),\n",
        "        \"summary_method\": \"reflection_with_llm\",\n",
        "        \"max_turns\": 2,\n",
        "        \"clear_history\": False,\n",
        "    },\n",
        "    # Step 4: Answer Grader Agent to Hallucination Grader Agent\n",
        "    {\n",
        "        \"sender\": user_proxy,\n",
        "        \"recipient\": hallucination_grader_agent,\n",
        "        \"message\": (\n",
        "            \"Evaluate whether the response provided by sender is grounded in the retrieved context. \"\n",
        "            \"Provide a binary score: 'yes' or 'no'. \"\n",
        "            \"Do not include preamble or explanations.\"\n",
        "        ),\n",
        "        \"summary_method\": \"reflection_with_llm\",\n",
        "        \"max_turns\": 2,\n",
        "        \"clear_history\": False,\n",
        "    },\n",
        "    # Step 5: Hallucination Grader Agent to Final Answer Agent\n",
        "    {\n",
        "        \"sender\": user_proxy,\n",
        "        \"recipient\": final_answer_agent,\n",
        "        \"message\": (\n",
        "            \"If the response from sender is 'yes', generate a clear and concise final answer. \"\n",
        "            \"If 'no', perform a web search using 'web_search_tool(query)' and provide the response based on the new search.\"\n",
        "        ),\n",
        "        \"summary_method\": \"reflection_with_llm\",\n",
        "        \"max_turns\": 2,\n",
        "        \"clear_history\": False,\n",
        "    },\n",
        "    # Step 6: Final Answer Agent to User Proxy\n",
        "    {\n",
        "        \"sender\": final_answer_agent,\n",
        "        \"recipient\": user_proxy,\n",
        "        \"message\": (\n",
        "            \"Here is the finalized answer to your query. I hope this resolves your question effectively.\"\n",
        "        ),\n",
        "        \"summary_method\": \"reflection_with_llm\",\n",
        "        \"max_turns\": 1,\n",
        "        \"clear_history\": False,\n",
        "    },\n",
        "]\n"
      ],
      "metadata": {
        "id": "10oTOrGSC87e"
      },
      "execution_count": 54,
      "outputs": []
    },
    {
      "cell_type": "code",
      "execution_count": 55,
      "metadata": {
        "colab": {
          "base_uri": "https://localhost:8080/"
        },
        "id": "EenxzuDwosET",
        "outputId": "420bc4e7-548f-4086-c7a3-eccd5867af29"
      },
      "outputs": [
        {
          "output_type": "stream",
          "name": "stdout",
          "text": [
            "\n",
            "********************************************************************************\n",
            "Starting a new chat....\n",
            "\n",
            "********************************************************************************\n",
            "user_proxy (to Router Agent):\n",
            "\n",
            "How does exercise price determine for ESOP?\n",
            "\n",
            "--------------------------------------------------------------------------------\n",
            "[autogen.oai.client: 12-02 17:28:31] {410} WARNING - Model llama-3.1-8b-instant is not found. The cost will be 0. In your config_list, add field {\"price\" : [prompt_price_per_1k, completion_token_price_per_1k]} for customized pricing.\n"
          ]
        },
        {
          "output_type": "stream",
          "name": "stderr",
          "text": [
            "WARNING:autogen.oai.client:Model llama-3.1-8b-instant is not found. The cost will be 0. In your config_list, add field {\"price\" : [prompt_price_per_1k, completion_token_price_per_1k]} for customized pricing.\n"
          ]
        },
        {
          "output_type": "stream",
          "name": "stdout",
          "text": [
            "Router Agent (to user_proxy):\n",
            "\n",
            "***** Suggested tool call (call_kxgz): router_tool *****\n",
            "Arguments: \n",
            "{\"query\": \"How does exercise price determine for ESOP?\"}\n",
            "********************************************************\n",
            "\n",
            "--------------------------------------------------------------------------------\n",
            "\n",
            ">>>>>>>> EXECUTING FUNCTION router_tool...\n",
            "user_proxy (to Router Agent):\n",
            "\n",
            "***** Response from calling tool (call_kxgz) *****\n",
            "vectorstore\n",
            "**************************************************\n",
            "\n",
            "--------------------------------------------------------------------------------\n",
            "[autogen.oai.client: 12-02 17:28:31] {410} WARNING - Model llama-3.1-8b-instant is not found. The cost will be 0. In your config_list, add field {\"price\" : [prompt_price_per_1k, completion_token_price_per_1k]} for customized pricing.\n"
          ]
        },
        {
          "output_type": "stream",
          "name": "stderr",
          "text": [
            "WARNING:autogen.oai.client:Model llama-3.1-8b-instant is not found. The cost will be 0. In your config_list, add field {\"price\" : [prompt_price_per_1k, completion_token_price_per_1k]} for customized pricing.\n"
          ]
        },
        {
          "output_type": "stream",
          "name": "stdout",
          "text": [
            "Router Agent (to user_proxy):\n",
            "\n",
            "TERMINATE\n",
            "\n",
            "--------------------------------------------------------------------------------\n",
            "\n",
            "********************************************************************************\n",
            "Starting a new chat....\n",
            "\n",
            "********************************************************************************\n",
            "user_proxy (to Retriever Agent):\n",
            "\n",
            "use the sender response as routing decision and query:How does exercise price determine for ESOP?  for retreiving information \",\n",
            "          Will dynamically choose the tool based on the sender response\n",
            "         Provide a concise and clear response.also do no use python code and brave search for web use provided tools for fuction calling only\"\n",
            "        \n",
            "Context: \n",
            "\n",
            "\n",
            "--------------------------------------------------------------------------------\n",
            "[autogen.oai.client: 12-02 17:28:31] {410} WARNING - Model llama-3.1-8b-instant is not found. The cost will be 0. In your config_list, add field {\"price\" : [prompt_price_per_1k, completion_token_price_per_1k]} for customized pricing.\n"
          ]
        },
        {
          "output_type": "stream",
          "name": "stderr",
          "text": [
            "WARNING:autogen.oai.client:Model llama-3.1-8b-instant is not found. The cost will be 0. In your config_list, add field {\"price\" : [prompt_price_per_1k, completion_token_price_per_1k]} for customized pricing.\n"
          ]
        },
        {
          "output_type": "stream",
          "name": "stdout",
          "text": [
            "Retriever Agent (to user_proxy):\n",
            "\n",
            "***** Suggested tool call (call_m393): pdf_search_tool *****\n",
            "Arguments: \n",
            "{\"query\": \"ESOP exercise price determination process\"}\n",
            "************************************************************\n",
            "\n",
            "--------------------------------------------------------------------------------\n",
            "\n",
            ">>>>>>>> EXECUTING FUNCTION pdf_search_tool...\n",
            "user_proxy (to Retriever Agent):\n",
            "\n",
            "***** Response from calling tool (call_m393) *****\n",
            "of a higher salary, and the organization where they are \n",
            "employed is not growing as per the market standards \n",
            "or in comparison to its competitors, ESOP may result \n",
            "in monetary loss.\n",
            "Q.  How does exercise price determine for ESOP?\n",
            "A. Companies are free to decide the exercise price, \n",
            "which may be issued at a discount or premium but the \n",
            "exercise price determined by the Company shall not \n",
            "be less than the par value of the shares.\n",
            "Q.  Does it mandatory for the Company to issue and \n",
            "allot only fresh shares under ESOP scheme?\n",
            "A. No, it is not mandatory for the company to issue and \n",
            "allot only fresh shares under ESOP scheme, but it may \n",
            "choose either option:\n",
            " 1.  If Company is willing to issue fresh shares, it \n",
            "should adopt direct route to issue and allot shares \n",
            "under the scheme of ESOP.\n",
            " 2. If the Company is willing to channelize its \n",
            "existing share only, in such case Company should \n",
            "adopt Trust route to issue and allot shares under \n",
            "the scheme of ESOP.\n",
            "Q.  How are ESOP taxed in India?\n",
            "\n",
            "completed.\n",
            "Exercise period:  It means the time period which starts \n",
            "after the completion of vesting period within which an \n",
            "employee can exercise his/her right to apply for shares \n",
            "against the vested options in pursuance of the scheme of \n",
            "ESOP approved by the shareholders in general meeting by \n",
            "way of Special Resolution.\n",
            "Exercise price: Means the price payable by an employee \n",
            "for exercising the options granted in pursuance of the \n",
            "scheme of ESOP. \n",
            "ARTICLE\n",
            "JANUARY 2024   |   107   CHARTERED SECRETARY\n",
            "\n",
            "issued pursuant to ESOP.\n",
            " Fix time, date and venue to convene the Extra \n",
            "Ordinary General Meeting to pass Special Resolution \n",
            "for issuing ESOP.\n",
            " Give outcome of Board meeting to Stock Exchange(s) \n",
            "within 30 minutes from the conclusion of the meeting.\n",
            "Employees can exercise his option and \n",
            "purchase shares after the vesting date is \n",
            "over at a pre-determined price, which is \n",
            "usually less than the share’s Fair Market \n",
            "Value (FMV). As a result, the difference \n",
            "between the FMV and the exercise price of \n",
            "the share is considered a perquisite in the \n",
            "employee’s hands and taxed at his income \n",
            "tax slab rate.\n",
            "ARTICLE\n",
            "112    |   JANUARY 2024    CHARTERED SECRETARY\n",
            "Employee Stock Option Plan (ESOP) : The Finer Nuances\n",
            "\n",
            "EXERCISING OF OPTIONS\n",
            " After vesting period when eligible employees \n",
            "exercise their options; Company is required to \n",
            "convene Board Meeting to allot shares under the \n",
            "ESOP scheme to the employees who exercised the  \n",
            "option. \n",
            "ARTICLE\n",
            "JANUARY 2024   |   113   CHARTERED SECRETARY\n",
            "Employee Stock Option Plan (ESOP) : The Finer Nuances\n",
            "**************************************************\n",
            "\n",
            "--------------------------------------------------------------------------------\n",
            "[autogen.oai.client: 12-02 17:28:32] {410} WARNING - Model llama-3.1-8b-instant is not found. The cost will be 0. In your config_list, add field {\"price\" : [prompt_price_per_1k, completion_token_price_per_1k]} for customized pricing.\n"
          ]
        },
        {
          "output_type": "stream",
          "name": "stderr",
          "text": [
            "WARNING:autogen.oai.client:Model llama-3.1-8b-instant is not found. The cost will be 0. In your config_list, add field {\"price\" : [prompt_price_per_1k, completion_token_price_per_1k]} for customized pricing.\n"
          ]
        },
        {
          "output_type": "stream",
          "name": "stdout",
          "text": [
            "Retriever Agent (to user_proxy):\n",
            "\n",
            "The exercise price for ESOP is determined by the company and can be issued at a discount or premium, but it must not be less than the par value of the shares. The company has the flexibility to decide the exercise price, and it can be determined based on various factors such as the company's performance, market conditions, and the employees' eligibility criteria.\n",
            "\n",
            "--------------------------------------------------------------------------------\n",
            "\n",
            "********************************************************************************\n",
            "Starting a new chat....\n",
            "\n",
            "********************************************************************************\n",
            "user_proxy (to Answer Grader):\n",
            "\n",
            "use the sender response as retrived contentEvaluate the relevance of the retrieved content from sender to the given query:How does exercise price determine for ESOP?. Provide a binary response: 'yes' or 'no', indicating whether the document is relevant. Do not provide explanations or additional information also do not provides python code \n",
            "Context: \n",
            "\n",
            "The exercise price for ESOP is determined by the company and can be issued at a discount or premium, but it must not be less than the par value of the shares. The company has the flexibility to decide the exercise price, and it can be determined based on various factors such as the company's performance, market conditions, and the employees' eligibility criteria.\n",
            "\n",
            "--------------------------------------------------------------------------------\n",
            "[autogen.oai.client: 12-02 17:28:33] {410} WARNING - Model llama-3.1-8b-instant is not found. The cost will be 0. In your config_list, add field {\"price\" : [prompt_price_per_1k, completion_token_price_per_1k]} for customized pricing.\n"
          ]
        },
        {
          "output_type": "stream",
          "name": "stderr",
          "text": [
            "WARNING:autogen.oai.client:Model llama-3.1-8b-instant is not found. The cost will be 0. In your config_list, add field {\"price\" : [prompt_price_per_1k, completion_token_price_per_1k]} for customized pricing.\n"
          ]
        },
        {
          "output_type": "stream",
          "name": "stdout",
          "text": [
            "Answer Grader (to user_proxy):\n",
            "\n",
            "yes\n",
            "\n",
            "--------------------------------------------------------------------------------\n",
            "user_proxy (to Answer Grader):\n",
            "\n",
            "\n",
            "\n",
            "--------------------------------------------------------------------------------\n",
            "[autogen.oai.client: 12-02 17:28:33] {410} WARNING - Model llama-3.1-8b-instant is not found. The cost will be 0. In your config_list, add field {\"price\" : [prompt_price_per_1k, completion_token_price_per_1k]} for customized pricing.\n"
          ]
        },
        {
          "output_type": "stream",
          "name": "stderr",
          "text": [
            "WARNING:autogen.oai.client:Model llama-3.1-8b-instant is not found. The cost will be 0. In your config_list, add field {\"price\" : [prompt_price_per_1k, completion_token_price_per_1k]} for customized pricing.\n"
          ]
        },
        {
          "output_type": "stream",
          "name": "stdout",
          "text": [
            "Answer Grader (to user_proxy):\n",
            "\n",
            "TERMINATE\n",
            "\n",
            "--------------------------------------------------------------------------------\n",
            "[autogen.oai.client: 12-02 17:28:33] {410} WARNING - Model llama-3.1-8b-instant is not found. The cost will be 0. In your config_list, add field {\"price\" : [prompt_price_per_1k, completion_token_price_per_1k]} for customized pricing.\n"
          ]
        },
        {
          "output_type": "stream",
          "name": "stderr",
          "text": [
            "WARNING:autogen.oai.client:Model llama-3.1-8b-instant is not found. The cost will be 0. In your config_list, add field {\"price\" : [prompt_price_per_1k, completion_token_price_per_1k]} for customized pricing.\n"
          ]
        },
        {
          "output_type": "stream",
          "name": "stdout",
          "text": [
            "\n",
            "********************************************************************************\n",
            "Starting a new chat....\n",
            "\n",
            "********************************************************************************\n",
            "user_proxy (to Hallucination Grader):\n",
            "\n",
            "Evaluate whether the response provided by sender is grounded in the retrieved context. Provide a binary score: 'yes' or 'no'. Do not include preamble or explanations.\n",
            "Context: \n",
            "\n",
            "The exercise price for ESOP is determined by the company and can be issued at a discount or premium, but it must not be less than the par value of the shares. The company has the flexibility to decide the exercise price, and it can be determined based on various factors such as the company's performance, market conditions, and the employees' eligibility criteria.\n",
            "TERMINATE\n",
            "\n",
            "--------------------------------------------------------------------------------\n",
            "[autogen.oai.client: 12-02 17:28:33] {410} WARNING - Model llama-3.1-8b-instant is not found. The cost will be 0. In your config_list, add field {\"price\" : [prompt_price_per_1k, completion_token_price_per_1k]} for customized pricing.\n"
          ]
        },
        {
          "output_type": "stream",
          "name": "stderr",
          "text": [
            "WARNING:autogen.oai.client:Model llama-3.1-8b-instant is not found. The cost will be 0. In your config_list, add field {\"price\" : [prompt_price_per_1k, completion_token_price_per_1k]} for customized pricing.\n"
          ]
        },
        {
          "output_type": "stream",
          "name": "stdout",
          "text": [
            "\n",
            "********************************************************************************\n",
            "Starting a new chat....\n",
            "\n",
            "********************************************************************************\n",
            "user_proxy (to Answer Grader):\n",
            "\n",
            "If the response from sender is 'yes', generate a clear and concise final answer. If 'no', perform a web search using 'web_search_tool(query)' and provide the response based on the new search.\n",
            "Context: \n",
            "\n",
            "The exercise price for ESOP is determined by the company and can be issued at a discount or premium, but it must not be less than the par value of the shares. The company has the flexibility to decide the exercise price, and it can be determined based on various factors such as the company's performance, market conditions, and the employees' eligibility criteria.\n",
            "TERMINATE\n",
            "yes\n",
            "\n",
            "--------------------------------------------------------------------------------\n",
            "user_proxy (to Answer Grader):\n",
            "\n",
            "\n",
            "\n",
            "--------------------------------------------------------------------------------\n",
            "[autogen.oai.client: 12-02 17:28:34] {410} WARNING - Model llama-3.1-8b-instant is not found. The cost will be 0. In your config_list, add field {\"price\" : [prompt_price_per_1k, completion_token_price_per_1k]} for customized pricing.\n"
          ]
        },
        {
          "output_type": "stream",
          "name": "stderr",
          "text": [
            "WARNING:autogen.oai.client:Model llama-3.1-8b-instant is not found. The cost will be 0. In your config_list, add field {\"price\" : [prompt_price_per_1k, completion_token_price_per_1k]} for customized pricing.\n"
          ]
        },
        {
          "output_type": "stream",
          "name": "stdout",
          "text": [
            "Answer Grader (to user_proxy):\n",
            "\n",
            "The exercise price for an Employee Stock Ownership Plan (ESOP) is determined by the company and can be issued at a discount or premium, but must not be less than the par value of the shares, and is often based on the company's performance, market conditions, and employees' eligibility criteria.\n",
            "\n",
            "--------------------------------------------------------------------------------\n",
            "[autogen.oai.client: 12-02 17:28:35] {410} WARNING - Model llama-3.1-8b-instant is not found. The cost will be 0. In your config_list, add field {\"price\" : [prompt_price_per_1k, completion_token_price_per_1k]} for customized pricing.\n"
          ]
        },
        {
          "output_type": "stream",
          "name": "stderr",
          "text": [
            "WARNING:autogen.oai.client:Model llama-3.1-8b-instant is not found. The cost will be 0. In your config_list, add field {\"price\" : [prompt_price_per_1k, completion_token_price_per_1k]} for customized pricing.\n"
          ]
        },
        {
          "output_type": "stream",
          "name": "stdout",
          "text": [
            "\n",
            "********************************************************************************\n",
            "Starting a new chat....\n",
            "\n",
            "********************************************************************************\n",
            "Answer Grader (to user_proxy):\n",
            "\n",
            "Here is the finalized answer to your query. I hope this resolves your question effectively.\n",
            "Context: \n",
            "\n",
            "The exercise price for ESOP is determined by the company and can be issued at a discount or premium, but it must not be less than the par value of the shares. The company has the flexibility to decide the exercise price, and it can be determined based on various factors such as the company's performance, market conditions, and the employees' eligibility criteria.\n",
            "TERMINATE\n",
            "yes\n",
            "Here is the finalized answer to your query. I hope this resolves your question effectively.\n",
            "Context: \n",
            "The exercise price for ESOP is determined by the company and can be issued at a discount or premium, but it must not be less than the par value of the shares. The company has the flexibility to decide the exercise price, and it can be determined based on various factors such as the company's performance, market conditions, and the employees' eligibility criteria.\n",
            "TERMINATE\n",
            "\n",
            "--------------------------------------------------------------------------------\n",
            "[autogen.oai.client: 12-02 17:28:35] {410} WARNING - Model llama-3.1-8b-instant is not found. The cost will be 0. In your config_list, add field {\"price\" : [prompt_price_per_1k, completion_token_price_per_1k]} for customized pricing.\n"
          ]
        },
        {
          "output_type": "stream",
          "name": "stderr",
          "text": [
            "WARNING:autogen.oai.client:Model llama-3.1-8b-instant is not found. The cost will be 0. In your config_list, add field {\"price\" : [prompt_price_per_1k, completion_token_price_per_1k]} for customized pricing.\n"
          ]
        }
      ],
      "source": [
        "from autogen import initiate_chats\n",
        "\n",
        "chat_results = initiate_chats(chats)"
      ]
    },
    {
      "cell_type": "code",
      "source": [],
      "metadata": {
        "id": "BPj5P7HrTINs"
      },
      "execution_count": null,
      "outputs": []
    }
  ],
  "metadata": {
    "colab": {
      "provenance": []
    },
    "kernelspec": {
      "display_name": "Python 3",
      "name": "python3"
    },
    "language_info": {
      "name": "python"
    }
  },
  "nbformat": 4,
  "nbformat_minor": 0
}